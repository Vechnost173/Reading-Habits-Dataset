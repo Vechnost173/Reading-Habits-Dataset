{
 "cells": [
  {
   "cell_type": "markdown",
   "id": "907432e7",
   "metadata": {},
   "source": [
    "# DATASET «READING HABITS»"
   ]
  },
  {
   "cell_type": "markdown",
   "id": "c3d2055c",
   "metadata": {},
   "source": [
    "Данный датасет содержит информацию о стиле чтения и читательских привычках. Основа датасета – опрос более 2500  человек. Набор данных содержит информацию о количестве людей, читающих печатные книги, аудиокниги, электронные книги, а также о тех, кто отдает предпочтение журналам и газетам. Датасет может помочь определить зависимости между различными показателями, такими как возраст, доход и образование, и чтением."
   ]
  },
  {
   "cell_type": "code",
   "execution_count": 2,
   "id": "bdb8b3d3",
   "metadata": {},
   "outputs": [],
   "source": [
    "import pandas as pd\n",
    "import numpy as np\n",
    "import matplotlib.pyplot as plt\n",
    "import seaborn as sns"
   ]
  },
  {
   "cell_type": "code",
   "execution_count": 3,
   "id": "33db8654",
   "metadata": {},
   "outputs": [],
   "source": [
    "df_read_full = pd.read_csv('Reading_habit.csv')\n",
    "data = df_read_full\n",
    "\n",
    "#импортируем наш датасет для анализа"
   ]
  },
  {
   "cell_type": "markdown",
   "id": "2eceb496",
   "metadata": {},
   "source": [
    "# Знакомство с датасетом"
   ]
  },
  {
   "cell_type": "code",
   "execution_count": 4,
   "id": "30c3e58c",
   "metadata": {},
   "outputs": [
    {
     "data": {
      "text/plain": [
       "(2832, 14)"
      ]
     },
     "execution_count": 4,
     "metadata": {},
     "output_type": "execute_result"
    }
   ],
   "source": [
    "df_read_full.shape\n",
    "#Наш датасет имеет 2832 записи и 14 колонок"
   ]
  },
  {
   "cell_type": "code",
   "execution_count": 5,
   "id": "d8034a0f",
   "metadata": {},
   "outputs": [
    {
     "name": "stdout",
     "output_type": "stream",
     "text": [
      "<class 'pandas.core.frame.DataFrame'>\n",
      "RangeIndex: 2832 entries, 0 to 2831\n",
      "Data columns (total 14 columns):\n",
      " #   Column                                               Non-Null Count  Dtype \n",
      "---  ------                                               --------------  ----- \n",
      " 0   Age                                                  2832 non-null   int64 \n",
      " 1   Sex                                                  2832 non-null   object\n",
      " 2   Race                                                 2832 non-null   object\n",
      " 3   Marital status?                                      2832 non-null   object\n",
      " 4   Education                                            2832 non-null   object\n",
      " 5   Employement                                          2832 non-null   object\n",
      " 6   Incomes                                              2832 non-null   object\n",
      " 7   How many books did you read during last 12months?    2832 non-null   int64 \n",
      " 8   Read any printed books during last 12months?         2442 non-null   object\n",
      " 9   Read any audiobooks during last 12months?            2442 non-null   object\n",
      " 10  Read any e-books during last 12months?               2442 non-null   object\n",
      " 11  Last book you read, you…                             2442 non-null   object\n",
      " 12  Do you happen to read any daily news or newspapers?  2832 non-null   object\n",
      " 13  Do you happen to read any magazines or journals?     2832 non-null   object\n",
      "dtypes: int64(2), object(12)\n",
      "memory usage: 177.1+ KB\n"
     ]
    }
   ],
   "source": [
    "df_read_full.info()"
   ]
  },
  {
   "cell_type": "markdown",
   "id": "93f74bbd",
   "metadata": {},
   "source": [
    "В некоторых строчках есть пропуски: в вопросах с 7 по 11 количество ответов равно 2442. В целом, есть 14 показателей, по которым мы будем анализировать датасет. Преобладающий тип данных - строковый (object)."
   ]
  },
  {
   "cell_type": "markdown",
   "id": "f5b26f52",
   "metadata": {},
   "source": [
    "Для удобства переименуем колонки датасета"
   ]
  },
  {
   "cell_type": "code",
   "execution_count": 6,
   "id": "4e6df071",
   "metadata": {},
   "outputs": [],
   "source": [
    "df_read_full = pd.DataFrame(data, columns = ['Age', \n",
    "                                        'Sex', \n",
    "                                        'Race',\n",
    "                                        'Marital status?', \n",
    "                                        'Education', \n",
    "                                        'Employement', \n",
    "                                        'Incomes', \n",
    "                                        'How many books did you read during last 12months?', \n",
    "                                        'Read any printed books during last 12months?', \n",
    "                                        'Read any audiobooks during last 12months?', \n",
    "                                        'Read any e-books during last 12months?', \n",
    "                                        'Last book you read, you…', \n",
    "                                        'Do you happen to read any daily news or newspapers?', \n",
    "                                        'Do you happen to read any magazines or journals?'])"
   ]
  },
  {
   "cell_type": "code",
   "execution_count": 7,
   "id": "1fb68b41",
   "metadata": {},
   "outputs": [],
   "source": [
    "df_read_full.rename (columns = {'Age': 'Возраст',\n",
    "                           'Sex': 'Пол',\n",
    "                           'Race': 'Расовая принадлежность',\n",
    "                           'Marital status?': 'Семейное положение',\n",
    "                           'Education': 'Уровень образования',\n",
    "                           'Employement': 'Трудоустройство',\n",
    "                           'Incomes': 'Доход',\n",
    "                           'How many books did you read during last 12months?': 'Количество прочитанных книг за год',\n",
    "                           'Read any printed books during last 12months?': 'Чтение печатных книг за год',\n",
    "                           'Read any audiobooks during last 12months?': 'Прослушивание аудиокниг за год',\n",
    "                           'Read any e-books during last 12months?': 'Чтение электронных книг за год',\n",
    "                           'Last book you read, you…': 'Откуда последняя прочитанная книга',\n",
    "                           'Do you happen to read any daily news or newspapers?': 'Чтение новостей или газет',\n",
    "                           'Do you happen to read any magazines or journals?': 'Чтение журналов'\n",
    "                           }, inplace = True)"
   ]
  },
  {
   "cell_type": "code",
   "execution_count": 8,
   "id": "667abef5",
   "metadata": {},
   "outputs": [
    {
     "data": {
      "text/plain": [
       "Index(['Возраст', 'Пол', 'Расовая принадлежность', 'Семейное положение',\n",
       "       'Уровень образования', 'Трудоустройство', 'Доход',\n",
       "       'Количество прочитанных книг за год', 'Чтение печатных книг за год',\n",
       "       'Прослушивание аудиокниг за год', 'Чтение электронных книг за год',\n",
       "       'Откуда последняя прочитанная книга', 'Чтение новостей или газет',\n",
       "       'Чтение журналов'],\n",
       "      dtype='object')"
      ]
     },
     "execution_count": 8,
     "metadata": {},
     "output_type": "execute_result"
    }
   ],
   "source": [
    "df_read_full.columns\n",
    "\n",
    "#Проверяем, все ли получилось"
   ]
  },
  {
   "cell_type": "code",
   "execution_count": 9,
   "id": "af786cf2",
   "metadata": {
    "scrolled": true
   },
   "outputs": [
    {
     "data": {
      "text/html": [
       "<div>\n",
       "<style scoped>\n",
       "    .dataframe tbody tr th:only-of-type {\n",
       "        vertical-align: middle;\n",
       "    }\n",
       "\n",
       "    .dataframe tbody tr th {\n",
       "        vertical-align: top;\n",
       "    }\n",
       "\n",
       "    .dataframe thead th {\n",
       "        text-align: right;\n",
       "    }\n",
       "</style>\n",
       "<table border=\"1\" class=\"dataframe\">\n",
       "  <thead>\n",
       "    <tr style=\"text-align: right;\">\n",
       "      <th></th>\n",
       "      <th>Возраст</th>\n",
       "      <th>Пол</th>\n",
       "      <th>Расовая принадлежность</th>\n",
       "      <th>Семейное положение</th>\n",
       "      <th>Уровень образования</th>\n",
       "      <th>Трудоустройство</th>\n",
       "      <th>Доход</th>\n",
       "      <th>Количество прочитанных книг за год</th>\n",
       "      <th>Чтение печатных книг за год</th>\n",
       "      <th>Прослушивание аудиокниг за год</th>\n",
       "      <th>Чтение электронных книг за год</th>\n",
       "      <th>Откуда последняя прочитанная книга</th>\n",
       "      <th>Чтение новостей или газет</th>\n",
       "      <th>Чтение журналов</th>\n",
       "    </tr>\n",
       "  </thead>\n",
       "  <tbody>\n",
       "    <tr>\n",
       "      <th>50</th>\n",
       "      <td>65</td>\n",
       "      <td>Female</td>\n",
       "      <td>White</td>\n",
       "      <td>Divorced</td>\n",
       "      <td>Some college, no 4-year degree</td>\n",
       "      <td>Retired</td>\n",
       "      <td>$20,000 to under $30,000</td>\n",
       "      <td>97</td>\n",
       "      <td>Yes</td>\n",
       "      <td>No</td>\n",
       "      <td>No</td>\n",
       "      <td>Borrowed the book from a library</td>\n",
       "      <td>Yes</td>\n",
       "      <td>Yes</td>\n",
       "    </tr>\n",
       "    <tr>\n",
       "      <th>51</th>\n",
       "      <td>64</td>\n",
       "      <td>Female</td>\n",
       "      <td>White</td>\n",
       "      <td>Married</td>\n",
       "      <td>Post-graduate training/professional school aft...</td>\n",
       "      <td>Retired</td>\n",
       "      <td>$100,000 to under $150,000</td>\n",
       "      <td>97</td>\n",
       "      <td>Yes</td>\n",
       "      <td>No</td>\n",
       "      <td>Yes</td>\n",
       "      <td>Purchased the book</td>\n",
       "      <td>Yes</td>\n",
       "      <td>Yes</td>\n",
       "    </tr>\n",
       "    <tr>\n",
       "      <th>52</th>\n",
       "      <td>64</td>\n",
       "      <td>Male</td>\n",
       "      <td>White</td>\n",
       "      <td>Married</td>\n",
       "      <td>Post-graduate training/professional school aft...</td>\n",
       "      <td>Retired</td>\n",
       "      <td>$100,000 to under $150,000</td>\n",
       "      <td>97</td>\n",
       "      <td>Yes</td>\n",
       "      <td>Yes</td>\n",
       "      <td>Yes</td>\n",
       "      <td>Purchased the book</td>\n",
       "      <td>Yes</td>\n",
       "      <td>Yes</td>\n",
       "    </tr>\n",
       "    <tr>\n",
       "      <th>53</th>\n",
       "      <td>64</td>\n",
       "      <td>Female</td>\n",
       "      <td>White</td>\n",
       "      <td>Widowed</td>\n",
       "      <td>High school graduate</td>\n",
       "      <td>Retired</td>\n",
       "      <td>Refused</td>\n",
       "      <td>97</td>\n",
       "      <td>Yes</td>\n",
       "      <td>Yes</td>\n",
       "      <td>Yes</td>\n",
       "      <td>Purchased the book</td>\n",
       "      <td>Yes</td>\n",
       "      <td>Yes</td>\n",
       "    </tr>\n",
       "    <tr>\n",
       "      <th>54</th>\n",
       "      <td>64</td>\n",
       "      <td>Male</td>\n",
       "      <td>White</td>\n",
       "      <td>Married</td>\n",
       "      <td>College graduate</td>\n",
       "      <td>Employed full-time</td>\n",
       "      <td>$100,000 to under $150,000</td>\n",
       "      <td>97</td>\n",
       "      <td>Yes</td>\n",
       "      <td>No</td>\n",
       "      <td>Yes</td>\n",
       "      <td>Purchased the book</td>\n",
       "      <td>Yes</td>\n",
       "      <td>Yes</td>\n",
       "    </tr>\n",
       "    <tr>\n",
       "      <th>55</th>\n",
       "      <td>63</td>\n",
       "      <td>Female</td>\n",
       "      <td>White</td>\n",
       "      <td>Married</td>\n",
       "      <td>Post-graduate training/professional school aft...</td>\n",
       "      <td>Retired</td>\n",
       "      <td>$75,000 to under $100,000</td>\n",
       "      <td>97</td>\n",
       "      <td>Yes</td>\n",
       "      <td>Yes</td>\n",
       "      <td>Yes</td>\n",
       "      <td>Purchased the book</td>\n",
       "      <td>Yes</td>\n",
       "      <td>Yes</td>\n",
       "    </tr>\n",
       "    <tr>\n",
       "      <th>56</th>\n",
       "      <td>63</td>\n",
       "      <td>Female</td>\n",
       "      <td>White</td>\n",
       "      <td>Divorced</td>\n",
       "      <td>Some college, no 4-year degree</td>\n",
       "      <td>Employed full-time</td>\n",
       "      <td>$50,000 to under $75,000</td>\n",
       "      <td>97</td>\n",
       "      <td>Yes</td>\n",
       "      <td>No</td>\n",
       "      <td>No</td>\n",
       "      <td>Purchased the book</td>\n",
       "      <td>Yes</td>\n",
       "      <td>Yes</td>\n",
       "    </tr>\n",
       "    <tr>\n",
       "      <th>57</th>\n",
       "      <td>62</td>\n",
       "      <td>Female</td>\n",
       "      <td>White</td>\n",
       "      <td>Divorced</td>\n",
       "      <td>College graduate</td>\n",
       "      <td>Retired</td>\n",
       "      <td>$20,000 to under $30,000</td>\n",
       "      <td>97</td>\n",
       "      <td>Yes</td>\n",
       "      <td>Yes</td>\n",
       "      <td>Yes</td>\n",
       "      <td>Purchased the book</td>\n",
       "      <td>Yes</td>\n",
       "      <td>Yes</td>\n",
       "    </tr>\n",
       "    <tr>\n",
       "      <th>58</th>\n",
       "      <td>60</td>\n",
       "      <td>Female</td>\n",
       "      <td>White</td>\n",
       "      <td>Widowed</td>\n",
       "      <td>College graduate</td>\n",
       "      <td>Employed full-time</td>\n",
       "      <td>$100,000 to under $150,000</td>\n",
       "      <td>97</td>\n",
       "      <td>Yes</td>\n",
       "      <td>Yes</td>\n",
       "      <td>Yes</td>\n",
       "      <td>Purchased the book</td>\n",
       "      <td>No</td>\n",
       "      <td>Yes</td>\n",
       "    </tr>\n",
       "    <tr>\n",
       "      <th>59</th>\n",
       "      <td>60</td>\n",
       "      <td>Female</td>\n",
       "      <td>White</td>\n",
       "      <td>Single</td>\n",
       "      <td>College graduate</td>\n",
       "      <td>Employed full-time</td>\n",
       "      <td>$50,000 to under $75,000</td>\n",
       "      <td>97</td>\n",
       "      <td>Yes</td>\n",
       "      <td>Yes</td>\n",
       "      <td>Yes</td>\n",
       "      <td>Borrowed the book from a library</td>\n",
       "      <td>Yes</td>\n",
       "      <td>Yes</td>\n",
       "    </tr>\n",
       "    <tr>\n",
       "      <th>60</th>\n",
       "      <td>60</td>\n",
       "      <td>Female</td>\n",
       "      <td>White</td>\n",
       "      <td>Never been married</td>\n",
       "      <td>College graduate</td>\n",
       "      <td>Employed part-time</td>\n",
       "      <td>$50,000 to under $75,000</td>\n",
       "      <td>97</td>\n",
       "      <td>Yes</td>\n",
       "      <td>No</td>\n",
       "      <td>Yes</td>\n",
       "      <td>Purchased the book</td>\n",
       "      <td>Yes</td>\n",
       "      <td>Yes</td>\n",
       "    </tr>\n",
       "    <tr>\n",
       "      <th>61</th>\n",
       "      <td>60</td>\n",
       "      <td>Female</td>\n",
       "      <td>White</td>\n",
       "      <td>Married</td>\n",
       "      <td>College graduate</td>\n",
       "      <td>Employed full-time</td>\n",
       "      <td>$50,000 to under $75,000</td>\n",
       "      <td>97</td>\n",
       "      <td>Yes</td>\n",
       "      <td>No</td>\n",
       "      <td>Yes</td>\n",
       "      <td>Purchased the book</td>\n",
       "      <td>Yes</td>\n",
       "      <td>Yes</td>\n",
       "    </tr>\n",
       "    <tr>\n",
       "      <th>62</th>\n",
       "      <td>60</td>\n",
       "      <td>Female</td>\n",
       "      <td>White</td>\n",
       "      <td>Never been married</td>\n",
       "      <td>College graduate</td>\n",
       "      <td>Retired</td>\n",
       "      <td>$20,000 to under $30,000</td>\n",
       "      <td>97</td>\n",
       "      <td>Yes</td>\n",
       "      <td>Yes</td>\n",
       "      <td>No</td>\n",
       "      <td>Purchased the book</td>\n",
       "      <td>Yes</td>\n",
       "      <td>No</td>\n",
       "    </tr>\n",
       "    <tr>\n",
       "      <th>63</th>\n",
       "      <td>59</td>\n",
       "      <td>Female</td>\n",
       "      <td>White</td>\n",
       "      <td>Married</td>\n",
       "      <td>Post-graduate training/professional school aft...</td>\n",
       "      <td>Retired</td>\n",
       "      <td>Refused</td>\n",
       "      <td>97</td>\n",
       "      <td>Yes</td>\n",
       "      <td>Yes</td>\n",
       "      <td>No</td>\n",
       "      <td>Purchased the book</td>\n",
       "      <td>Yes</td>\n",
       "      <td>Yes</td>\n",
       "    </tr>\n",
       "    <tr>\n",
       "      <th>64</th>\n",
       "      <td>59</td>\n",
       "      <td>Female</td>\n",
       "      <td>White</td>\n",
       "      <td>Married</td>\n",
       "      <td>Post-graduate training/professional school aft...</td>\n",
       "      <td>Retired</td>\n",
       "      <td>$100,000 to under $150,000</td>\n",
       "      <td>97</td>\n",
       "      <td>Yes</td>\n",
       "      <td>Yes</td>\n",
       "      <td>No</td>\n",
       "      <td>Borrowed the book from a friend or family member</td>\n",
       "      <td>Yes</td>\n",
       "      <td>Yes</td>\n",
       "    </tr>\n",
       "    <tr>\n",
       "      <th>65</th>\n",
       "      <td>59</td>\n",
       "      <td>Female</td>\n",
       "      <td>White</td>\n",
       "      <td>Married</td>\n",
       "      <td>College graduate</td>\n",
       "      <td>Employed full-time</td>\n",
       "      <td>$100,000 to under $150,000</td>\n",
       "      <td>97</td>\n",
       "      <td>Yes</td>\n",
       "      <td>No</td>\n",
       "      <td>Yes</td>\n",
       "      <td>Purchased the book</td>\n",
       "      <td>Yes</td>\n",
       "      <td>Yes</td>\n",
       "    </tr>\n",
       "    <tr>\n",
       "      <th>66</th>\n",
       "      <td>58</td>\n",
       "      <td>Female</td>\n",
       "      <td>White</td>\n",
       "      <td>Married</td>\n",
       "      <td>High school graduate</td>\n",
       "      <td>Not employed for pay</td>\n",
       "      <td>$50,000 to under $75,000</td>\n",
       "      <td>97</td>\n",
       "      <td>Yes</td>\n",
       "      <td>No</td>\n",
       "      <td>No</td>\n",
       "      <td>Purchased the book</td>\n",
       "      <td>No</td>\n",
       "      <td>No</td>\n",
       "    </tr>\n",
       "    <tr>\n",
       "      <th>67</th>\n",
       "      <td>58</td>\n",
       "      <td>Male</td>\n",
       "      <td>White</td>\n",
       "      <td>Never been married</td>\n",
       "      <td>Some college, no 4-year degree</td>\n",
       "      <td>Not employed for pay</td>\n",
       "      <td>$10,000 to under $20,000</td>\n",
       "      <td>97</td>\n",
       "      <td>Yes</td>\n",
       "      <td>No</td>\n",
       "      <td>No</td>\n",
       "      <td>Borrowed the book from a library</td>\n",
       "      <td>Yes</td>\n",
       "      <td>Yes</td>\n",
       "    </tr>\n",
       "    <tr>\n",
       "      <th>68</th>\n",
       "      <td>58</td>\n",
       "      <td>Female</td>\n",
       "      <td>White</td>\n",
       "      <td>Married</td>\n",
       "      <td>Some college, no 4-year degree</td>\n",
       "      <td>Employed part-time</td>\n",
       "      <td>$50,000 to under $75,000</td>\n",
       "      <td>97</td>\n",
       "      <td>Yes</td>\n",
       "      <td>No</td>\n",
       "      <td>No</td>\n",
       "      <td>Borrowed the book from a library</td>\n",
       "      <td>Yes</td>\n",
       "      <td>No</td>\n",
       "    </tr>\n",
       "    <tr>\n",
       "      <th>69</th>\n",
       "      <td>58</td>\n",
       "      <td>Female</td>\n",
       "      <td>White</td>\n",
       "      <td>Married</td>\n",
       "      <td>Post-graduate training/professional school aft...</td>\n",
       "      <td>Other</td>\n",
       "      <td>$100,000 to under $150,000</td>\n",
       "      <td>97</td>\n",
       "      <td>Yes</td>\n",
       "      <td>No</td>\n",
       "      <td>No</td>\n",
       "      <td>Borrowed the book from a library</td>\n",
       "      <td>Yes</td>\n",
       "      <td>Yes</td>\n",
       "    </tr>\n",
       "    <tr>\n",
       "      <th>70</th>\n",
       "      <td>57</td>\n",
       "      <td>Female</td>\n",
       "      <td>White</td>\n",
       "      <td>Married</td>\n",
       "      <td>Some college, no 4-year degree</td>\n",
       "      <td>Not employed for pay</td>\n",
       "      <td>$100,000 to under $150,000</td>\n",
       "      <td>97</td>\n",
       "      <td>Yes</td>\n",
       "      <td>Yes</td>\n",
       "      <td>Yes</td>\n",
       "      <td>Borrowed the book from a library</td>\n",
       "      <td>Yes</td>\n",
       "      <td>Yes</td>\n",
       "    </tr>\n",
       "    <tr>\n",
       "      <th>71</th>\n",
       "      <td>56</td>\n",
       "      <td>Female</td>\n",
       "      <td>White</td>\n",
       "      <td>Divorced</td>\n",
       "      <td>High school graduate</td>\n",
       "      <td>Retired</td>\n",
       "      <td>$20,000 to under $30,000</td>\n",
       "      <td>97</td>\n",
       "      <td>Yes</td>\n",
       "      <td>No</td>\n",
       "      <td>No</td>\n",
       "      <td>Purchased the book</td>\n",
       "      <td>No</td>\n",
       "      <td>Yes</td>\n",
       "    </tr>\n",
       "    <tr>\n",
       "      <th>72</th>\n",
       "      <td>55</td>\n",
       "      <td>Female</td>\n",
       "      <td>White</td>\n",
       "      <td>Married</td>\n",
       "      <td>Some college, no 4-year degree</td>\n",
       "      <td>Retired</td>\n",
       "      <td>$50,000 to under $75,000</td>\n",
       "      <td>97</td>\n",
       "      <td>Yes</td>\n",
       "      <td>Yes</td>\n",
       "      <td>Yes</td>\n",
       "      <td>Purchased the book</td>\n",
       "      <td>No</td>\n",
       "      <td>Yes</td>\n",
       "    </tr>\n",
       "    <tr>\n",
       "      <th>73</th>\n",
       "      <td>55</td>\n",
       "      <td>Female</td>\n",
       "      <td>White</td>\n",
       "      <td>Married</td>\n",
       "      <td>Some college, no 4-year degree</td>\n",
       "      <td>Have own business/self-employed</td>\n",
       "      <td>Refused</td>\n",
       "      <td>97</td>\n",
       "      <td>Yes</td>\n",
       "      <td>No</td>\n",
       "      <td>Yes</td>\n",
       "      <td>Purchased the book</td>\n",
       "      <td>Yes</td>\n",
       "      <td>Yes</td>\n",
       "    </tr>\n",
       "    <tr>\n",
       "      <th>74</th>\n",
       "      <td>54</td>\n",
       "      <td>Female</td>\n",
       "      <td>White</td>\n",
       "      <td>Married</td>\n",
       "      <td>College graduate</td>\n",
       "      <td>Employed full-time</td>\n",
       "      <td>Refused</td>\n",
       "      <td>97</td>\n",
       "      <td>Yes</td>\n",
       "      <td>Don’t know</td>\n",
       "      <td>Yes</td>\n",
       "      <td>Borrowed the book from a library</td>\n",
       "      <td>Yes</td>\n",
       "      <td>Yes</td>\n",
       "    </tr>\n",
       "    <tr>\n",
       "      <th>75</th>\n",
       "      <td>53</td>\n",
       "      <td>Female</td>\n",
       "      <td>White</td>\n",
       "      <td>Divorced</td>\n",
       "      <td>High school graduate</td>\n",
       "      <td>Employed full-time</td>\n",
       "      <td>$30,000 to under $40,000</td>\n",
       "      <td>97</td>\n",
       "      <td>Yes</td>\n",
       "      <td>No</td>\n",
       "      <td>No</td>\n",
       "      <td>Purchased the book</td>\n",
       "      <td>No</td>\n",
       "      <td>No</td>\n",
       "    </tr>\n",
       "    <tr>\n",
       "      <th>76</th>\n",
       "      <td>53</td>\n",
       "      <td>Male</td>\n",
       "      <td>White</td>\n",
       "      <td>Divorced</td>\n",
       "      <td>Some college, no 4-year degree</td>\n",
       "      <td>Employed full-time</td>\n",
       "      <td>$50,000 to under $75,000</td>\n",
       "      <td>97</td>\n",
       "      <td>Yes</td>\n",
       "      <td>No</td>\n",
       "      <td>Yes</td>\n",
       "      <td>Purchased the book</td>\n",
       "      <td>No</td>\n",
       "      <td>Yes</td>\n",
       "    </tr>\n",
       "    <tr>\n",
       "      <th>77</th>\n",
       "      <td>52</td>\n",
       "      <td>Female</td>\n",
       "      <td>White</td>\n",
       "      <td>Married</td>\n",
       "      <td>College graduate</td>\n",
       "      <td>Employed part-time</td>\n",
       "      <td>$100,000 to under $150,000</td>\n",
       "      <td>97</td>\n",
       "      <td>Yes</td>\n",
       "      <td>Yes</td>\n",
       "      <td>No</td>\n",
       "      <td>Purchased the book</td>\n",
       "      <td>Yes</td>\n",
       "      <td>Yes</td>\n",
       "    </tr>\n",
       "    <tr>\n",
       "      <th>78</th>\n",
       "      <td>52</td>\n",
       "      <td>Female</td>\n",
       "      <td>White</td>\n",
       "      <td>Married</td>\n",
       "      <td>College graduate</td>\n",
       "      <td>Employed full-time</td>\n",
       "      <td>$20,000 to under $30,000</td>\n",
       "      <td>97</td>\n",
       "      <td>Yes</td>\n",
       "      <td>No</td>\n",
       "      <td>Yes</td>\n",
       "      <td>Got the book some other way</td>\n",
       "      <td>No</td>\n",
       "      <td>No</td>\n",
       "    </tr>\n",
       "    <tr>\n",
       "      <th>79</th>\n",
       "      <td>50</td>\n",
       "      <td>Female</td>\n",
       "      <td>White</td>\n",
       "      <td>Married</td>\n",
       "      <td>Post-graduate training/professional school aft...</td>\n",
       "      <td>Employed full-time</td>\n",
       "      <td>$75,000 to under $100,000</td>\n",
       "      <td>97</td>\n",
       "      <td>Yes</td>\n",
       "      <td>No</td>\n",
       "      <td>Yes</td>\n",
       "      <td>Purchased the book</td>\n",
       "      <td>Yes</td>\n",
       "      <td>Yes</td>\n",
       "    </tr>\n",
       "  </tbody>\n",
       "</table>\n",
       "</div>"
      ],
      "text/plain": [
       "    Возраст     Пол Расовая принадлежность  Семейное положение  \\\n",
       "50       65  Female                  White            Divorced   \n",
       "51       64  Female                  White             Married   \n",
       "52       64    Male                  White             Married   \n",
       "53       64  Female                  White             Widowed   \n",
       "54       64    Male                  White             Married   \n",
       "55       63  Female                  White             Married   \n",
       "56       63  Female                  White            Divorced   \n",
       "57       62  Female                  White            Divorced   \n",
       "58       60  Female                  White             Widowed   \n",
       "59       60  Female                  White              Single   \n",
       "60       60  Female                  White  Never been married   \n",
       "61       60  Female                  White             Married   \n",
       "62       60  Female                  White  Never been married   \n",
       "63       59  Female                  White             Married   \n",
       "64       59  Female                  White             Married   \n",
       "65       59  Female                  White             Married   \n",
       "66       58  Female                  White             Married   \n",
       "67       58    Male                  White  Never been married   \n",
       "68       58  Female                  White             Married   \n",
       "69       58  Female                  White             Married   \n",
       "70       57  Female                  White             Married   \n",
       "71       56  Female                  White            Divorced   \n",
       "72       55  Female                  White             Married   \n",
       "73       55  Female                  White             Married   \n",
       "74       54  Female                  White             Married   \n",
       "75       53  Female                  White            Divorced   \n",
       "76       53    Male                  White            Divorced   \n",
       "77       52  Female                  White             Married   \n",
       "78       52  Female                  White             Married   \n",
       "79       50  Female                  White             Married   \n",
       "\n",
       "                                  Уровень образования  \\\n",
       "50                     Some college, no 4-year degree   \n",
       "51  Post-graduate training/professional school aft...   \n",
       "52  Post-graduate training/professional school aft...   \n",
       "53                               High school graduate   \n",
       "54                                   College graduate   \n",
       "55  Post-graduate training/professional school aft...   \n",
       "56                     Some college, no 4-year degree   \n",
       "57                                   College graduate   \n",
       "58                                   College graduate   \n",
       "59                                   College graduate   \n",
       "60                                   College graduate   \n",
       "61                                   College graduate   \n",
       "62                                   College graduate   \n",
       "63  Post-graduate training/professional school aft...   \n",
       "64  Post-graduate training/professional school aft...   \n",
       "65                                   College graduate   \n",
       "66                               High school graduate   \n",
       "67                     Some college, no 4-year degree   \n",
       "68                     Some college, no 4-year degree   \n",
       "69  Post-graduate training/professional school aft...   \n",
       "70                     Some college, no 4-year degree   \n",
       "71                               High school graduate   \n",
       "72                     Some college, no 4-year degree   \n",
       "73                     Some college, no 4-year degree   \n",
       "74                                   College graduate   \n",
       "75                               High school graduate   \n",
       "76                     Some college, no 4-year degree   \n",
       "77                                   College graduate   \n",
       "78                                   College graduate   \n",
       "79  Post-graduate training/professional school aft...   \n",
       "\n",
       "                    Трудоустройство                       Доход  \\\n",
       "50                          Retired    $20,000 to under $30,000   \n",
       "51                          Retired  $100,000 to under $150,000   \n",
       "52                          Retired  $100,000 to under $150,000   \n",
       "53                          Retired                     Refused   \n",
       "54               Employed full-time  $100,000 to under $150,000   \n",
       "55                          Retired   $75,000 to under $100,000   \n",
       "56               Employed full-time    $50,000 to under $75,000   \n",
       "57                          Retired    $20,000 to under $30,000   \n",
       "58               Employed full-time  $100,000 to under $150,000   \n",
       "59               Employed full-time    $50,000 to under $75,000   \n",
       "60               Employed part-time    $50,000 to under $75,000   \n",
       "61               Employed full-time    $50,000 to under $75,000   \n",
       "62                          Retired    $20,000 to under $30,000   \n",
       "63                          Retired                     Refused   \n",
       "64                          Retired  $100,000 to under $150,000   \n",
       "65               Employed full-time  $100,000 to under $150,000   \n",
       "66             Not employed for pay    $50,000 to under $75,000   \n",
       "67             Not employed for pay    $10,000 to under $20,000   \n",
       "68               Employed part-time    $50,000 to under $75,000   \n",
       "69                            Other  $100,000 to under $150,000   \n",
       "70             Not employed for pay  $100,000 to under $150,000   \n",
       "71                          Retired    $20,000 to under $30,000   \n",
       "72                          Retired    $50,000 to under $75,000   \n",
       "73  Have own business/self-employed                     Refused   \n",
       "74               Employed full-time                     Refused   \n",
       "75               Employed full-time    $30,000 to under $40,000   \n",
       "76               Employed full-time    $50,000 to under $75,000   \n",
       "77               Employed part-time  $100,000 to under $150,000   \n",
       "78               Employed full-time    $20,000 to under $30,000   \n",
       "79               Employed full-time   $75,000 to under $100,000   \n",
       "\n",
       "    Количество прочитанных книг за год Чтение печатных книг за год  \\\n",
       "50                                  97                         Yes   \n",
       "51                                  97                         Yes   \n",
       "52                                  97                         Yes   \n",
       "53                                  97                         Yes   \n",
       "54                                  97                         Yes   \n",
       "55                                  97                         Yes   \n",
       "56                                  97                         Yes   \n",
       "57                                  97                         Yes   \n",
       "58                                  97                         Yes   \n",
       "59                                  97                         Yes   \n",
       "60                                  97                         Yes   \n",
       "61                                  97                         Yes   \n",
       "62                                  97                         Yes   \n",
       "63                                  97                         Yes   \n",
       "64                                  97                         Yes   \n",
       "65                                  97                         Yes   \n",
       "66                                  97                         Yes   \n",
       "67                                  97                         Yes   \n",
       "68                                  97                         Yes   \n",
       "69                                  97                         Yes   \n",
       "70                                  97                         Yes   \n",
       "71                                  97                         Yes   \n",
       "72                                  97                         Yes   \n",
       "73                                  97                         Yes   \n",
       "74                                  97                         Yes   \n",
       "75                                  97                         Yes   \n",
       "76                                  97                         Yes   \n",
       "77                                  97                         Yes   \n",
       "78                                  97                         Yes   \n",
       "79                                  97                         Yes   \n",
       "\n",
       "   Прослушивание аудиокниг за год Чтение электронных книг за год  \\\n",
       "50                             No                             No   \n",
       "51                             No                            Yes   \n",
       "52                            Yes                            Yes   \n",
       "53                            Yes                            Yes   \n",
       "54                             No                            Yes   \n",
       "55                            Yes                            Yes   \n",
       "56                             No                             No   \n",
       "57                            Yes                            Yes   \n",
       "58                            Yes                            Yes   \n",
       "59                            Yes                            Yes   \n",
       "60                             No                            Yes   \n",
       "61                             No                            Yes   \n",
       "62                            Yes                             No   \n",
       "63                            Yes                             No   \n",
       "64                            Yes                             No   \n",
       "65                             No                            Yes   \n",
       "66                             No                             No   \n",
       "67                             No                             No   \n",
       "68                             No                             No   \n",
       "69                             No                             No   \n",
       "70                            Yes                            Yes   \n",
       "71                             No                             No   \n",
       "72                            Yes                            Yes   \n",
       "73                             No                            Yes   \n",
       "74                     Don’t know                            Yes   \n",
       "75                             No                             No   \n",
       "76                             No                            Yes   \n",
       "77                            Yes                             No   \n",
       "78                             No                            Yes   \n",
       "79                             No                            Yes   \n",
       "\n",
       "                  Откуда последняя прочитанная книга  \\\n",
       "50                  Borrowed the book from a library   \n",
       "51                                Purchased the book   \n",
       "52                                Purchased the book   \n",
       "53                                Purchased the book   \n",
       "54                                Purchased the book   \n",
       "55                                Purchased the book   \n",
       "56                                Purchased the book   \n",
       "57                                Purchased the book   \n",
       "58                                Purchased the book   \n",
       "59                  Borrowed the book from a library   \n",
       "60                                Purchased the book   \n",
       "61                                Purchased the book   \n",
       "62                                Purchased the book   \n",
       "63                                Purchased the book   \n",
       "64  Borrowed the book from a friend or family member   \n",
       "65                                Purchased the book   \n",
       "66                                Purchased the book   \n",
       "67                  Borrowed the book from a library   \n",
       "68                  Borrowed the book from a library   \n",
       "69                  Borrowed the book from a library   \n",
       "70                  Borrowed the book from a library   \n",
       "71                                Purchased the book   \n",
       "72                                Purchased the book   \n",
       "73                                Purchased the book   \n",
       "74                  Borrowed the book from a library   \n",
       "75                                Purchased the book   \n",
       "76                                Purchased the book   \n",
       "77                                Purchased the book   \n",
       "78                       Got the book some other way   \n",
       "79                                Purchased the book   \n",
       "\n",
       "   Чтение новостей или газет Чтение журналов  \n",
       "50                       Yes             Yes  \n",
       "51                       Yes             Yes  \n",
       "52                       Yes             Yes  \n",
       "53                       Yes             Yes  \n",
       "54                       Yes             Yes  \n",
       "55                       Yes             Yes  \n",
       "56                       Yes             Yes  \n",
       "57                       Yes             Yes  \n",
       "58                        No             Yes  \n",
       "59                       Yes             Yes  \n",
       "60                       Yes             Yes  \n",
       "61                       Yes             Yes  \n",
       "62                       Yes              No  \n",
       "63                       Yes             Yes  \n",
       "64                       Yes             Yes  \n",
       "65                       Yes             Yes  \n",
       "66                        No              No  \n",
       "67                       Yes             Yes  \n",
       "68                       Yes              No  \n",
       "69                       Yes             Yes  \n",
       "70                       Yes             Yes  \n",
       "71                        No             Yes  \n",
       "72                        No             Yes  \n",
       "73                       Yes             Yes  \n",
       "74                       Yes             Yes  \n",
       "75                        No              No  \n",
       "76                        No             Yes  \n",
       "77                       Yes             Yes  \n",
       "78                        No              No  \n",
       "79                       Yes             Yes  "
      ]
     },
     "execution_count": 9,
     "metadata": {},
     "output_type": "execute_result"
    }
   ],
   "source": [
    "df_read_full.iloc[50:80]\n",
    "#Выведем конкретные ряды и посмотрим на данные с помощью среза"
   ]
  },
  {
   "cell_type": "markdown",
   "id": "351db61a",
   "metadata": {},
   "source": [
    "# Работа с пропущенными значениями"
   ]
  },
  {
   "cell_type": "code",
   "execution_count": 159,
   "id": "575fff0e",
   "metadata": {
    "scrolled": true
   },
   "outputs": [
    {
     "name": "stdout",
     "output_type": "stream",
     "text": [
      "<class 'pandas.core.frame.DataFrame'>\n",
      "RangeIndex: 2832 entries, 0 to 2831\n",
      "Data columns (total 14 columns):\n",
      " #   Column                              Non-Null Count  Dtype \n",
      "---  ------                              --------------  ----- \n",
      " 0   Возраст                             2832 non-null   int64 \n",
      " 1   Пол                                 2832 non-null   object\n",
      " 2   Расовая принадлежность              2832 non-null   object\n",
      " 3   Семейное положение                  2832 non-null   object\n",
      " 4   Уровень образования                 2832 non-null   object\n",
      " 5   Трудоустройство                     2832 non-null   object\n",
      " 6   Доход                               2832 non-null   object\n",
      " 7   Количество прочитанных книг за год  2832 non-null   int64 \n",
      " 8   Чтение печатных книг за год         2442 non-null   object\n",
      " 9   Прослушивание аудиокниг за год      2442 non-null   object\n",
      " 10  Чтение электронных книг за год      2442 non-null   object\n",
      " 11  Откуда последняя прочитанная книга  2442 non-null   object\n",
      " 12  Чтение новостей или газет           2832 non-null   object\n",
      " 13  Чтение журналов                     2832 non-null   object\n",
      "dtypes: int64(2), object(12)\n",
      "memory usage: 177.1+ KB\n"
     ]
    }
   ],
   "source": [
    "df_read_full.info()\n",
    "\n",
    "#Мы видим, что в некоторых колонках есть пропуски"
   ]
  },
  {
   "cell_type": "code",
   "execution_count": 160,
   "id": "0ac217de",
   "metadata": {
    "scrolled": true
   },
   "outputs": [
    {
     "data": {
      "text/plain": [
       "Возраст                                 0\n",
       "Пол                                     0\n",
       "Расовая принадлежность                  0\n",
       "Семейное положение                      0\n",
       "Уровень образования                     0\n",
       "Трудоустройство                         0\n",
       "Доход                                   0\n",
       "Количество прочитанных книг за год      0\n",
       "Чтение печатных книг за год           390\n",
       "Прослушивание аудиокниг за год        390\n",
       "Чтение электронных книг за год        390\n",
       "Откуда последняя прочитанная книга    390\n",
       "Чтение новостей или газет               0\n",
       "Чтение журналов                         0\n",
       "dtype: int64"
      ]
     },
     "execution_count": 160,
     "metadata": {},
     "output_type": "execute_result"
    }
   ],
   "source": [
    "df_read_full.isna().sum()\n",
    "\n",
    "#Таким образом, определяем, в каких колонках и сколько пропусков имеется\n",
    "#Чтение печатных книг за год,Прослушивание аудиокниг за год, Чтение электронных книг за год, Откуда последняя прочитанная книга\n",
    "#Все эти столбцы имеют одинковое количество пропусков - 390. "
   ]
  },
  {
   "cell_type": "markdown",
   "id": "11dcc0b2",
   "metadata": {},
   "source": [
    "В нашем датасете пропуски **составляют 14%**. Заполнение пропусков в нашем случае медианой или средним значением **не так уж целесообразно**, так как у всех людей совершенно разные предпочтения по чтению, разные темпы и возможноти. Таким образом, логичнее **избавиться от пропусков** для дальнейшего анализа. "
   ]
  },
  {
   "cell_type": "code",
   "execution_count": 161,
   "id": "a92772b0",
   "metadata": {},
   "outputs": [],
   "source": [
    "df_read = df_read_full.dropna(subset = {'Чтение печатных книг за год', \n",
    "                         'Прослушивание аудиокниг за год', \n",
    "                         'Чтение электронных книг за год', \n",
    "                         'Откуда последняя прочитанная книга'})\n",
    "\n",
    "#сохраняем в качестве новой переменной и проверяем количество данных."
   ]
  },
  {
   "cell_type": "code",
   "execution_count": 162,
   "id": "22d88907",
   "metadata": {},
   "outputs": [
    {
     "data": {
      "text/plain": [
       "(2442, 14)"
      ]
     },
     "execution_count": 162,
     "metadata": {},
     "output_type": "execute_result"
    }
   ],
   "source": [
    "df_read.shape"
   ]
  },
  {
   "cell_type": "markdown",
   "id": "8cc26af2",
   "metadata": {},
   "source": [
    "Необходимо узнать, какие ответы есть в небинарных столбцах. Используем команду .unique"
   ]
  },
  {
   "cell_type": "code",
   "execution_count": 163,
   "id": "d288853b",
   "metadata": {},
   "outputs": [
    {
     "data": {
      "text/plain": [
       "array([66, 46, 32, 27, 16, 55, 63, 60, 50, 29, 23, 19, 89, 88, 84, 81, 80,\n",
       "       79, 78, 77, 76, 75, 73, 71, 70, 69, 68, 67, 65, 64, 62, 59, 58, 57,\n",
       "       56, 54, 53, 52, 45, 44, 42, 41, 40, 38, 37, 36, 35, 34, 33, 30, 28,\n",
       "       26, 25, 24, 22, 21, 20, 18, 17, 48, 47, 74, 61, 39, 31, 51, 90, 83,\n",
       "       72, 49, 86, 82, 43, 85, 91, 87, 93, 92], dtype=int64)"
      ]
     },
     "execution_count": 163,
     "metadata": {},
     "output_type": "execute_result"
    }
   ],
   "source": [
    "df_read_full['Возраст'].unique()"
   ]
  },
  {
   "cell_type": "code",
   "execution_count": 164,
   "id": "87eeaf80",
   "metadata": {},
   "outputs": [
    {
     "data": {
      "text/plain": [
       "0    50\n",
       "Name: Возраст, dtype: int64"
      ]
     },
     "execution_count": 164,
     "metadata": {},
     "output_type": "execute_result"
    }
   ],
   "source": [
    "df_read_full['Возраст'].mode()\n",
    "\n",
    "#Узнав моду данного признака, можно сделать вывод, что большая часть опрошенных являются представителями более старшего поколения\n"
   ]
  },
  {
   "cell_type": "code",
   "execution_count": 165,
   "id": "7cfeb702",
   "metadata": {},
   "outputs": [
    {
     "data": {
      "text/plain": [
       "16"
      ]
     },
     "execution_count": 165,
     "metadata": {},
     "output_type": "execute_result"
    }
   ],
   "source": [
    "df_read['Возраст'].min() #16 - минимальный возраст среди опрошенных"
   ]
  },
  {
   "cell_type": "code",
   "execution_count": 166,
   "id": "b5d327bf",
   "metadata": {},
   "outputs": [
    {
     "data": {
      "text/plain": [
       "93"
      ]
     },
     "execution_count": 166,
     "metadata": {},
     "output_type": "execute_result"
    }
   ],
   "source": [
    "df_read['Возраст'].max() #93 - максимальный возраст среди опрошенных"
   ]
  },
  {
   "cell_type": "code",
   "execution_count": 167,
   "id": "23a4f7f7",
   "metadata": {},
   "outputs": [
    {
     "data": {
      "text/plain": [
       "array(['Refused', 'Native American/American Indian', 'Mixed race',\n",
       "       'Asian or Pacific Islander', 'Black or African-American', 'White',\n",
       "       'Don’t know', 'Other'], dtype=object)"
      ]
     },
     "execution_count": 167,
     "metadata": {},
     "output_type": "execute_result"
    }
   ],
   "source": [
    "df_read['Расовая принадлежность'].unique()"
   ]
  },
  {
   "cell_type": "code",
   "execution_count": 168,
   "id": "ac1043ff",
   "metadata": {},
   "outputs": [
    {
     "data": {
      "text/plain": [
       "White                              1927\n",
       "Black or African-American           282\n",
       "Asian or Pacific Islander            62\n",
       "Mixed race                           55\n",
       "Other                                48\n",
       "Refused                              35\n",
       "Native American/American Indian      24\n",
       "Don’t know                            9\n",
       "Name: Расовая принадлежность, dtype: int64"
      ]
     },
     "execution_count": 168,
     "metadata": {},
     "output_type": "execute_result"
    }
   ],
   "source": [
    "df_read['Расовая принадлежность'].value_counts()\n",
    "\n",
    "#Превалирующее число опрошенных определяют себя в качестве \"White\""
   ]
  },
  {
   "cell_type": "code",
   "execution_count": 169,
   "id": "0ecf4d13",
   "metadata": {},
   "outputs": [
    {
     "data": {
      "text/plain": [
       "array(['Divorced', 'Married', 'Never been married', 'Widowed',\n",
       "       'Don’t know', 'Living with a partner', 'Single', 'Separated'],\n",
       "      dtype=object)"
      ]
     },
     "execution_count": 169,
     "metadata": {},
     "output_type": "execute_result"
    }
   ],
   "source": [
    "df_read['Семейное положение'].unique()"
   ]
  },
  {
   "cell_type": "code",
   "execution_count": 170,
   "id": "ba30518a",
   "metadata": {},
   "outputs": [
    {
     "data": {
      "text/plain": [
       "Married                  1333\n",
       "Never been married        540\n",
       "Divorced                  196\n",
       "Widowed                   153\n",
       "Living with a partner     121\n",
       "Single                     48\n",
       "Separated                  36\n",
       "Don’t know                 15\n",
       "Name: Семейное положение, dtype: int64"
      ]
     },
     "execution_count": 170,
     "metadata": {},
     "output_type": "execute_result"
    }
   ],
   "source": [
    "df_read['Семейное положение'].value_counts()\n",
    "\n",
    "#Более половины опрошенных находятся в браке."
   ]
  },
  {
   "cell_type": "code",
   "execution_count": 171,
   "id": "87b83976",
   "metadata": {},
   "outputs": [
    {
     "data": {
      "text/plain": [
       "array(['College graduate', 'High school graduate',\n",
       "       'High school incomplete', 'Some college, no 4-year degree',\n",
       "       'Post-graduate training/professional school after college',\n",
       "       'Technical, trade or vocational school AFTER high school', 'None',\n",
       "       'Don’t know'], dtype=object)"
      ]
     },
     "execution_count": 171,
     "metadata": {},
     "output_type": "execute_result"
    }
   ],
   "source": [
    "df_read['Уровень образования'].unique()\n",
    "\n",
    "#Исходя из этих данных, мы сделали градацию по уровню образованиия от самого высокого в этом списке, до самого низкого:\n",
    "#Post-graduate training/professional school after college,\n",
    "#College graduate,\n",
    "#Technical, trade or vocational school AFTER high school,\n",
    "#Some college, no 4-year degree,\n",
    "#High school graduate,\n",
    "#High school incomplete, \n",
    "#None"
   ]
  },
  {
   "cell_type": "code",
   "execution_count": 172,
   "id": "242e1de1",
   "metadata": {},
   "outputs": [
    {
     "data": {
      "text/plain": [
       "0    Some college, no 4-year degree\n",
       "Name: Уровень образования, dtype: object"
      ]
     },
     "execution_count": 172,
     "metadata": {},
     "output_type": "execute_result"
    }
   ],
   "source": [
    "df_read['Уровень образования'].mode()\n",
    "#Узнаем, какой уровень образования у большинства опрошенных\n",
    "#Модой является неоконченное обучение в колледже. Однако, есть основания полагать, что пристуствует бимодальность"
   ]
  },
  {
   "cell_type": "code",
   "execution_count": 173,
   "id": "81dd95bc",
   "metadata": {},
   "outputs": [
    {
     "data": {
      "text/plain": [
       "Some college, no 4-year degree                              579\n",
       "College graduate                                            568\n",
       "High school graduate                                        522\n",
       "Post-graduate training/professional school after college    485\n",
       "High school incomplete                                      205\n",
       "Technical, trade or vocational school AFTER high school      49\n",
       "None                                                         30\n",
       "Don’t know                                                    4\n",
       "Name: Уровень образования, dtype: int64"
      ]
     },
     "execution_count": 173,
     "metadata": {},
     "output_type": "execute_result"
    }
   ],
   "source": [
    "df_read['Уровень образования'].value_counts()\n",
    "\n",
    "#Категория \"College graduate\" лишь не на много отстает от моды и в целом тоже является одним из популярных значений.\n",
    "#Среди опрошенных очень маленький процент тех, кто не имеет образования или не знает, какой уровень образования имеют"
   ]
  },
  {
   "cell_type": "code",
   "execution_count": 174,
   "id": "38c476e4",
   "metadata": {},
   "outputs": [
    {
     "data": {
      "text/plain": [
       "array(['Retired', 'Employed full-time', 'Employed part-time',\n",
       "       'Have own business/self-employed', 'Student', 'Other',\n",
       "       'Not employed for pay', 'Disabled'], dtype=object)"
      ]
     },
     "execution_count": 174,
     "metadata": {},
     "output_type": "execute_result"
    }
   ],
   "source": [
    "df_read['Трудоустройство'].unique()"
   ]
  },
  {
   "cell_type": "code",
   "execution_count": 175,
   "id": "53529c20",
   "metadata": {},
   "outputs": [
    {
     "data": {
      "text/plain": [
       "array(['$20,000 to under $30,000', 'Less than $10,000',\n",
       "       '$40,000 to under $50,000', '$10,000 to under $20,000',\n",
       "       '$50,000 to under $75,000', '$100,000 to under $150,000',\n",
       "       '$75,000 to under $100,000', '9$100,000 to under $150,000',\n",
       "       '$30,000 to under $40,000', 'Refused'], dtype=object)"
      ]
     },
     "execution_count": 175,
     "metadata": {},
     "output_type": "execute_result"
    }
   ],
   "source": [
    "df_read['Доход'].unique()"
   ]
  },
  {
   "cell_type": "code",
   "execution_count": 176,
   "id": "cd4fc8fa",
   "metadata": {
    "scrolled": true
   },
   "outputs": [
    {
     "data": {
      "text/plain": [
       "$100,000 to under $150,000     503\n",
       "$50,000 to under $75,000       353\n",
       "$75,000 to under $100,000      286\n",
       "Refused                        246\n",
       "$30,000 to under $40,000       224\n",
       "$20,000 to under $30,000       200\n",
       "$40,000 to under $50,000       182\n",
       "9$100,000 to under $150,000    173\n",
       "$10,000 to under $20,000       158\n",
       "Less than $10,000              117\n",
       "Name: Доход, dtype: int64"
      ]
     },
     "execution_count": 176,
     "metadata": {},
     "output_type": "execute_result"
    }
   ],
   "source": [
    "df_read['Доход'].value_counts()\n",
    "#Превалируют в исследовании люди, имеющие один из самых высоких доходов из предложенных вариантов"
   ]
  },
  {
   "cell_type": "code",
   "execution_count": 177,
   "id": "c4a2111e",
   "metadata": {},
   "outputs": [
    {
     "data": {
      "text/plain": [
       "array([97, 96, 90, 84, 80, 76, 75, 70, 67, 65, 60, 55, 54, 52, 51, 50, 48,\n",
       "       47, 45, 43, 42, 40, 38, 37, 36, 35, 32, 30, 26, 25, 24, 23, 22, 20,\n",
       "       19, 18, 17, 16, 15, 14, 13, 12, 11, 10,  9,  8,  7,  6,  5,  4,  3,\n",
       "        2,  1], dtype=int64)"
      ]
     },
     "execution_count": 177,
     "metadata": {},
     "output_type": "execute_result"
    }
   ],
   "source": [
    "df_read['Количество прочитанных книг за год'].unique()"
   ]
  },
  {
   "cell_type": "code",
   "execution_count": 178,
   "id": "1794b392",
   "metadata": {},
   "outputs": [
    {
     "data": {
      "text/plain": [
       "0    3\n",
       "Name: Количество прочитанных книг за год, dtype: int64"
      ]
     },
     "execution_count": 178,
     "metadata": {},
     "output_type": "execute_result"
    }
   ],
   "source": [
    "df_read['Количество прочитанных книг за год'].mode()\n",
    "\n",
    "#290 опрошенных прочитали 3 книги за год, что сделало 3 модой данного признака. "
   ]
  },
  {
   "cell_type": "code",
   "execution_count": 179,
   "id": "56a8c532",
   "metadata": {},
   "outputs": [
    {
     "data": {
      "text/plain": [
       "3     209\n",
       "6     172\n",
       "2     169\n",
       "5     167\n",
       "4     166\n",
       "10    162\n",
       "20    159\n",
       "12    159\n",
       "1     149\n",
       "97    124\n",
       "30    109\n",
       "50    108\n",
       "15    103\n",
       "25     82\n",
       "8      69\n",
       "40     53\n",
       "7      49\n",
       "24     35\n",
       "60     19\n",
       "36     16\n",
       "35     15\n",
       "96     15\n",
       "75     14\n",
       "13     12\n",
       "9      11\n",
       "16     11\n",
       "18     10\n",
       "70     10\n",
       "14      9\n",
       "45      7\n",
       "17      6\n",
       "80      6\n",
       "48      5\n",
       "11      4\n",
       "32      3\n",
       "55      3\n",
       "90      2\n",
       "26      2\n",
       "52      2\n",
       "65      2\n",
       "47      2\n",
       "19      1\n",
       "51      1\n",
       "84      1\n",
       "54      1\n",
       "76      1\n",
       "43      1\n",
       "42      1\n",
       "38      1\n",
       "67      1\n",
       "37      1\n",
       "22      1\n",
       "23      1\n",
       "Name: Количество прочитанных книг за год, dtype: int64"
      ]
     },
     "execution_count": 179,
     "metadata": {},
     "output_type": "execute_result"
    }
   ],
   "source": [
    "df_read['Количество прочитанных книг за год'].value_counts()"
   ]
  },
  {
   "cell_type": "code",
   "execution_count": 180,
   "id": "d6ecc1a7",
   "metadata": {},
   "outputs": [
    {
     "data": {
      "text/plain": [
       "array(['Purchased the book',\n",
       "       'Borrowed the book from a friend or family member',\n",
       "       'Borrowed the book from a library', 'Got the book some other way',\n",
       "       '8', '9'], dtype=object)"
      ]
     },
     "execution_count": 180,
     "metadata": {},
     "output_type": "execute_result"
    }
   ],
   "source": [
    "df_read['Откуда последняя прочитанная книга'].unique()"
   ]
  },
  {
   "cell_type": "code",
   "execution_count": 181,
   "id": "49bb100c",
   "metadata": {},
   "outputs": [
    {
     "data": {
      "text/plain": [
       "Purchased the book                                  1266\n",
       "Borrowed the book from a friend or family member     501\n",
       "Borrowed the book from a library                     335\n",
       "Got the book some other way                          309\n",
       "8                                                     25\n",
       "9                                                      6\n",
       "Name: Откуда последняя прочитанная книга, dtype: int64"
      ]
     },
     "execution_count": 181,
     "metadata": {},
     "output_type": "execute_result"
    }
   ],
   "source": [
    "df_read['Откуда последняя прочитанная книга'].value_counts()\n",
    "\n",
    "#Большинство (с большим отрывом) опрошенных предпочитают покупать книги, остальные берут у друзей или в библиотеке\n",
    "#возможно, это был открытый вопрос, так как в данных есть совсем не понятные ответы \"8\" или \"9\"."
   ]
  },
  {
   "cell_type": "markdown",
   "id": "64cf0f7a",
   "metadata": {},
   "source": [
    "# Создание новых переменных и перекодирование в бинарные данные"
   ]
  },
  {
   "cell_type": "markdown",
   "id": "85947289",
   "metadata": {},
   "source": [
    "В нашем датасете есть несколько вопросов в двумя возможными ответами - \"Да\" или \"Нет\". Мы можем перекодировать ответы, оставив только 0 и 1 в качестве ответов, а также изменить тип переменной на dtype: int64"
   ]
  },
  {
   "cell_type": "code",
   "execution_count": 182,
   "id": "916db8ee",
   "metadata": {},
   "outputs": [
    {
     "data": {
      "text/html": [
       "<div>\n",
       "<style scoped>\n",
       "    .dataframe tbody tr th:only-of-type {\n",
       "        vertical-align: middle;\n",
       "    }\n",
       "\n",
       "    .dataframe tbody tr th {\n",
       "        vertical-align: top;\n",
       "    }\n",
       "\n",
       "    .dataframe thead th {\n",
       "        text-align: right;\n",
       "    }\n",
       "</style>\n",
       "<table border=\"1\" class=\"dataframe\">\n",
       "  <thead>\n",
       "    <tr style=\"text-align: right;\">\n",
       "      <th></th>\n",
       "      <th>Возраст</th>\n",
       "      <th>Пол</th>\n",
       "      <th>Расовая принадлежность</th>\n",
       "      <th>Семейное положение</th>\n",
       "      <th>Уровень образования</th>\n",
       "      <th>Трудоустройство</th>\n",
       "      <th>Доход</th>\n",
       "      <th>Количество прочитанных книг за год</th>\n",
       "      <th>Чтение печатных книг за год</th>\n",
       "      <th>Прослушивание аудиокниг за год</th>\n",
       "      <th>Чтение электронных книг за год</th>\n",
       "      <th>Откуда последняя прочитанная книга</th>\n",
       "      <th>Чтение новостей или газет</th>\n",
       "      <th>Чтение журналов</th>\n",
       "    </tr>\n",
       "  </thead>\n",
       "  <tbody>\n",
       "    <tr>\n",
       "      <th>0</th>\n",
       "      <td>66</td>\n",
       "      <td>Male</td>\n",
       "      <td>Refused</td>\n",
       "      <td>Divorced</td>\n",
       "      <td>College graduate</td>\n",
       "      <td>Retired</td>\n",
       "      <td>$20,000 to under $30,000</td>\n",
       "      <td>97</td>\n",
       "      <td>Yes</td>\n",
       "      <td>No</td>\n",
       "      <td>Yes</td>\n",
       "      <td>Purchased the book</td>\n",
       "      <td>No</td>\n",
       "      <td>Yes</td>\n",
       "    </tr>\n",
       "    <tr>\n",
       "      <th>1</th>\n",
       "      <td>46</td>\n",
       "      <td>Male</td>\n",
       "      <td>Native American/American Indian</td>\n",
       "      <td>Married</td>\n",
       "      <td>High school graduate</td>\n",
       "      <td>Employed full-time</td>\n",
       "      <td>Less than $10,000</td>\n",
       "      <td>97</td>\n",
       "      <td>Yes</td>\n",
       "      <td>Yes</td>\n",
       "      <td>Yes</td>\n",
       "      <td>Purchased the book</td>\n",
       "      <td>Yes</td>\n",
       "      <td>Yes</td>\n",
       "    </tr>\n",
       "    <tr>\n",
       "      <th>2</th>\n",
       "      <td>32</td>\n",
       "      <td>Male</td>\n",
       "      <td>Mixed race</td>\n",
       "      <td>Never been married</td>\n",
       "      <td>High school graduate</td>\n",
       "      <td>Employed full-time</td>\n",
       "      <td>Less than $10,000</td>\n",
       "      <td>97</td>\n",
       "      <td>No</td>\n",
       "      <td>Yes</td>\n",
       "      <td>Yes</td>\n",
       "      <td>Borrowed the book from a friend or family member</td>\n",
       "      <td>Yes</td>\n",
       "      <td>Yes</td>\n",
       "    </tr>\n",
       "    <tr>\n",
       "      <th>3</th>\n",
       "      <td>27</td>\n",
       "      <td>Male</td>\n",
       "      <td>Mixed race</td>\n",
       "      <td>Married</td>\n",
       "      <td>High school graduate</td>\n",
       "      <td>Employed full-time</td>\n",
       "      <td>$40,000 to under $50,000</td>\n",
       "      <td>97</td>\n",
       "      <td>Yes</td>\n",
       "      <td>No</td>\n",
       "      <td>Yes</td>\n",
       "      <td>Borrowed the book from a library</td>\n",
       "      <td>Yes</td>\n",
       "      <td>No</td>\n",
       "    </tr>\n",
       "    <tr>\n",
       "      <th>4</th>\n",
       "      <td>16</td>\n",
       "      <td>Female</td>\n",
       "      <td>Mixed race</td>\n",
       "      <td>Never been married</td>\n",
       "      <td>High school incomplete</td>\n",
       "      <td>Employed part-time</td>\n",
       "      <td>$10,000 to under $20,000</td>\n",
       "      <td>97</td>\n",
       "      <td>Yes</td>\n",
       "      <td>Yes</td>\n",
       "      <td>No</td>\n",
       "      <td>Purchased the book</td>\n",
       "      <td>Yes</td>\n",
       "      <td>No</td>\n",
       "    </tr>\n",
       "  </tbody>\n",
       "</table>\n",
       "</div>"
      ],
      "text/plain": [
       "   Возраст     Пол           Расовая принадлежность  Семейное положение  \\\n",
       "0       66    Male                          Refused            Divorced   \n",
       "1       46    Male  Native American/American Indian             Married   \n",
       "2       32    Male                       Mixed race  Never been married   \n",
       "3       27    Male                       Mixed race             Married   \n",
       "4       16  Female                       Mixed race  Never been married   \n",
       "\n",
       "      Уровень образования     Трудоустройство                     Доход  \\\n",
       "0        College graduate             Retired  $20,000 to under $30,000   \n",
       "1    High school graduate  Employed full-time         Less than $10,000   \n",
       "2    High school graduate  Employed full-time         Less than $10,000   \n",
       "3    High school graduate  Employed full-time  $40,000 to under $50,000   \n",
       "4  High school incomplete  Employed part-time  $10,000 to under $20,000   \n",
       "\n",
       "   Количество прочитанных книг за год Чтение печатных книг за год  \\\n",
       "0                                  97                         Yes   \n",
       "1                                  97                         Yes   \n",
       "2                                  97                          No   \n",
       "3                                  97                         Yes   \n",
       "4                                  97                         Yes   \n",
       "\n",
       "  Прослушивание аудиокниг за год Чтение электронных книг за год  \\\n",
       "0                             No                            Yes   \n",
       "1                            Yes                            Yes   \n",
       "2                            Yes                            Yes   \n",
       "3                             No                            Yes   \n",
       "4                            Yes                             No   \n",
       "\n",
       "                 Откуда последняя прочитанная книга Чтение новостей или газет  \\\n",
       "0                                Purchased the book                        No   \n",
       "1                                Purchased the book                       Yes   \n",
       "2  Borrowed the book from a friend or family member                       Yes   \n",
       "3                  Borrowed the book from a library                       Yes   \n",
       "4                                Purchased the book                       Yes   \n",
       "\n",
       "  Чтение журналов  \n",
       "0             Yes  \n",
       "1             Yes  \n",
       "2             Yes  \n",
       "3              No  \n",
       "4              No  "
      ]
     },
     "execution_count": 182,
     "metadata": {},
     "output_type": "execute_result"
    }
   ],
   "source": [
    "df_read.head()"
   ]
  },
  {
   "cell_type": "code",
   "execution_count": 183,
   "id": "09130cb1",
   "metadata": {},
   "outputs": [],
   "source": [
    "df_read['Чтение печатных книг за год'] = df_read['Чтение печатных книг за год'].apply(lambda x: 1 if x == 'Yes' else 0)\n",
    "\n",
    "pd.options.mode.chained_assignment = None  #код позволил убрать высвечивающуся ошибку (сохранение переменной в таком виде было преложено в курсе)"
   ]
  },
  {
   "cell_type": "code",
   "execution_count": 184,
   "id": "db4c8b47",
   "metadata": {},
   "outputs": [],
   "source": [
    "df_read['Прослушивание аудиокниг за год'] = df_read['Прослушивание аудиокниг за год'].apply(lambda x: 1 if x == 'Yes' else 0)"
   ]
  },
  {
   "cell_type": "code",
   "execution_count": 185,
   "id": "8ba0aaa1",
   "metadata": {},
   "outputs": [],
   "source": [
    "df_read['Чтение электронных книг за год'] = df_read['Чтение электронных книг за год'].apply(lambda x: 1 if x == 'Yes' else 0)"
   ]
  },
  {
   "cell_type": "code",
   "execution_count": 186,
   "id": "325fb0e0",
   "metadata": {},
   "outputs": [],
   "source": [
    "df_read['Чтение новостей или газет'] = df_read['Чтение новостей или газет'].apply(lambda x: 1 if x == 'Yes' else 0)"
   ]
  },
  {
   "cell_type": "code",
   "execution_count": 187,
   "id": "e16b0f54",
   "metadata": {},
   "outputs": [],
   "source": [
    "df_read['Чтение журналов'] = df_read['Чтение журналов'].apply(lambda x: 1 if x == 'Yes' else 0)"
   ]
  },
  {
   "cell_type": "code",
   "execution_count": 188,
   "id": "b605f1ef",
   "metadata": {},
   "outputs": [
    {
     "data": {
      "text/html": [
       "<div>\n",
       "<style scoped>\n",
       "    .dataframe tbody tr th:only-of-type {\n",
       "        vertical-align: middle;\n",
       "    }\n",
       "\n",
       "    .dataframe tbody tr th {\n",
       "        vertical-align: top;\n",
       "    }\n",
       "\n",
       "    .dataframe thead th {\n",
       "        text-align: right;\n",
       "    }\n",
       "</style>\n",
       "<table border=\"1\" class=\"dataframe\">\n",
       "  <thead>\n",
       "    <tr style=\"text-align: right;\">\n",
       "      <th></th>\n",
       "      <th>Возраст</th>\n",
       "      <th>Пол</th>\n",
       "      <th>Расовая принадлежность</th>\n",
       "      <th>Семейное положение</th>\n",
       "      <th>Уровень образования</th>\n",
       "      <th>Трудоустройство</th>\n",
       "      <th>Доход</th>\n",
       "      <th>Количество прочитанных книг за год</th>\n",
       "      <th>Чтение печатных книг за год</th>\n",
       "      <th>Прослушивание аудиокниг за год</th>\n",
       "      <th>Чтение электронных книг за год</th>\n",
       "      <th>Откуда последняя прочитанная книга</th>\n",
       "      <th>Чтение новостей или газет</th>\n",
       "      <th>Чтение журналов</th>\n",
       "    </tr>\n",
       "  </thead>\n",
       "  <tbody>\n",
       "    <tr>\n",
       "      <th>0</th>\n",
       "      <td>66</td>\n",
       "      <td>Male</td>\n",
       "      <td>Refused</td>\n",
       "      <td>Divorced</td>\n",
       "      <td>College graduate</td>\n",
       "      <td>Retired</td>\n",
       "      <td>$20,000 to under $30,000</td>\n",
       "      <td>97</td>\n",
       "      <td>1</td>\n",
       "      <td>0</td>\n",
       "      <td>1</td>\n",
       "      <td>Purchased the book</td>\n",
       "      <td>0</td>\n",
       "      <td>1</td>\n",
       "    </tr>\n",
       "    <tr>\n",
       "      <th>1</th>\n",
       "      <td>46</td>\n",
       "      <td>Male</td>\n",
       "      <td>Native American/American Indian</td>\n",
       "      <td>Married</td>\n",
       "      <td>High school graduate</td>\n",
       "      <td>Employed full-time</td>\n",
       "      <td>Less than $10,000</td>\n",
       "      <td>97</td>\n",
       "      <td>1</td>\n",
       "      <td>1</td>\n",
       "      <td>1</td>\n",
       "      <td>Purchased the book</td>\n",
       "      <td>1</td>\n",
       "      <td>1</td>\n",
       "    </tr>\n",
       "    <tr>\n",
       "      <th>2</th>\n",
       "      <td>32</td>\n",
       "      <td>Male</td>\n",
       "      <td>Mixed race</td>\n",
       "      <td>Never been married</td>\n",
       "      <td>High school graduate</td>\n",
       "      <td>Employed full-time</td>\n",
       "      <td>Less than $10,000</td>\n",
       "      <td>97</td>\n",
       "      <td>0</td>\n",
       "      <td>1</td>\n",
       "      <td>1</td>\n",
       "      <td>Borrowed the book from a friend or family member</td>\n",
       "      <td>1</td>\n",
       "      <td>1</td>\n",
       "    </tr>\n",
       "    <tr>\n",
       "      <th>3</th>\n",
       "      <td>27</td>\n",
       "      <td>Male</td>\n",
       "      <td>Mixed race</td>\n",
       "      <td>Married</td>\n",
       "      <td>High school graduate</td>\n",
       "      <td>Employed full-time</td>\n",
       "      <td>$40,000 to under $50,000</td>\n",
       "      <td>97</td>\n",
       "      <td>1</td>\n",
       "      <td>0</td>\n",
       "      <td>1</td>\n",
       "      <td>Borrowed the book from a library</td>\n",
       "      <td>1</td>\n",
       "      <td>0</td>\n",
       "    </tr>\n",
       "    <tr>\n",
       "      <th>4</th>\n",
       "      <td>16</td>\n",
       "      <td>Female</td>\n",
       "      <td>Mixed race</td>\n",
       "      <td>Never been married</td>\n",
       "      <td>High school incomplete</td>\n",
       "      <td>Employed part-time</td>\n",
       "      <td>$10,000 to under $20,000</td>\n",
       "      <td>97</td>\n",
       "      <td>1</td>\n",
       "      <td>1</td>\n",
       "      <td>0</td>\n",
       "      <td>Purchased the book</td>\n",
       "      <td>1</td>\n",
       "      <td>0</td>\n",
       "    </tr>\n",
       "    <tr>\n",
       "      <th>...</th>\n",
       "      <td>...</td>\n",
       "      <td>...</td>\n",
       "      <td>...</td>\n",
       "      <td>...</td>\n",
       "      <td>...</td>\n",
       "      <td>...</td>\n",
       "      <td>...</td>\n",
       "      <td>...</td>\n",
       "      <td>...</td>\n",
       "      <td>...</td>\n",
       "      <td>...</td>\n",
       "      <td>...</td>\n",
       "      <td>...</td>\n",
       "      <td>...</td>\n",
       "    </tr>\n",
       "    <tr>\n",
       "      <th>2437</th>\n",
       "      <td>16</td>\n",
       "      <td>Female</td>\n",
       "      <td>White</td>\n",
       "      <td>Never been married</td>\n",
       "      <td>High school incomplete</td>\n",
       "      <td>Not employed for pay</td>\n",
       "      <td>$30,000 to under $40,000</td>\n",
       "      <td>1</td>\n",
       "      <td>1</td>\n",
       "      <td>0</td>\n",
       "      <td>0</td>\n",
       "      <td>Purchased the book</td>\n",
       "      <td>0</td>\n",
       "      <td>0</td>\n",
       "    </tr>\n",
       "    <tr>\n",
       "      <th>2438</th>\n",
       "      <td>16</td>\n",
       "      <td>Female</td>\n",
       "      <td>White</td>\n",
       "      <td>Never been married</td>\n",
       "      <td>High school incomplete</td>\n",
       "      <td>Not employed for pay</td>\n",
       "      <td>Less than $10,000</td>\n",
       "      <td>1</td>\n",
       "      <td>1</td>\n",
       "      <td>0</td>\n",
       "      <td>0</td>\n",
       "      <td>Borrowed the book from a library</td>\n",
       "      <td>0</td>\n",
       "      <td>0</td>\n",
       "    </tr>\n",
       "    <tr>\n",
       "      <th>2439</th>\n",
       "      <td>16</td>\n",
       "      <td>Male</td>\n",
       "      <td>White</td>\n",
       "      <td>Never been married</td>\n",
       "      <td>High school incomplete</td>\n",
       "      <td>Not employed for pay</td>\n",
       "      <td>9$100,000 to under $150,000</td>\n",
       "      <td>1</td>\n",
       "      <td>0</td>\n",
       "      <td>0</td>\n",
       "      <td>0</td>\n",
       "      <td>Got the book some other way</td>\n",
       "      <td>1</td>\n",
       "      <td>0</td>\n",
       "    </tr>\n",
       "    <tr>\n",
       "      <th>2440</th>\n",
       "      <td>16</td>\n",
       "      <td>Female</td>\n",
       "      <td>White</td>\n",
       "      <td>Never been married</td>\n",
       "      <td>High school incomplete</td>\n",
       "      <td>Employed part-time</td>\n",
       "      <td>9$100,000 to under $150,000</td>\n",
       "      <td>1</td>\n",
       "      <td>1</td>\n",
       "      <td>0</td>\n",
       "      <td>0</td>\n",
       "      <td>Borrowed the book from a friend or family member</td>\n",
       "      <td>0</td>\n",
       "      <td>1</td>\n",
       "    </tr>\n",
       "    <tr>\n",
       "      <th>2441</th>\n",
       "      <td>16</td>\n",
       "      <td>Female</td>\n",
       "      <td>White</td>\n",
       "      <td>Never been married</td>\n",
       "      <td>High school incomplete</td>\n",
       "      <td>Not employed for pay</td>\n",
       "      <td>$10,000 to under $20,000</td>\n",
       "      <td>1</td>\n",
       "      <td>1</td>\n",
       "      <td>0</td>\n",
       "      <td>0</td>\n",
       "      <td>Borrowed the book from a library</td>\n",
       "      <td>0</td>\n",
       "      <td>0</td>\n",
       "    </tr>\n",
       "  </tbody>\n",
       "</table>\n",
       "<p>2442 rows × 14 columns</p>\n",
       "</div>"
      ],
      "text/plain": [
       "      Возраст     Пол           Расовая принадлежность  Семейное положение  \\\n",
       "0          66    Male                          Refused            Divorced   \n",
       "1          46    Male  Native American/American Indian             Married   \n",
       "2          32    Male                       Mixed race  Never been married   \n",
       "3          27    Male                       Mixed race             Married   \n",
       "4          16  Female                       Mixed race  Never been married   \n",
       "...       ...     ...                              ...                 ...   \n",
       "2437       16  Female                            White  Never been married   \n",
       "2438       16  Female                            White  Never been married   \n",
       "2439       16    Male                            White  Never been married   \n",
       "2440       16  Female                            White  Never been married   \n",
       "2441       16  Female                            White  Never been married   \n",
       "\n",
       "         Уровень образования       Трудоустройство  \\\n",
       "0           College graduate               Retired   \n",
       "1       High school graduate    Employed full-time   \n",
       "2       High school graduate    Employed full-time   \n",
       "3       High school graduate    Employed full-time   \n",
       "4     High school incomplete    Employed part-time   \n",
       "...                      ...                   ...   \n",
       "2437  High school incomplete  Not employed for pay   \n",
       "2438  High school incomplete  Not employed for pay   \n",
       "2439  High school incomplete  Not employed for pay   \n",
       "2440  High school incomplete    Employed part-time   \n",
       "2441  High school incomplete  Not employed for pay   \n",
       "\n",
       "                            Доход  Количество прочитанных книг за год  \\\n",
       "0        $20,000 to under $30,000                                  97   \n",
       "1               Less than $10,000                                  97   \n",
       "2               Less than $10,000                                  97   \n",
       "3        $40,000 to under $50,000                                  97   \n",
       "4        $10,000 to under $20,000                                  97   \n",
       "...                           ...                                 ...   \n",
       "2437     $30,000 to under $40,000                                   1   \n",
       "2438            Less than $10,000                                   1   \n",
       "2439  9$100,000 to under $150,000                                   1   \n",
       "2440  9$100,000 to under $150,000                                   1   \n",
       "2441     $10,000 to under $20,000                                   1   \n",
       "\n",
       "      Чтение печатных книг за год  Прослушивание аудиокниг за год  \\\n",
       "0                               1                               0   \n",
       "1                               1                               1   \n",
       "2                               0                               1   \n",
       "3                               1                               0   \n",
       "4                               1                               1   \n",
       "...                           ...                             ...   \n",
       "2437                            1                               0   \n",
       "2438                            1                               0   \n",
       "2439                            0                               0   \n",
       "2440                            1                               0   \n",
       "2441                            1                               0   \n",
       "\n",
       "      Чтение электронных книг за год  \\\n",
       "0                                  1   \n",
       "1                                  1   \n",
       "2                                  1   \n",
       "3                                  1   \n",
       "4                                  0   \n",
       "...                              ...   \n",
       "2437                               0   \n",
       "2438                               0   \n",
       "2439                               0   \n",
       "2440                               0   \n",
       "2441                               0   \n",
       "\n",
       "                    Откуда последняя прочитанная книга  \\\n",
       "0                                   Purchased the book   \n",
       "1                                   Purchased the book   \n",
       "2     Borrowed the book from a friend or family member   \n",
       "3                     Borrowed the book from a library   \n",
       "4                                   Purchased the book   \n",
       "...                                                ...   \n",
       "2437                                Purchased the book   \n",
       "2438                  Borrowed the book from a library   \n",
       "2439                       Got the book some other way   \n",
       "2440  Borrowed the book from a friend or family member   \n",
       "2441                  Borrowed the book from a library   \n",
       "\n",
       "      Чтение новостей или газет  Чтение журналов  \n",
       "0                             0                1  \n",
       "1                             1                1  \n",
       "2                             1                1  \n",
       "3                             1                0  \n",
       "4                             1                0  \n",
       "...                         ...              ...  \n",
       "2437                          0                0  \n",
       "2438                          0                0  \n",
       "2439                          1                0  \n",
       "2440                          0                1  \n",
       "2441                          0                0  \n",
       "\n",
       "[2442 rows x 14 columns]"
      ]
     },
     "execution_count": 188,
     "metadata": {},
     "output_type": "execute_result"
    }
   ],
   "source": [
    "df_read"
   ]
  },
  {
   "cell_type": "markdown",
   "id": "e6174804",
   "metadata": {},
   "source": [
    "**Попробуем создать переменную «Настоящий читатель» для тех, кто соответствует всем условиям чтения**: прочитал хотя бы одну книгу за год, читает и печатные, и электронные книги, слушает аудиокниги, увлекается чтением журналов и газет"
   ]
  },
  {
   "cell_type": "code",
   "execution_count": 189,
   "id": "ae670144",
   "metadata": {},
   "outputs": [
    {
     "data": {
      "text/plain": [
       "(array([   1,   52,   53,   55,   57,   59,   70,   80,   95,  100,  104,\n",
       "         114,  126,  135,  142,  161,  173,  186,  188,  195,  220,  228,\n",
       "         239,  245,  258,  263,  276,  291,  294,  323,  326,  335,  345,\n",
       "         349,  350,  360,  362,  379,  392,  393,  397,  407,  427,  464,\n",
       "         466,  467,  501,  524,  546,  565,  568,  589,  595,  645,  648,\n",
       "         676,  692,  711,  743,  752,  764,  765,  779,  812,  842,  856,\n",
       "         882,  915,  928, 1025, 1070, 1116, 1125, 1139, 1175, 1192, 1244,\n",
       "        1262, 1305, 1331, 1415, 1418, 1480, 1550, 1619, 1642, 1655, 1671,\n",
       "        1706, 1708, 1758, 1848, 1872, 1940, 1990, 1994, 2050], dtype=int32),)"
      ]
     },
     "execution_count": 189,
     "metadata": {},
     "output_type": "execute_result"
    }
   ],
   "source": [
    "np.where((df_read['Количество прочитанных книг за год'] > 0) & \n",
    "         (df_read['Чтение печатных книг за год'] == 1) &\n",
    "         (df_read['Прослушивание аудиокниг за год'] == 1) &\n",
    "         (df_read['Чтение электронных книг за год'] == 1) &\n",
    "         (df_read['Чтение новостей или газет'] == 1) &\n",
    "         (df_read['Чтение журналов'] == 1)) "
   ]
  },
  {
   "cell_type": "code",
   "execution_count": 190,
   "id": "ef79c63d",
   "metadata": {},
   "outputs": [],
   "source": [
    "df_read['Настоящий читатель'] = np.where((df_read['Количество прочитанных книг за год'] > 0) & \n",
    "                                       (df_read['Чтение печатных книг за год'] == 1) &\n",
    "                                       (df_read['Прослушивание аудиокниг за год'] == 1) &\n",
    "                                       (df_read['Чтение электронных книг за год'] == 1) &\n",
    "                                       (df_read['Чтение новостей или газет'] == 1) &\n",
    "                                       (df_read['Чтение журналов'] == 1), 1,0)"
   ]
  },
  {
   "cell_type": "markdown",
   "id": "b8855714",
   "metadata": {},
   "source": [
    "**Сколько в нашем датасете людей, очень заинтересованных в чтении?**"
   ]
  },
  {
   "cell_type": "code",
   "execution_count": 191,
   "id": "60e5c0a6",
   "metadata": {},
   "outputs": [
    {
     "data": {
      "text/plain": [
       "97"
      ]
     },
     "execution_count": 191,
     "metadata": {},
     "output_type": "execute_result"
    }
   ],
   "source": [
    "df_read['Настоящий читатель'].sum()"
   ]
  },
  {
   "cell_type": "markdown",
   "id": "7e99e7a4",
   "metadata": {},
   "source": [
    "Почти 4% опрошенных соответствуют поставленным условиям"
   ]
  },
  {
   "cell_type": "markdown",
   "id": "88a477ab",
   "metadata": {},
   "source": [
    "**Попробуем создать переменную, в которой будут отражаться только те, кто интересуется переодикой (чтением газет и журналов)**"
   ]
  },
  {
   "cell_type": "code",
   "execution_count": 192,
   "id": "eee968a2",
   "metadata": {},
   "outputs": [
    {
     "data": {
      "text/plain": [
       "(array([   1,    2,    7,   10,   11,   13,   15,   16,   17,   21,   22,\n",
       "          24,   25,   26,   27,   28,   30,   31,   32,   33,   35,   36,\n",
       "          37,   38,   39,   40,   45,   46,   47,   48,   49,   50,   51,\n",
       "          52,   53,   54,   55,   56,   57,   59,   60,   61,   63,   64,\n",
       "          65,   67,   69,   70,   73,   74,   77,   79,   80,   82,   83,\n",
       "          84,   86,   88,   89,   91,   94,   95,   98,  100,  104,  105,\n",
       "         106,  113,  114,  115,  116,  122,  124,  125,  126,  133,  135,\n",
       "         136,  137,  141,  142,  148,  151,  153,  156,  157,  159,  160,\n",
       "         161,  165,  172,  173,  175,  176,  179,  180,  182,  183,  186,\n",
       "         187,  188,  189,  190,  191,  192,  193,  195,  199,  205,  206,\n",
       "         208,  212,  213,  217,  218,  219,  220,  222,  224,  226,  227,\n",
       "         228,  229,  230,  231,  236,  239,  240,  243,  245,  247,  249,\n",
       "         250,  251,  254,  255,  258,  262,  263,  265,  266,  267,  272,\n",
       "         273,  276,  279,  287,  288,  291,  292,  294,  302,  304,  306,\n",
       "         310,  316,  317,  319,  320,  321,  322,  323,  325,  326,  329,\n",
       "         331,  332,  334,  335,  339,  340,  343,  345,  347,  349,  350,\n",
       "         352,  353,  354,  357,  360,  362,  364,  368,  370,  372,  374,\n",
       "         375,  379,  382,  383,  384,  385,  388,  390,  392,  393,  396,\n",
       "         397,  398,  400,  404,  405,  406,  407,  409,  410,  412,  413,\n",
       "         419,  424,  425,  426,  427,  428,  429,  431,  433,  434,  438,\n",
       "         442,  443,  444,  446,  448,  449,  451,  453,  454,  455,  458,\n",
       "         460,  461,  464,  465,  466,  467,  469,  470,  478,  482,  484,\n",
       "         487,  494,  497,  498,  501,  504,  505,  510,  513,  518,  522,\n",
       "         524,  526,  529,  531,  536,  537,  539,  540,  541,  542,  544,\n",
       "         545,  546,  547,  552,  553,  556,  558,  559,  563,  564,  565,\n",
       "         566,  568,  570,  574,  577,  578,  579,  580,  584,  585,  587,\n",
       "         589,  592,  595,  598,  601,  605,  609,  612,  613,  614,  618,\n",
       "         619,  621,  624,  627,  628,  629,  630,  633,  635,  638,  640,\n",
       "         642,  643,  645,  646,  648,  650,  652,  659,  660,  662,  664,\n",
       "         666,  668,  674,  675,  676,  680,  681,  682,  685,  686,  688,\n",
       "         691,  692,  693,  695,  696,  697,  698,  699,  700,  703,  708,\n",
       "         709,  710,  711,  713,  714,  715,  716,  717,  718,  722,  724,\n",
       "         725,  727,  730,  731,  734,  735,  736,  738,  741,  742,  743,\n",
       "         751,  752,  753,  755,  756,  763,  764,  765,  769,  772,  774,\n",
       "         778,  779,  781,  789,  790,  798,  803,  806,  807,  809,  812,\n",
       "         813,  817,  822,  823,  824,  826,  828,  829,  830,  832,  833,\n",
       "         834,  835,  841,  842,  847,  848,  849,  852,  853,  856,  857,\n",
       "         858,  864,  865,  866,  869,  871,  872,  876,  877,  879,  881,\n",
       "         882,  883,  885,  887,  888,  891,  896,  897,  899,  905,  913,\n",
       "         915,  918,  925,  928,  933,  937,  941,  942,  948,  952,  958,\n",
       "         960,  964,  969,  972,  974,  975,  976,  977,  978,  982,  987,\n",
       "         988,  992,  993,  994,  995,  996,  997,  999, 1000, 1001, 1002,\n",
       "        1004, 1005, 1007, 1008, 1009, 1010, 1011, 1012, 1013, 1015, 1016,\n",
       "        1017, 1018, 1020, 1021, 1022, 1023, 1024, 1025, 1026, 1027, 1028,\n",
       "        1029, 1032, 1033, 1034, 1035, 1036, 1039, 1040, 1041, 1042, 1043,\n",
       "        1045, 1050, 1051, 1053, 1054, 1056, 1057, 1061, 1064, 1067, 1070,\n",
       "        1071, 1073, 1076, 1077, 1081, 1084, 1085, 1095, 1098, 1099, 1101,\n",
       "        1103, 1104, 1106, 1116, 1118, 1120, 1125, 1126, 1127, 1128, 1132,\n",
       "        1134, 1135, 1137, 1138, 1139, 1140, 1150, 1151, 1152, 1153, 1154,\n",
       "        1155, 1156, 1158, 1159, 1160, 1161, 1165, 1166, 1169, 1170, 1171,\n",
       "        1173, 1174, 1175, 1176, 1178, 1179, 1180, 1182, 1186, 1187, 1188,\n",
       "        1191, 1192, 1195, 1199, 1201, 1202, 1204, 1205, 1206, 1207, 1209,\n",
       "        1210, 1211, 1212, 1213, 1216, 1218, 1221, 1222, 1225, 1228, 1229,\n",
       "        1230, 1231, 1235, 1236, 1240, 1241, 1243, 1244, 1247, 1249, 1250,\n",
       "        1251, 1252, 1253, 1254, 1257, 1262, 1264, 1270, 1283, 1286, 1288,\n",
       "        1290, 1294, 1296, 1300, 1302, 1303, 1304, 1305, 1307, 1308, 1309,\n",
       "        1313, 1314, 1315, 1316, 1317, 1318, 1319, 1320, 1321, 1326, 1327,\n",
       "        1329, 1331, 1334, 1335, 1341, 1342, 1343, 1349, 1361, 1362, 1370,\n",
       "        1371, 1373, 1383, 1386, 1387, 1396, 1400, 1406, 1410, 1413, 1415,\n",
       "        1417, 1418, 1423, 1424, 1429, 1431, 1432, 1433, 1434, 1435, 1437,\n",
       "        1439, 1440, 1441, 1444, 1446, 1447, 1448, 1450, 1452, 1453, 1454,\n",
       "        1455, 1459, 1460, 1461, 1462, 1463, 1466, 1469, 1470, 1471, 1476,\n",
       "        1477, 1478, 1480, 1481, 1482, 1486, 1490, 1491, 1492, 1494, 1496,\n",
       "        1497, 1499, 1501, 1503, 1505, 1507, 1508, 1511, 1512, 1513, 1514,\n",
       "        1516, 1520, 1521, 1522, 1523, 1524, 1527, 1533, 1534, 1537, 1542,\n",
       "        1549, 1550, 1557, 1560, 1562, 1565, 1566, 1567, 1568, 1569, 1570,\n",
       "        1572, 1580, 1581, 1582, 1584, 1586, 1592, 1595, 1599, 1601, 1602,\n",
       "        1603, 1604, 1605, 1608, 1610, 1611, 1612, 1617, 1619, 1621, 1626,\n",
       "        1631, 1633, 1636, 1638, 1642, 1647, 1648, 1650, 1651, 1653, 1655,\n",
       "        1656, 1657, 1660, 1662, 1663, 1667, 1668, 1671, 1674, 1675, 1679,\n",
       "        1681, 1684, 1685, 1686, 1693, 1694, 1696, 1697, 1706, 1708, 1709,\n",
       "        1713, 1720, 1721, 1722, 1723, 1727, 1730, 1731, 1732, 1741, 1745,\n",
       "        1750, 1752, 1754, 1758, 1759, 1760, 1763, 1764, 1765, 1767, 1770,\n",
       "        1775, 1776, 1778, 1784, 1787, 1789, 1790, 1792, 1798, 1800, 1803,\n",
       "        1807, 1808, 1813, 1814, 1815, 1817, 1818, 1819, 1820, 1821, 1826,\n",
       "        1834, 1835, 1836, 1837, 1839, 1841, 1844, 1846, 1848, 1849, 1850,\n",
       "        1854, 1858, 1863, 1865, 1867, 1871, 1872, 1874, 1878, 1879, 1883,\n",
       "        1889, 1902, 1915, 1919, 1923, 1925, 1931, 1940, 1947, 1948, 1955,\n",
       "        1957, 1961, 1966, 1969, 1978, 1985, 1986, 1987, 1988, 1989, 1990,\n",
       "        1993, 1994, 1997, 1999, 2002, 2003, 2005, 2008, 2010, 2011, 2012,\n",
       "        2013, 2019, 2023, 2024, 2025, 2026, 2028, 2029, 2030, 2032, 2040,\n",
       "        2041, 2042, 2047, 2048, 2050, 2054, 2055, 2056, 2058, 2062, 2063,\n",
       "        2069, 2070, 2072, 2073, 2080, 2084, 2087, 2089, 2090, 2106, 2109,\n",
       "        2111, 2124, 2125, 2132, 2139, 2153, 2155, 2156, 2160, 2164, 2166,\n",
       "        2172, 2173, 2177, 2181, 2182, 2183, 2185, 2186, 2188, 2197, 2204,\n",
       "        2208, 2209, 2210, 2212, 2213, 2214, 2218, 2220, 2225, 2228, 2230,\n",
       "        2233, 2237, 2238, 2240, 2243, 2246, 2263, 2267, 2270, 2275, 2282,\n",
       "        2286, 2289, 2291, 2297, 2302, 2304, 2314, 2318, 2320, 2321, 2328,\n",
       "        2333, 2334, 2335, 2336, 2341, 2342, 2345, 2347, 2351, 2352, 2354,\n",
       "        2355, 2359, 2363, 2364, 2370, 2372, 2377, 2380, 2381, 2387, 2388,\n",
       "        2393, 2398, 2399, 2404, 2414, 2417, 2419, 2427, 2431], dtype=int32),)"
      ]
     },
     "execution_count": 192,
     "metadata": {},
     "output_type": "execute_result"
    }
   ],
   "source": [
    "np.where((df_read['Чтение новостей или газет'] == 1) &\n",
    "         (df_read['Чтение журналов'] == 1))"
   ]
  },
  {
   "cell_type": "code",
   "execution_count": 193,
   "id": "8f90a085",
   "metadata": {},
   "outputs": [],
   "source": [
    "df_read['Любитель периодической печати'] = np.where((df_read['Чтение новостей или газет'] == 1) &\n",
    "                                                    (df_read['Чтение журналов'] == 1), 1,0)"
   ]
  },
  {
   "cell_type": "code",
   "execution_count": 194,
   "id": "7d29b668",
   "metadata": {},
   "outputs": [
    {
     "data": {
      "text/html": [
       "<div>\n",
       "<style scoped>\n",
       "    .dataframe tbody tr th:only-of-type {\n",
       "        vertical-align: middle;\n",
       "    }\n",
       "\n",
       "    .dataframe tbody tr th {\n",
       "        vertical-align: top;\n",
       "    }\n",
       "\n",
       "    .dataframe thead th {\n",
       "        text-align: right;\n",
       "    }\n",
       "</style>\n",
       "<table border=\"1\" class=\"dataframe\">\n",
       "  <thead>\n",
       "    <tr style=\"text-align: right;\">\n",
       "      <th></th>\n",
       "      <th>Возраст</th>\n",
       "      <th>Пол</th>\n",
       "      <th>Расовая принадлежность</th>\n",
       "      <th>Семейное положение</th>\n",
       "      <th>Уровень образования</th>\n",
       "      <th>Трудоустройство</th>\n",
       "      <th>Доход</th>\n",
       "      <th>Количество прочитанных книг за год</th>\n",
       "      <th>Чтение печатных книг за год</th>\n",
       "      <th>Прослушивание аудиокниг за год</th>\n",
       "      <th>Чтение электронных книг за год</th>\n",
       "      <th>Откуда последняя прочитанная книга</th>\n",
       "      <th>Чтение новостей или газет</th>\n",
       "      <th>Чтение журналов</th>\n",
       "      <th>Настоящий читатель</th>\n",
       "      <th>Любитель периодической печати</th>\n",
       "    </tr>\n",
       "  </thead>\n",
       "  <tbody>\n",
       "    <tr>\n",
       "      <th>0</th>\n",
       "      <td>66</td>\n",
       "      <td>Male</td>\n",
       "      <td>Refused</td>\n",
       "      <td>Divorced</td>\n",
       "      <td>College graduate</td>\n",
       "      <td>Retired</td>\n",
       "      <td>$20,000 to under $30,000</td>\n",
       "      <td>97</td>\n",
       "      <td>1</td>\n",
       "      <td>0</td>\n",
       "      <td>1</td>\n",
       "      <td>Purchased the book</td>\n",
       "      <td>0</td>\n",
       "      <td>1</td>\n",
       "      <td>0</td>\n",
       "      <td>0</td>\n",
       "    </tr>\n",
       "    <tr>\n",
       "      <th>1</th>\n",
       "      <td>46</td>\n",
       "      <td>Male</td>\n",
       "      <td>Native American/American Indian</td>\n",
       "      <td>Married</td>\n",
       "      <td>High school graduate</td>\n",
       "      <td>Employed full-time</td>\n",
       "      <td>Less than $10,000</td>\n",
       "      <td>97</td>\n",
       "      <td>1</td>\n",
       "      <td>1</td>\n",
       "      <td>1</td>\n",
       "      <td>Purchased the book</td>\n",
       "      <td>1</td>\n",
       "      <td>1</td>\n",
       "      <td>1</td>\n",
       "      <td>1</td>\n",
       "    </tr>\n",
       "    <tr>\n",
       "      <th>2</th>\n",
       "      <td>32</td>\n",
       "      <td>Male</td>\n",
       "      <td>Mixed race</td>\n",
       "      <td>Never been married</td>\n",
       "      <td>High school graduate</td>\n",
       "      <td>Employed full-time</td>\n",
       "      <td>Less than $10,000</td>\n",
       "      <td>97</td>\n",
       "      <td>0</td>\n",
       "      <td>1</td>\n",
       "      <td>1</td>\n",
       "      <td>Borrowed the book from a friend or family member</td>\n",
       "      <td>1</td>\n",
       "      <td>1</td>\n",
       "      <td>0</td>\n",
       "      <td>1</td>\n",
       "    </tr>\n",
       "    <tr>\n",
       "      <th>3</th>\n",
       "      <td>27</td>\n",
       "      <td>Male</td>\n",
       "      <td>Mixed race</td>\n",
       "      <td>Married</td>\n",
       "      <td>High school graduate</td>\n",
       "      <td>Employed full-time</td>\n",
       "      <td>$40,000 to under $50,000</td>\n",
       "      <td>97</td>\n",
       "      <td>1</td>\n",
       "      <td>0</td>\n",
       "      <td>1</td>\n",
       "      <td>Borrowed the book from a library</td>\n",
       "      <td>1</td>\n",
       "      <td>0</td>\n",
       "      <td>0</td>\n",
       "      <td>0</td>\n",
       "    </tr>\n",
       "    <tr>\n",
       "      <th>4</th>\n",
       "      <td>16</td>\n",
       "      <td>Female</td>\n",
       "      <td>Mixed race</td>\n",
       "      <td>Never been married</td>\n",
       "      <td>High school incomplete</td>\n",
       "      <td>Employed part-time</td>\n",
       "      <td>$10,000 to under $20,000</td>\n",
       "      <td>97</td>\n",
       "      <td>1</td>\n",
       "      <td>1</td>\n",
       "      <td>0</td>\n",
       "      <td>Purchased the book</td>\n",
       "      <td>1</td>\n",
       "      <td>0</td>\n",
       "      <td>0</td>\n",
       "      <td>0</td>\n",
       "    </tr>\n",
       "  </tbody>\n",
       "</table>\n",
       "</div>"
      ],
      "text/plain": [
       "   Возраст     Пол           Расовая принадлежность  Семейное положение  \\\n",
       "0       66    Male                          Refused            Divorced   \n",
       "1       46    Male  Native American/American Indian             Married   \n",
       "2       32    Male                       Mixed race  Never been married   \n",
       "3       27    Male                       Mixed race             Married   \n",
       "4       16  Female                       Mixed race  Never been married   \n",
       "\n",
       "      Уровень образования     Трудоустройство                     Доход  \\\n",
       "0        College graduate             Retired  $20,000 to under $30,000   \n",
       "1    High school graduate  Employed full-time         Less than $10,000   \n",
       "2    High school graduate  Employed full-time         Less than $10,000   \n",
       "3    High school graduate  Employed full-time  $40,000 to under $50,000   \n",
       "4  High school incomplete  Employed part-time  $10,000 to under $20,000   \n",
       "\n",
       "   Количество прочитанных книг за год  Чтение печатных книг за год  \\\n",
       "0                                  97                            1   \n",
       "1                                  97                            1   \n",
       "2                                  97                            0   \n",
       "3                                  97                            1   \n",
       "4                                  97                            1   \n",
       "\n",
       "   Прослушивание аудиокниг за год  Чтение электронных книг за год  \\\n",
       "0                               0                               1   \n",
       "1                               1                               1   \n",
       "2                               1                               1   \n",
       "3                               0                               1   \n",
       "4                               1                               0   \n",
       "\n",
       "                 Откуда последняя прочитанная книга  \\\n",
       "0                                Purchased the book   \n",
       "1                                Purchased the book   \n",
       "2  Borrowed the book from a friend or family member   \n",
       "3                  Borrowed the book from a library   \n",
       "4                                Purchased the book   \n",
       "\n",
       "   Чтение новостей или газет  Чтение журналов  Настоящий читатель  \\\n",
       "0                          0                1                   0   \n",
       "1                          1                1                   1   \n",
       "2                          1                1                   0   \n",
       "3                          1                0                   0   \n",
       "4                          1                0                   0   \n",
       "\n",
       "   Любитель периодической печати  \n",
       "0                              0  \n",
       "1                              1  \n",
       "2                              1  \n",
       "3                              0  \n",
       "4                              0  "
      ]
     },
     "execution_count": 194,
     "metadata": {},
     "output_type": "execute_result"
    }
   ],
   "source": [
    "df_read.head()"
   ]
  },
  {
   "cell_type": "markdown",
   "id": "9c7df263",
   "metadata": {},
   "source": [
    "**Сколько в нашем датасете любителей периодической печати?**"
   ]
  },
  {
   "cell_type": "code",
   "execution_count": 195,
   "id": "a4fea57a",
   "metadata": {},
   "outputs": [
    {
     "data": {
      "text/plain": [
       "999"
      ]
     },
     "execution_count": 195,
     "metadata": {},
     "output_type": "execute_result"
    }
   ],
   "source": [
    "df_read['Любитель периодической печати'].sum()"
   ]
  },
  {
   "cell_type": "markdown",
   "id": "81f9a4ac",
   "metadata": {},
   "source": [
    "Таким образом, в нашем датасете около 41% тех, кто любит читать газеты и журналы"
   ]
  },
  {
   "cell_type": "markdown",
   "id": "ef8817df",
   "metadata": {},
   "source": [
    "**Создадим категориальную переменную «Уровень дохода», распределив данные по категориям**"
   ]
  },
  {
   "cell_type": "code",
   "execution_count": 196,
   "id": "563bc9b0",
   "metadata": {},
   "outputs": [],
   "source": [
    "def get_cat_income(income):\n",
    "    if income == 'Less than $10,000':\n",
    "        return 'Низкий'\n",
    "    elif income == '$10,000 to under $20,000':\n",
    "        return 'Средний'\n",
    "    elif income == '$20,000 to under $30,000':\n",
    "        return 'Средний'\n",
    "    elif income == '$30,000 to under $40,000':\n",
    "        return 'Выше среднего'\n",
    "    elif income == '$40,000 to under $50,000':\n",
    "        return 'Выше среднего'\n",
    "    elif income == '$50,000 to under $75,000':\n",
    "        return 'Выше среднего'\n",
    "    elif income == '$75,000 to under $100,000':\n",
    "        return 'Высокий'\n",
    "    elif income == '$100,000 to under $150,000':\n",
    "        return 'Очень высокий'\n",
    "    elif income == '9$100,000 to under $150,000':\n",
    "        return 'Очень высокий'\n",
    "    elif income == 'Refused':\n",
    "        return  'Refused'"
   ]
  },
  {
   "cell_type": "code",
   "execution_count": 197,
   "id": "3a813ea3",
   "metadata": {},
   "outputs": [],
   "source": [
    "df_read['Уровень дохода'] = df_read['Доход'].apply(get_cat_income)"
   ]
  },
  {
   "cell_type": "code",
   "execution_count": 198,
   "id": "7cfa7847",
   "metadata": {},
   "outputs": [],
   "source": [
    "df_read['Уровень дохода'] = pd.Categorical (df_read['Уровень дохода'])"
   ]
  },
  {
   "cell_type": "code",
   "execution_count": 199,
   "id": "7c77d143",
   "metadata": {},
   "outputs": [
    {
     "data": {
      "text/plain": [
       "['Средний', 'Низкий', 'Выше среднего', 'Очень высокий', 'Высокий', 'Refused']\n",
       "Categories (6, object): ['Refused', 'Высокий', 'Выше среднего', 'Низкий', 'Очень высокий', 'Средний']"
      ]
     },
     "execution_count": 199,
     "metadata": {},
     "output_type": "execute_result"
    }
   ],
   "source": [
    "df_read['Уровень дохода'].unique()\n",
    "\n",
    "#У нас получилось 5 категорий (6 не учитваем из-за того, что респонденты отказались дать ответ)"
   ]
  },
  {
   "cell_type": "code",
   "execution_count": 200,
   "id": "88e2b9e2",
   "metadata": {},
   "outputs": [
    {
     "data": {
      "text/plain": [
       "Выше среднего    759\n",
       "Очень высокий    676\n",
       "Средний          358\n",
       "Высокий          286\n",
       "Refused          246\n",
       "Низкий           117\n",
       "Name: Уровень дохода, dtype: int64"
      ]
     },
     "execution_count": 200,
     "metadata": {},
     "output_type": "execute_result"
    }
   ],
   "source": [
    "df_read['Уровень дохода'].value_counts()"
   ]
  },
  {
   "cell_type": "code",
   "execution_count": 201,
   "id": "6a82d149",
   "metadata": {},
   "outputs": [
    {
     "name": "stdout",
     "output_type": "stream",
     "text": [
      "<class 'pandas.core.frame.DataFrame'>\n",
      "Int64Index: 2442 entries, 0 to 2441\n",
      "Data columns (total 17 columns):\n",
      " #   Column                              Non-Null Count  Dtype   \n",
      "---  ------                              --------------  -----   \n",
      " 0   Возраст                             2442 non-null   int64   \n",
      " 1   Пол                                 2442 non-null   object  \n",
      " 2   Расовая принадлежность              2442 non-null   object  \n",
      " 3   Семейное положение                  2442 non-null   object  \n",
      " 4   Уровень образования                 2442 non-null   object  \n",
      " 5   Трудоустройство                     2442 non-null   object  \n",
      " 6   Доход                               2442 non-null   object  \n",
      " 7   Количество прочитанных книг за год  2442 non-null   int64   \n",
      " 8   Чтение печатных книг за год         2442 non-null   int64   \n",
      " 9   Прослушивание аудиокниг за год      2442 non-null   int64   \n",
      " 10  Чтение электронных книг за год      2442 non-null   int64   \n",
      " 11  Откуда последняя прочитанная книга  2442 non-null   object  \n",
      " 12  Чтение новостей или газет           2442 non-null   int64   \n",
      " 13  Чтение журналов                     2442 non-null   int64   \n",
      " 14  Настоящий читатель                  2442 non-null   int32   \n",
      " 15  Любитель периодической печати       2442 non-null   int32   \n",
      " 16  Уровень дохода                      2442 non-null   category\n",
      "dtypes: category(1), int32(2), int64(7), object(7)\n",
      "memory usage: 241.0+ KB\n"
     ]
    }
   ],
   "source": [
    "df_read.info()"
   ]
  },
  {
   "cell_type": "markdown",
   "id": "5d4cec9b",
   "metadata": {},
   "source": [
    "# Рассчет мер центральной тенденции"
   ]
  },
  {
   "cell_type": "markdown",
   "id": "3707a658",
   "metadata": {},
   "source": [
    "**Рассчитаем меры центральной тенденции для признака \"Количество прочитанных книг за год\"** (это единственная переменная, для которой возможен рассчет (не считая возраста)"
   ]
  },
  {
   "cell_type": "code",
   "execution_count": 202,
   "id": "ff937dae",
   "metadata": {},
   "outputs": [
    {
     "data": {
      "text/plain": [
       "19.33947583947584"
      ]
     },
     "execution_count": 202,
     "metadata": {},
     "output_type": "execute_result"
    }
   ],
   "source": [
    "df_read['Количество прочитанных книг за год'].mean() #среднее арифметическое"
   ]
  },
  {
   "cell_type": "code",
   "execution_count": 203,
   "id": "2bdc9252",
   "metadata": {},
   "outputs": [
    {
     "data": {
      "text/plain": [
       "10.0"
      ]
     },
     "execution_count": 203,
     "metadata": {},
     "output_type": "execute_result"
    }
   ],
   "source": [
    "df_read['Количество прочитанных книг за год'].median()   #медиана"
   ]
  },
  {
   "cell_type": "code",
   "execution_count": 204,
   "id": "c47a95e4",
   "metadata": {},
   "outputs": [
    {
     "data": {
      "text/plain": [
       "0    3\n",
       "Name: Количество прочитанных книг за год, dtype: int64"
      ]
     },
     "execution_count": 204,
     "metadata": {},
     "output_type": "execute_result"
    }
   ],
   "source": [
    "df_read['Количество прочитанных книг за год'].mode()   #мода"
   ]
  },
  {
   "cell_type": "markdown",
   "id": "4ea55340",
   "metadata": {},
   "source": [
    "Судя по результатам рассчета, получившаяся мода меньше медианы, а медиана меньше среднего. Таким образом, мы имеем дело с **положительно ассиметричным унимодальным распределением (скошенным вправо)**. "
   ]
  },
  {
   "cell_type": "markdown",
   "id": "2b6361c1",
   "metadata": {},
   "source": [
    "# Меры вариативности"
   ]
  },
  {
   "cell_type": "markdown",
   "id": "2e68bcaa",
   "metadata": {},
   "source": [
    "Найдем разницу между максимальным и миниимальным значениями"
   ]
  },
  {
   "cell_type": "code",
   "execution_count": 205,
   "id": "f7521ed7",
   "metadata": {},
   "outputs": [
    {
     "data": {
      "text/plain": [
       "97"
      ]
     },
     "execution_count": 205,
     "metadata": {},
     "output_type": "execute_result"
    }
   ],
   "source": [
    "df_read['Количество прочитанных книг за год'].max()"
   ]
  },
  {
   "cell_type": "code",
   "execution_count": 206,
   "id": "d40335b3",
   "metadata": {},
   "outputs": [
    {
     "data": {
      "text/plain": [
       "1"
      ]
     },
     "execution_count": 206,
     "metadata": {},
     "output_type": "execute_result"
    }
   ],
   "source": [
    "df_read['Количество прочитанных книг за год'].min()"
   ]
  },
  {
   "cell_type": "code",
   "execution_count": 207,
   "id": "0125f811",
   "metadata": {},
   "outputs": [
    {
     "data": {
      "text/plain": [
       "96"
      ]
     },
     "execution_count": 207,
     "metadata": {},
     "output_type": "execute_result"
    }
   ],
   "source": [
    "df_read['Количество прочитанных книг за год'].max() - df_read['Количество прочитанных книг за год'].min()"
   ]
  },
  {
   "cell_type": "markdown",
   "id": "64966404",
   "metadata": {},
   "source": [
    "В итоге, размах между минимальным и максимальным значением достаточно огромный. Такая информация дает нам только понимание, в каком диапазоне существуют наши ответы. Найдем значение интерквартильного размаха"
   ]
  },
  {
   "cell_type": "code",
   "execution_count": 208,
   "id": "65399f52",
   "metadata": {},
   "outputs": [
    {
     "data": {
      "text/plain": [
       "count    2442.000000\n",
       "mean       19.339476\n",
       "std        24.416698\n",
       "min         1.000000\n",
       "25%         4.000000\n",
       "50%        10.000000\n",
       "75%        24.000000\n",
       "max        97.000000\n",
       "Name: Количество прочитанных книг за год, dtype: float64"
      ]
     },
     "execution_count": 208,
     "metadata": {},
     "output_type": "execute_result"
    }
   ],
   "source": [
    "df_read['Количество прочитанных книг за год'].describe()"
   ]
  },
  {
   "cell_type": "code",
   "execution_count": 209,
   "id": "c091120e",
   "metadata": {},
   "outputs": [
    {
     "data": {
      "text/plain": [
       "20.0"
      ]
     },
     "execution_count": 209,
     "metadata": {},
     "output_type": "execute_result"
    }
   ],
   "source": [
    "np.percentile(df_read['Количество прочитанных книг за год'], 75) - np.percentile(df_read['Количество прочитанных книг за год'], 25)"
   ]
  },
  {
   "cell_type": "markdown",
   "id": "bbc4fadf",
   "metadata": {},
   "source": [
    "Таким образом, мы узнали разброс средних 50% значений в этом наборе данных. Данная цифра уже более приемлема, чем размах.Определим среднеквадратичное отклонение и дисперсию"
   ]
  },
  {
   "cell_type": "code",
   "execution_count": 210,
   "id": "1afb6f15",
   "metadata": {},
   "outputs": [
    {
     "data": {
      "text/plain": [
       "24.41669845974948"
      ]
     },
     "execution_count": 210,
     "metadata": {},
     "output_type": "execute_result"
    }
   ],
   "source": [
    "df_read['Количество прочитанных книг за год'].std()"
   ]
  },
  {
   "cell_type": "code",
   "execution_count": 211,
   "id": "739e2dc5",
   "metadata": {},
   "outputs": [
    {
     "data": {
      "text/plain": [
       "596.1751636743326"
      ]
     },
     "execution_count": 211,
     "metadata": {},
     "output_type": "execute_result"
    }
   ],
   "source": [
    "df_read['Количество прочитанных книг за год'].var()"
   ]
  },
  {
   "cell_type": "markdown",
   "id": "178d0d8a",
   "metadata": {},
   "source": [
    "Учитывая значение среднеквадратичного отконения, можно сделать вывод, что все значения датасета по данноу признаку находятся на достаточно большом расстоянии от среднего (большой разброс). В свою очередь, это повлекло достаточно большое значение дисперсии. Можем предположить, что все респонденты имеют разный читательский опыт и потребности в чтении"
   ]
  },
  {
   "cell_type": "markdown",
   "id": "54d9f39b",
   "metadata": {},
   "source": [
    "Для наиболее полного понимания, рассчитаем **Z-оценку**"
   ]
  },
  {
   "cell_type": "code",
   "execution_count": 212,
   "id": "ea1365dc",
   "metadata": {},
   "outputs": [],
   "source": [
    "import scipy.stats\n",
    "\n",
    "#подгружаем необходимый модуль"
   ]
  },
  {
   "cell_type": "code",
   "execution_count": 213,
   "id": "f9c1d1d3",
   "metadata": {},
   "outputs": [],
   "source": [
    "df_read['z-score'] = scipy.stats.zscore(df_read['Количество прочитанных книг за год'])"
   ]
  },
  {
   "cell_type": "code",
   "execution_count": 214,
   "id": "45ff4332",
   "metadata": {},
   "outputs": [
    {
     "data": {
      "text/html": [
       "<div>\n",
       "<style scoped>\n",
       "    .dataframe tbody tr th:only-of-type {\n",
       "        vertical-align: middle;\n",
       "    }\n",
       "\n",
       "    .dataframe tbody tr th {\n",
       "        vertical-align: top;\n",
       "    }\n",
       "\n",
       "    .dataframe thead th {\n",
       "        text-align: right;\n",
       "    }\n",
       "</style>\n",
       "<table border=\"1\" class=\"dataframe\">\n",
       "  <thead>\n",
       "    <tr style=\"text-align: right;\">\n",
       "      <th></th>\n",
       "      <th>Возраст</th>\n",
       "      <th>Пол</th>\n",
       "      <th>Расовая принадлежность</th>\n",
       "      <th>Семейное положение</th>\n",
       "      <th>Уровень образования</th>\n",
       "      <th>Трудоустройство</th>\n",
       "      <th>Доход</th>\n",
       "      <th>Количество прочитанных книг за год</th>\n",
       "      <th>Чтение печатных книг за год</th>\n",
       "      <th>Прослушивание аудиокниг за год</th>\n",
       "      <th>Чтение электронных книг за год</th>\n",
       "      <th>Откуда последняя прочитанная книга</th>\n",
       "      <th>Чтение новостей или газет</th>\n",
       "      <th>Чтение журналов</th>\n",
       "      <th>Настоящий читатель</th>\n",
       "      <th>Любитель периодической печати</th>\n",
       "      <th>Уровень дохода</th>\n",
       "      <th>z-score</th>\n",
       "    </tr>\n",
       "  </thead>\n",
       "  <tbody>\n",
       "    <tr>\n",
       "      <th>0</th>\n",
       "      <td>66</td>\n",
       "      <td>Male</td>\n",
       "      <td>Refused</td>\n",
       "      <td>Divorced</td>\n",
       "      <td>College graduate</td>\n",
       "      <td>Retired</td>\n",
       "      <td>$20,000 to under $30,000</td>\n",
       "      <td>97</td>\n",
       "      <td>1</td>\n",
       "      <td>0</td>\n",
       "      <td>1</td>\n",
       "      <td>Purchased the book</td>\n",
       "      <td>0</td>\n",
       "      <td>1</td>\n",
       "      <td>0</td>\n",
       "      <td>0</td>\n",
       "      <td>Средний</td>\n",
       "      <td>3.181283</td>\n",
       "    </tr>\n",
       "    <tr>\n",
       "      <th>1</th>\n",
       "      <td>46</td>\n",
       "      <td>Male</td>\n",
       "      <td>Native American/American Indian</td>\n",
       "      <td>Married</td>\n",
       "      <td>High school graduate</td>\n",
       "      <td>Employed full-time</td>\n",
       "      <td>Less than $10,000</td>\n",
       "      <td>97</td>\n",
       "      <td>1</td>\n",
       "      <td>1</td>\n",
       "      <td>1</td>\n",
       "      <td>Purchased the book</td>\n",
       "      <td>1</td>\n",
       "      <td>1</td>\n",
       "      <td>1</td>\n",
       "      <td>1</td>\n",
       "      <td>Низкий</td>\n",
       "      <td>3.181283</td>\n",
       "    </tr>\n",
       "    <tr>\n",
       "      <th>2</th>\n",
       "      <td>32</td>\n",
       "      <td>Male</td>\n",
       "      <td>Mixed race</td>\n",
       "      <td>Never been married</td>\n",
       "      <td>High school graduate</td>\n",
       "      <td>Employed full-time</td>\n",
       "      <td>Less than $10,000</td>\n",
       "      <td>97</td>\n",
       "      <td>0</td>\n",
       "      <td>1</td>\n",
       "      <td>1</td>\n",
       "      <td>Borrowed the book from a friend or family member</td>\n",
       "      <td>1</td>\n",
       "      <td>1</td>\n",
       "      <td>0</td>\n",
       "      <td>1</td>\n",
       "      <td>Низкий</td>\n",
       "      <td>3.181283</td>\n",
       "    </tr>\n",
       "    <tr>\n",
       "      <th>3</th>\n",
       "      <td>27</td>\n",
       "      <td>Male</td>\n",
       "      <td>Mixed race</td>\n",
       "      <td>Married</td>\n",
       "      <td>High school graduate</td>\n",
       "      <td>Employed full-time</td>\n",
       "      <td>$40,000 to under $50,000</td>\n",
       "      <td>97</td>\n",
       "      <td>1</td>\n",
       "      <td>0</td>\n",
       "      <td>1</td>\n",
       "      <td>Borrowed the book from a library</td>\n",
       "      <td>1</td>\n",
       "      <td>0</td>\n",
       "      <td>0</td>\n",
       "      <td>0</td>\n",
       "      <td>Выше среднего</td>\n",
       "      <td>3.181283</td>\n",
       "    </tr>\n",
       "    <tr>\n",
       "      <th>4</th>\n",
       "      <td>16</td>\n",
       "      <td>Female</td>\n",
       "      <td>Mixed race</td>\n",
       "      <td>Never been married</td>\n",
       "      <td>High school incomplete</td>\n",
       "      <td>Employed part-time</td>\n",
       "      <td>$10,000 to under $20,000</td>\n",
       "      <td>97</td>\n",
       "      <td>1</td>\n",
       "      <td>1</td>\n",
       "      <td>0</td>\n",
       "      <td>Purchased the book</td>\n",
       "      <td>1</td>\n",
       "      <td>0</td>\n",
       "      <td>0</td>\n",
       "      <td>0</td>\n",
       "      <td>Средний</td>\n",
       "      <td>3.181283</td>\n",
       "    </tr>\n",
       "    <tr>\n",
       "      <th>...</th>\n",
       "      <td>...</td>\n",
       "      <td>...</td>\n",
       "      <td>...</td>\n",
       "      <td>...</td>\n",
       "      <td>...</td>\n",
       "      <td>...</td>\n",
       "      <td>...</td>\n",
       "      <td>...</td>\n",
       "      <td>...</td>\n",
       "      <td>...</td>\n",
       "      <td>...</td>\n",
       "      <td>...</td>\n",
       "      <td>...</td>\n",
       "      <td>...</td>\n",
       "      <td>...</td>\n",
       "      <td>...</td>\n",
       "      <td>...</td>\n",
       "      <td>...</td>\n",
       "    </tr>\n",
       "    <tr>\n",
       "      <th>2437</th>\n",
       "      <td>16</td>\n",
       "      <td>Female</td>\n",
       "      <td>White</td>\n",
       "      <td>Never been married</td>\n",
       "      <td>High school incomplete</td>\n",
       "      <td>Not employed for pay</td>\n",
       "      <td>$30,000 to under $40,000</td>\n",
       "      <td>1</td>\n",
       "      <td>1</td>\n",
       "      <td>0</td>\n",
       "      <td>0</td>\n",
       "      <td>Purchased the book</td>\n",
       "      <td>0</td>\n",
       "      <td>0</td>\n",
       "      <td>0</td>\n",
       "      <td>0</td>\n",
       "      <td>Выше среднего</td>\n",
       "      <td>-0.751258</td>\n",
       "    </tr>\n",
       "    <tr>\n",
       "      <th>2438</th>\n",
       "      <td>16</td>\n",
       "      <td>Female</td>\n",
       "      <td>White</td>\n",
       "      <td>Never been married</td>\n",
       "      <td>High school incomplete</td>\n",
       "      <td>Not employed for pay</td>\n",
       "      <td>Less than $10,000</td>\n",
       "      <td>1</td>\n",
       "      <td>1</td>\n",
       "      <td>0</td>\n",
       "      <td>0</td>\n",
       "      <td>Borrowed the book from a library</td>\n",
       "      <td>0</td>\n",
       "      <td>0</td>\n",
       "      <td>0</td>\n",
       "      <td>0</td>\n",
       "      <td>Низкий</td>\n",
       "      <td>-0.751258</td>\n",
       "    </tr>\n",
       "    <tr>\n",
       "      <th>2439</th>\n",
       "      <td>16</td>\n",
       "      <td>Male</td>\n",
       "      <td>White</td>\n",
       "      <td>Never been married</td>\n",
       "      <td>High school incomplete</td>\n",
       "      <td>Not employed for pay</td>\n",
       "      <td>9$100,000 to under $150,000</td>\n",
       "      <td>1</td>\n",
       "      <td>0</td>\n",
       "      <td>0</td>\n",
       "      <td>0</td>\n",
       "      <td>Got the book some other way</td>\n",
       "      <td>1</td>\n",
       "      <td>0</td>\n",
       "      <td>0</td>\n",
       "      <td>0</td>\n",
       "      <td>Очень высокий</td>\n",
       "      <td>-0.751258</td>\n",
       "    </tr>\n",
       "    <tr>\n",
       "      <th>2440</th>\n",
       "      <td>16</td>\n",
       "      <td>Female</td>\n",
       "      <td>White</td>\n",
       "      <td>Never been married</td>\n",
       "      <td>High school incomplete</td>\n",
       "      <td>Employed part-time</td>\n",
       "      <td>9$100,000 to under $150,000</td>\n",
       "      <td>1</td>\n",
       "      <td>1</td>\n",
       "      <td>0</td>\n",
       "      <td>0</td>\n",
       "      <td>Borrowed the book from a friend or family member</td>\n",
       "      <td>0</td>\n",
       "      <td>1</td>\n",
       "      <td>0</td>\n",
       "      <td>0</td>\n",
       "      <td>Очень высокий</td>\n",
       "      <td>-0.751258</td>\n",
       "    </tr>\n",
       "    <tr>\n",
       "      <th>2441</th>\n",
       "      <td>16</td>\n",
       "      <td>Female</td>\n",
       "      <td>White</td>\n",
       "      <td>Never been married</td>\n",
       "      <td>High school incomplete</td>\n",
       "      <td>Not employed for pay</td>\n",
       "      <td>$10,000 to under $20,000</td>\n",
       "      <td>1</td>\n",
       "      <td>1</td>\n",
       "      <td>0</td>\n",
       "      <td>0</td>\n",
       "      <td>Borrowed the book from a library</td>\n",
       "      <td>0</td>\n",
       "      <td>0</td>\n",
       "      <td>0</td>\n",
       "      <td>0</td>\n",
       "      <td>Средний</td>\n",
       "      <td>-0.751258</td>\n",
       "    </tr>\n",
       "  </tbody>\n",
       "</table>\n",
       "<p>2442 rows × 18 columns</p>\n",
       "</div>"
      ],
      "text/plain": [
       "      Возраст     Пол           Расовая принадлежность  Семейное положение  \\\n",
       "0          66    Male                          Refused            Divorced   \n",
       "1          46    Male  Native American/American Indian             Married   \n",
       "2          32    Male                       Mixed race  Never been married   \n",
       "3          27    Male                       Mixed race             Married   \n",
       "4          16  Female                       Mixed race  Never been married   \n",
       "...       ...     ...                              ...                 ...   \n",
       "2437       16  Female                            White  Never been married   \n",
       "2438       16  Female                            White  Never been married   \n",
       "2439       16    Male                            White  Never been married   \n",
       "2440       16  Female                            White  Never been married   \n",
       "2441       16  Female                            White  Never been married   \n",
       "\n",
       "         Уровень образования       Трудоустройство  \\\n",
       "0           College graduate               Retired   \n",
       "1       High school graduate    Employed full-time   \n",
       "2       High school graduate    Employed full-time   \n",
       "3       High school graduate    Employed full-time   \n",
       "4     High school incomplete    Employed part-time   \n",
       "...                      ...                   ...   \n",
       "2437  High school incomplete  Not employed for pay   \n",
       "2438  High school incomplete  Not employed for pay   \n",
       "2439  High school incomplete  Not employed for pay   \n",
       "2440  High school incomplete    Employed part-time   \n",
       "2441  High school incomplete  Not employed for pay   \n",
       "\n",
       "                            Доход  Количество прочитанных книг за год  \\\n",
       "0        $20,000 to under $30,000                                  97   \n",
       "1               Less than $10,000                                  97   \n",
       "2               Less than $10,000                                  97   \n",
       "3        $40,000 to under $50,000                                  97   \n",
       "4        $10,000 to under $20,000                                  97   \n",
       "...                           ...                                 ...   \n",
       "2437     $30,000 to under $40,000                                   1   \n",
       "2438            Less than $10,000                                   1   \n",
       "2439  9$100,000 to under $150,000                                   1   \n",
       "2440  9$100,000 to under $150,000                                   1   \n",
       "2441     $10,000 to under $20,000                                   1   \n",
       "\n",
       "      Чтение печатных книг за год  Прослушивание аудиокниг за год  \\\n",
       "0                               1                               0   \n",
       "1                               1                               1   \n",
       "2                               0                               1   \n",
       "3                               1                               0   \n",
       "4                               1                               1   \n",
       "...                           ...                             ...   \n",
       "2437                            1                               0   \n",
       "2438                            1                               0   \n",
       "2439                            0                               0   \n",
       "2440                            1                               0   \n",
       "2441                            1                               0   \n",
       "\n",
       "      Чтение электронных книг за год  \\\n",
       "0                                  1   \n",
       "1                                  1   \n",
       "2                                  1   \n",
       "3                                  1   \n",
       "4                                  0   \n",
       "...                              ...   \n",
       "2437                               0   \n",
       "2438                               0   \n",
       "2439                               0   \n",
       "2440                               0   \n",
       "2441                               0   \n",
       "\n",
       "                    Откуда последняя прочитанная книга  \\\n",
       "0                                   Purchased the book   \n",
       "1                                   Purchased the book   \n",
       "2     Borrowed the book from a friend or family member   \n",
       "3                     Borrowed the book from a library   \n",
       "4                                   Purchased the book   \n",
       "...                                                ...   \n",
       "2437                                Purchased the book   \n",
       "2438                  Borrowed the book from a library   \n",
       "2439                       Got the book some other way   \n",
       "2440  Borrowed the book from a friend or family member   \n",
       "2441                  Borrowed the book from a library   \n",
       "\n",
       "      Чтение новостей или газет  Чтение журналов  Настоящий читатель  \\\n",
       "0                             0                1                   0   \n",
       "1                             1                1                   1   \n",
       "2                             1                1                   0   \n",
       "3                             1                0                   0   \n",
       "4                             1                0                   0   \n",
       "...                         ...              ...                 ...   \n",
       "2437                          0                0                   0   \n",
       "2438                          0                0                   0   \n",
       "2439                          1                0                   0   \n",
       "2440                          0                1                   0   \n",
       "2441                          0                0                   0   \n",
       "\n",
       "      Любитель периодической печати Уровень дохода   z-score  \n",
       "0                                 0        Средний  3.181283  \n",
       "1                                 1         Низкий  3.181283  \n",
       "2                                 1         Низкий  3.181283  \n",
       "3                                 0  Выше среднего  3.181283  \n",
       "4                                 0        Средний  3.181283  \n",
       "...                             ...            ...       ...  \n",
       "2437                              0  Выше среднего -0.751258  \n",
       "2438                              0         Низкий -0.751258  \n",
       "2439                              0  Очень высокий -0.751258  \n",
       "2440                              0  Очень высокий -0.751258  \n",
       "2441                              0        Средний -0.751258  \n",
       "\n",
       "[2442 rows x 18 columns]"
      ]
     },
     "execution_count": 214,
     "metadata": {},
     "output_type": "execute_result"
    }
   ],
   "source": [
    "df_read   #в нашей таблице появилась новая колонка с рассчитанной по количеству прочитанных книг z-оценкой"
   ]
  },
  {
   "cell_type": "markdown",
   "id": "2f7f8bf8",
   "metadata": {},
   "source": [
    "В дальнейшем мы сможем использовать эти значения для понимания и выявления зависимостей между переменными."
   ]
  },
  {
   "cell_type": "markdown",
   "id": "24002a49",
   "metadata": {},
   "source": [
    "# Определение выбросов"
   ]
  },
  {
   "cell_type": "markdown",
   "id": "887d6166",
   "metadata": {},
   "source": [
    "Найдем выбросы с помощью значения интеркварильного размаха. Будем считать выбросом все то, что находится ниже первой квартили на 1,5 интерквартильных размаха и выше третьей квартили на те же 1,5 интерквартильных размаха"
   ]
  },
  {
   "cell_type": "code",
   "execution_count": 215,
   "id": "33364911",
   "metadata": {},
   "outputs": [
    {
     "name": "stdout",
     "output_type": "stream",
     "text": [
      "24.0 4.0\n"
     ]
    }
   ],
   "source": [
    "q3 = np.percentile(df_read['Количество прочитанных книг за год'], 75)\n",
    "q1 = np.percentile(df_read['Количество прочитанных книг за год'], 25)\n",
    "print (q3, q1)"
   ]
  },
  {
   "cell_type": "code",
   "execution_count": 216,
   "id": "6618543a",
   "metadata": {},
   "outputs": [
    {
     "data": {
      "text/plain": [
       "20.0"
      ]
     },
     "execution_count": 216,
     "metadata": {},
     "output_type": "execute_result"
    }
   ],
   "source": [
    "iqr = q3 - q1\n",
    "iqr"
   ]
  },
  {
   "cell_type": "code",
   "execution_count": 217,
   "id": "b9e82cc0",
   "metadata": {},
   "outputs": [
    {
     "name": "stdout",
     "output_type": "stream",
     "text": [
      "-26.0\n",
      "54.0\n"
     ]
    }
   ],
   "source": [
    "#Определяем границы\n",
    "\n",
    "iqr_outlier_threshold_bottom = q1 - 1.5 * iqr   #нижняя граница \n",
    "iqr_outlier_threshold_up = q3 + 1.5 * iqr       #верхняя граница\n",
    "print(iqr_outlier_threshold_bottom)\n",
    "print(iqr_outlier_threshold_up)"
   ]
  },
  {
   "cell_type": "markdown",
   "id": "72124983",
   "metadata": {},
   "source": [
    "Распределение смещенное, наш нижний порог (левый) оказался ниже минимального значения. У нас не будет выросов слева от медианы, а справа будет, потому что значение граниицы не превышает максимального значения. **Сколько у нас наблюдений, которые мы будем считать выбросами?**"
   ]
  },
  {
   "cell_type": "code",
   "execution_count": 218,
   "id": "1b3ddb71",
   "metadata": {},
   "outputs": [
    {
     "data": {
      "text/plain": [
       "(198, 18)"
      ]
     },
     "execution_count": 218,
     "metadata": {},
     "output_type": "execute_result"
    }
   ],
   "source": [
    "df_read[df_read['Количество прочитанных книг за год'] > iqr_outlier_threshold_up].shape\n",
    "\n",
    "#198 - не так много выбросов"
   ]
  },
  {
   "cell_type": "markdown",
   "id": "07e6150b",
   "metadata": {},
   "source": [
    "# АНАЛИЗ ДАННЫХ. ПРОВЕРКА ГИПОТЕЗ"
   ]
  },
  {
   "cell_type": "markdown",
   "id": "13f9759a",
   "metadata": {},
   "source": [
    "Нужно выяснить, что влияет на появление привычек чтения у опрошенных, от чего зависит количество прочитанных книг и проявление интереса к книгам разного вида, новостным жанрам и журналам"
   ]
  },
  {
   "cell_type": "markdown",
   "id": "23d7af21",
   "metadata": {},
   "source": [
    "**Гипотезы:**\n",
    "\n",
    "R1. Чем выше уровень образования опрошенных, тем большее количество прочитанных книг за год \n",
    "\n",
    "R2. Чем старше респондент, тем больше книг за год он прочитал \n",
    "\n",
    "R3. Люди с высоким уровнем дохода читают больше книг \n",
    "\n",
    "R4. Женщины прочитали большее количество книг за год\n",
    "\n",
    "R5. Не работающие респонденты прочитали больше книг за год\n",
    "\n",
    "R6. Электронные книги более популярны, чем аудиокниги и печатные издания\n",
    "\n",
    "R7. Люди с высоким и очень высоким уровнем дохода читают больше печатных книг\n",
    "\n",
    "R8. Среди старшего поколения (>40 лет) больше \"Любителей периодической печати\""
   ]
  },
  {
   "cell_type": "markdown",
   "id": "e7586d61",
   "metadata": {},
   "source": [
    "# Правда ли, что, чем выше уровень образования, тем большее количество прочитанных книг за год?"
   ]
  },
  {
   "cell_type": "markdown",
   "id": "52e5a6fa",
   "metadata": {},
   "source": [
    "Проверим данную гипотезу с помощью z-оценки"
   ]
  },
  {
   "cell_type": "code",
   "execution_count": 219,
   "id": "a801d564",
   "metadata": {},
   "outputs": [
    {
     "data": {
      "text/plain": [
       "Уровень образования\n",
       "College graduate                                            0.017394\n",
       "Don’t know                                                 -0.351859\n",
       "High school graduate                                       -0.132717\n",
       "High school incomplete                                     -0.137398\n",
       "None                                                       -0.396237\n",
       "Post-graduate training/professional school after college    0.169967\n",
       "Some college, no 4-year degree                              0.031727\n",
       "Technical, trade or vocational school AFTER high school     0.001142\n",
       "Name: z-score, dtype: float64"
      ]
     },
     "execution_count": 219,
     "metadata": {},
     "output_type": "execute_result"
    }
   ],
   "source": [
    "df_read.groupby('Уровень образования')['z-score'].mean()"
   ]
  },
  {
   "cell_type": "code",
   "execution_count": 296,
   "id": "da6b2e04",
   "metadata": {},
   "outputs": [],
   "source": [
    "dependency = df_read.groupby('Уровень образования')['Количество прочитанных книг за год'].mean()"
   ]
  },
  {
   "cell_type": "code",
   "execution_count": 297,
   "id": "42892588",
   "metadata": {},
   "outputs": [
    {
     "data": {
      "text/plain": [
       "<BarContainer object of 8 artists>"
      ]
     },
     "execution_count": 297,
     "metadata": {},
     "output_type": "execute_result"
    },
    {
     "data": {
      "image/png": "[encoded data removed]",
      "text/plain": [
       "<Figure size 1440x576 with 1 Axes>"
      ]
     },
     "metadata": {
      "needs_background": "light"
     },
     "output_type": "display_data"
    }
   ],
   "source": [
    "#График 1\n",
    "\n",
    "fig, ax = plt.subplots(figsize = (20,8)) \n",
    "\n",
    "ax.bar(dependency.index, dependency, color='purple')"
   ]
  },
  {
   "cell_type": "markdown",
   "id": "a5fcbf75",
   "metadata": {},
   "source": [
    "Мы видим распределение в зависимости от уровня образования. Судя по результатам, можем сделать следующие выводы:\n",
    "\n",
    "1. Люди без образования прочитали книг за год ниже среднего на 0.4\n",
    "    \n",
    "2. Люди с самым высоким уровнем образования (Post-graduate training/professional school after college) прочитали выше среднего на 0.2\n",
    "\n",
    "График 1 подтверждает данные выводы.    \n",
    "Таким образом, мы видим, что уровень образования тесно взаимосвязан с показателем количества прочитанных за год, что подтверждает первую гипотезу: чем выше уровень образования, тем больше прочитанных за год книг\n"
   ]
  },
  {
   "cell_type": "markdown",
   "id": "67287da0",
   "metadata": {},
   "source": [
    "# Правда ли, что, чем старше респондент, тем больше книг за год он прочитал?"
   ]
  },
  {
   "cell_type": "markdown",
   "id": "8bd756a0",
   "metadata": {},
   "source": [
    "Для определения данной зависимости можем использовать коэффициент корреляции"
   ]
  },
  {
   "cell_type": "code",
   "execution_count": 220,
   "id": "a7fb2045",
   "metadata": {},
   "outputs": [
    {
     "data": {
      "text/html": [
       "<div>\n",
       "<style scoped>\n",
       "    .dataframe tbody tr th:only-of-type {\n",
       "        vertical-align: middle;\n",
       "    }\n",
       "\n",
       "    .dataframe tbody tr th {\n",
       "        vertical-align: top;\n",
       "    }\n",
       "\n",
       "    .dataframe thead th {\n",
       "        text-align: right;\n",
       "    }\n",
       "</style>\n",
       "<table border=\"1\" class=\"dataframe\">\n",
       "  <thead>\n",
       "    <tr style=\"text-align: right;\">\n",
       "      <th></th>\n",
       "      <th>Возраст</th>\n",
       "      <th>Количество прочитанных книг за год</th>\n",
       "      <th>Чтение печатных книг за год</th>\n",
       "      <th>Прослушивание аудиокниг за год</th>\n",
       "      <th>Чтение электронных книг за год</th>\n",
       "      <th>Чтение новостей или газет</th>\n",
       "      <th>Чтение журналов</th>\n",
       "      <th>Настоящий читатель</th>\n",
       "      <th>Любитель периодической печати</th>\n",
       "      <th>z-score</th>\n",
       "    </tr>\n",
       "  </thead>\n",
       "  <tbody>\n",
       "    <tr>\n",
       "      <th>Возраст</th>\n",
       "      <td>1.000000</td>\n",
       "      <td>0.094028</td>\n",
       "      <td>0.039545</td>\n",
       "      <td>0.021902</td>\n",
       "      <td>-0.058294</td>\n",
       "      <td>0.247989</td>\n",
       "      <td>0.147284</td>\n",
       "      <td>0.034002</td>\n",
       "      <td>0.223053</td>\n",
       "      <td>0.094028</td>\n",
       "    </tr>\n",
       "    <tr>\n",
       "      <th>Количество прочитанных книг за год</th>\n",
       "      <td>0.094028</td>\n",
       "      <td>1.000000</td>\n",
       "      <td>0.090432</td>\n",
       "      <td>0.120585</td>\n",
       "      <td>0.167150</td>\n",
       "      <td>0.069396</td>\n",
       "      <td>0.110154</td>\n",
       "      <td>0.138719</td>\n",
       "      <td>0.110811</td>\n",
       "      <td>1.000000</td>\n",
       "    </tr>\n",
       "    <tr>\n",
       "      <th>Чтение печатных книг за год</th>\n",
       "      <td>0.039545</td>\n",
       "      <td>0.090432</td>\n",
       "      <td>1.000000</td>\n",
       "      <td>-0.029649</td>\n",
       "      <td>-0.113370</td>\n",
       "      <td>0.026355</td>\n",
       "      <td>0.083444</td>\n",
       "      <td>0.057028</td>\n",
       "      <td>0.069904</td>\n",
       "      <td>0.090432</td>\n",
       "    </tr>\n",
       "    <tr>\n",
       "      <th>Прослушивание аудиокниг за год</th>\n",
       "      <td>0.021902</td>\n",
       "      <td>0.120585</td>\n",
       "      <td>-0.029649</td>\n",
       "      <td>1.000000</td>\n",
       "      <td>0.174581</td>\n",
       "      <td>0.031739</td>\n",
       "      <td>0.097475</td>\n",
       "      <td>0.452115</td>\n",
       "      <td>0.075385</td>\n",
       "      <td>0.120585</td>\n",
       "    </tr>\n",
       "    <tr>\n",
       "      <th>Чтение электронных книг за год</th>\n",
       "      <td>-0.058294</td>\n",
       "      <td>0.167150</td>\n",
       "      <td>-0.113370</td>\n",
       "      <td>0.174581</td>\n",
       "      <td>1.000000</td>\n",
       "      <td>0.056696</td>\n",
       "      <td>0.076494</td>\n",
       "      <td>0.294935</td>\n",
       "      <td>0.073149</td>\n",
       "      <td>0.167150</td>\n",
       "    </tr>\n",
       "    <tr>\n",
       "      <th>Чтение новостей или газет</th>\n",
       "      <td>0.247989</td>\n",
       "      <td>0.069396</td>\n",
       "      <td>0.026355</td>\n",
       "      <td>0.031739</td>\n",
       "      <td>0.056696</td>\n",
       "      <td>1.000000</td>\n",
       "      <td>0.186725</td>\n",
       "      <td>0.154151</td>\n",
       "      <td>0.630641</td>\n",
       "      <td>0.069396</td>\n",
       "    </tr>\n",
       "    <tr>\n",
       "      <th>Чтение журналов</th>\n",
       "      <td>0.147284</td>\n",
       "      <td>0.110154</td>\n",
       "      <td>0.083444</td>\n",
       "      <td>0.097475</td>\n",
       "      <td>0.076494</td>\n",
       "      <td>0.186725</td>\n",
       "      <td>1.000000</td>\n",
       "      <td>0.175169</td>\n",
       "      <td>0.716625</td>\n",
       "      <td>0.110154</td>\n",
       "    </tr>\n",
       "    <tr>\n",
       "      <th>Настоящий читатель</th>\n",
       "      <td>0.034002</td>\n",
       "      <td>0.138719</td>\n",
       "      <td>0.057028</td>\n",
       "      <td>0.452115</td>\n",
       "      <td>0.294935</td>\n",
       "      <td>0.154151</td>\n",
       "      <td>0.175169</td>\n",
       "      <td>1.000000</td>\n",
       "      <td>0.244436</td>\n",
       "      <td>0.138719</td>\n",
       "    </tr>\n",
       "    <tr>\n",
       "      <th>Любитель периодической печати</th>\n",
       "      <td>0.223053</td>\n",
       "      <td>0.110811</td>\n",
       "      <td>0.069904</td>\n",
       "      <td>0.075385</td>\n",
       "      <td>0.073149</td>\n",
       "      <td>0.630641</td>\n",
       "      <td>0.716625</td>\n",
       "      <td>0.244436</td>\n",
       "      <td>1.000000</td>\n",
       "      <td>0.110811</td>\n",
       "    </tr>\n",
       "    <tr>\n",
       "      <th>z-score</th>\n",
       "      <td>0.094028</td>\n",
       "      <td>1.000000</td>\n",
       "      <td>0.090432</td>\n",
       "      <td>0.120585</td>\n",
       "      <td>0.167150</td>\n",
       "      <td>0.069396</td>\n",
       "      <td>0.110154</td>\n",
       "      <td>0.138719</td>\n",
       "      <td>0.110811</td>\n",
       "      <td>1.000000</td>\n",
       "    </tr>\n",
       "  </tbody>\n",
       "</table>\n",
       "</div>"
      ],
      "text/plain": [
       "                                     Возраст  \\\n",
       "Возраст                             1.000000   \n",
       "Количество прочитанных книг за год  0.094028   \n",
       "Чтение печатных книг за год         0.039545   \n",
       "Прослушивание аудиокниг за год      0.021902   \n",
       "Чтение электронных книг за год     -0.058294   \n",
       "Чтение новостей или газет           0.247989   \n",
       "Чтение журналов                     0.147284   \n",
       "Настоящий читатель                  0.034002   \n",
       "Любитель периодической печати       0.223053   \n",
       "z-score                             0.094028   \n",
       "\n",
       "                                    Количество прочитанных книг за год  \\\n",
       "Возраст                                                       0.094028   \n",
       "Количество прочитанных книг за год                            1.000000   \n",
       "Чтение печатных книг за год                                   0.090432   \n",
       "Прослушивание аудиокниг за год                                0.120585   \n",
       "Чтение электронных книг за год                                0.167150   \n",
       "Чтение новостей или газет                                     0.069396   \n",
       "Чтение журналов                                               0.110154   \n",
       "Настоящий читатель                                            0.138719   \n",
       "Любитель периодической печати                                 0.110811   \n",
       "z-score                                                       1.000000   \n",
       "\n",
       "                                    Чтение печатных книг за год  \\\n",
       "Возраст                                                0.039545   \n",
       "Количество прочитанных книг за год                     0.090432   \n",
       "Чтение печатных книг за год                            1.000000   \n",
       "Прослушивание аудиокниг за год                        -0.029649   \n",
       "Чтение электронных книг за год                        -0.113370   \n",
       "Чтение новостей или газет                              0.026355   \n",
       "Чтение журналов                                        0.083444   \n",
       "Настоящий читатель                                     0.057028   \n",
       "Любитель периодической печати                          0.069904   \n",
       "z-score                                                0.090432   \n",
       "\n",
       "                                    Прослушивание аудиокниг за год  \\\n",
       "Возраст                                                   0.021902   \n",
       "Количество прочитанных книг за год                        0.120585   \n",
       "Чтение печатных книг за год                              -0.029649   \n",
       "Прослушивание аудиокниг за год                            1.000000   \n",
       "Чтение электронных книг за год                            0.174581   \n",
       "Чтение новостей или газет                                 0.031739   \n",
       "Чтение журналов                                           0.097475   \n",
       "Настоящий читатель                                        0.452115   \n",
       "Любитель периодической печати                             0.075385   \n",
       "z-score                                                   0.120585   \n",
       "\n",
       "                                    Чтение электронных книг за год  \\\n",
       "Возраст                                                  -0.058294   \n",
       "Количество прочитанных книг за год                        0.167150   \n",
       "Чтение печатных книг за год                              -0.113370   \n",
       "Прослушивание аудиокниг за год                            0.174581   \n",
       "Чтение электронных книг за год                            1.000000   \n",
       "Чтение новостей или газет                                 0.056696   \n",
       "Чтение журналов                                           0.076494   \n",
       "Настоящий читатель                                        0.294935   \n",
       "Любитель периодической печати                             0.073149   \n",
       "z-score                                                   0.167150   \n",
       "\n",
       "                                    Чтение новостей или газет  \\\n",
       "Возраст                                              0.247989   \n",
       "Количество прочитанных книг за год                   0.069396   \n",
       "Чтение печатных книг за год                          0.026355   \n",
       "Прослушивание аудиокниг за год                       0.031739   \n",
       "Чтение электронных книг за год                       0.056696   \n",
       "Чтение новостей или газет                            1.000000   \n",
       "Чтение журналов                                      0.186725   \n",
       "Настоящий читатель                                   0.154151   \n",
       "Любитель периодической печати                        0.630641   \n",
       "z-score                                              0.069396   \n",
       "\n",
       "                                    Чтение журналов  Настоящий читатель  \\\n",
       "Возраст                                    0.147284            0.034002   \n",
       "Количество прочитанных книг за год         0.110154            0.138719   \n",
       "Чтение печатных книг за год                0.083444            0.057028   \n",
       "Прослушивание аудиокниг за год             0.097475            0.452115   \n",
       "Чтение электронных книг за год             0.076494            0.294935   \n",
       "Чтение новостей или газет                  0.186725            0.154151   \n",
       "Чтение журналов                            1.000000            0.175169   \n",
       "Настоящий читатель                         0.175169            1.000000   \n",
       "Любитель периодической печати              0.716625            0.244436   \n",
       "z-score                                    0.110154            0.138719   \n",
       "\n",
       "                                    Любитель периодической печати   z-score  \n",
       "Возраст                                                  0.223053  0.094028  \n",
       "Количество прочитанных книг за год                       0.110811  1.000000  \n",
       "Чтение печатных книг за год                              0.069904  0.090432  \n",
       "Прослушивание аудиокниг за год                           0.075385  0.120585  \n",
       "Чтение электронных книг за год                           0.073149  0.167150  \n",
       "Чтение новостей или газет                                0.630641  0.069396  \n",
       "Чтение журналов                                          0.716625  0.110154  \n",
       "Настоящий читатель                                       0.244436  0.138719  \n",
       "Любитель периодической печати                            1.000000  0.110811  \n",
       "z-score                                                  0.110811  1.000000  "
      ]
     },
     "execution_count": 220,
     "metadata": {},
     "output_type": "execute_result"
    }
   ],
   "source": [
    "df_read.corr()"
   ]
  },
  {
   "cell_type": "markdown",
   "id": "2f2e723e",
   "metadata": {},
   "source": [
    "В данной таблице присутствуют все цифровые значения, хотя некоторые не могут быть использованы, так как их числовые обозначения несут толко бинарный характер (1 и 0)"
   ]
  },
  {
   "cell_type": "code",
   "execution_count": 221,
   "id": "1d98636a",
   "metadata": {},
   "outputs": [
    {
     "data": {
      "text/plain": [
       "<AxesSubplot:>"
      ]
     },
     "execution_count": 221,
     "metadata": {},
     "output_type": "execute_result"
    },
    {
     "data": {
      "image/png": "[encoded data removed]",
      "text/plain": [
       "<Figure size 1296x720 with 2 Axes>"
      ]
     },
     "metadata": {
      "needs_background": "light"
     },
     "output_type": "display_data"
    }
   ],
   "source": [
    "plt.figure(figsize = (18,10))\n",
    "sns.heatmap(df_read.corr(), annot = True, center = 1)"
   ]
  },
  {
   "cell_type": "code",
   "execution_count": 222,
   "id": "2bf6bf1f",
   "metadata": {
    "scrolled": true
   },
   "outputs": [
    {
     "data": {
      "text/plain": [
       "0.09402816345111413"
      ]
     },
     "execution_count": 222,
     "metadata": {},
     "output_type": "execute_result"
    }
   ],
   "source": [
    "df_read['Возраст'].corr(df_read['Количество прочитанных книг за год'])"
   ]
  },
  {
   "cell_type": "code",
   "execution_count": 223,
   "id": "07da3571",
   "metadata": {
    "scrolled": false
   },
   "outputs": [
    {
     "data": {
      "text/plain": [
       "<AxesSubplot:xlabel='Возраст', ylabel='Количество прочитанных книг за год'>"
      ]
     },
     "execution_count": 223,
     "metadata": {},
     "output_type": "execute_result"
    },
    {
     "data": {
      "image/png": "[encoded data removed]",
      "text/plain": [
       "<Figure size 432x288 with 1 Axes>"
      ]
     },
     "metadata": {
      "needs_background": "light"
     },
     "output_type": "display_data"
    }
   ],
   "source": [
    "df_read.plot('Возраст','Количество прочитанных книг за год', kind='scatter')"
   ]
  },
  {
   "cell_type": "markdown",
   "id": "52bc8e62",
   "metadata": {},
   "source": [
    "Значение коэффициента корреляции согласно классификации ниже, чем слабая (0.1). Таким образом, можем сделать вывод, что взаимосвязь возраста и количества прочитанных книг за год практически отсутствует"
   ]
  },
  {
   "cell_type": "code",
   "execution_count": 224,
   "id": "55506b9a",
   "metadata": {},
   "outputs": [
    {
     "data": {
      "text/plain": [
       "Возраст\n",
       "16    1356\n",
       "17     988\n",
       "18     703\n",
       "19     654\n",
       "20     509\n",
       "      ... \n",
       "88     127\n",
       "89     102\n",
       "90      50\n",
       "91      19\n",
       "93       3\n",
       "Name: Количество прочитанных книг за год, Length: 77, dtype: int64"
      ]
     },
     "execution_count": 224,
     "metadata": {},
     "output_type": "execute_result"
    }
   ],
   "source": [
    "df_read.groupby('Возраст')['Количество прочитанных книг за год'].sum()"
   ]
  },
  {
   "cell_type": "markdown",
   "id": "c51b781d",
   "metadata": {},
   "source": [
    "Узнав суммарное значение количества прочитанных книг за год, и отфильтровав их по возрасту, можем сказать, что возраст никак не влияет частоту чтения книг в течение года. Гипотеза \"чем старше респондент, тем больше книг он прочитал, не подтверждена."
   ]
  },
  {
   "cell_type": "markdown",
   "id": "89d86225",
   "metadata": {},
   "source": [
    "# Правда ли, что люди с высоким уровнем дохода читают больше книг?"
   ]
  },
  {
   "cell_type": "markdown",
   "id": "ae7c98b1",
   "metadata": {},
   "source": [
    "В данном случае нам помогут выбросы, соотнесенные с доходом. Проследим, есть ли какой-либо разброс по доходу"
   ]
  },
  {
   "cell_type": "code",
   "execution_count": 250,
   "id": "97dadadc",
   "metadata": {},
   "outputs": [
    {
     "data": {
      "text/plain": [
       "$100,000 to under $150,000     46\n",
       "$50,000 to under $75,000       29\n",
       "Refused                        19\n",
       "$75,000 to under $100,000      18\n",
       "9$100,000 to under $150,000    17\n",
       "$30,000 to under $40,000       16\n",
       "$20,000 to under $30,000       15\n",
       "$10,000 to under $20,000       14\n",
       "Less than $10,000              13\n",
       "$40,000 to under $50,000       11\n",
       "Name: Доход, dtype: int64"
      ]
     },
     "execution_count": 250,
     "metadata": {},
     "output_type": "execute_result"
    }
   ],
   "source": [
    "df_read[df_read['Количество прочитанных книг за год'] > iqr_outlier_threshold_up] ['Доход'].value_counts(ascending = False)"
   ]
  },
  {
   "cell_type": "markdown",
   "id": "d41f313f",
   "metadata": {},
   "source": [
    "Видим, что выбросов больше всего там, где находятся значения с высоким уровнем дохода. Таким образом, это обуславиливает проявление большего интереса к чтению. Видимо, в связи с тем, что есть возможность купить печатную, электронную или аудиокнигу. "
   ]
  },
  {
   "cell_type": "markdown",
   "id": "41136f63",
   "metadata": {},
   "source": [
    "# Правда ли, что женщины прочитали большее количество книг за год?"
   ]
  },
  {
   "cell_type": "markdown",
   "id": "85e0f1c5",
   "metadata": {},
   "source": [
    "Выберем отельно женщин, отдельно мужчин и определим медиану для каждого признака по переменной \"Количество прочитанных книг за год\""
   ]
  },
  {
   "cell_type": "code",
   "execution_count": 226,
   "id": "efed97e7",
   "metadata": {},
   "outputs": [
    {
     "data": {
      "text/plain": [
       "10.0"
      ]
     },
     "execution_count": 226,
     "metadata": {},
     "output_type": "execute_result"
    }
   ],
   "source": [
    "df_read[df_read['Пол'] == 'Female']['Количество прочитанных книг за год'].median()"
   ]
  },
  {
   "cell_type": "code",
   "execution_count": 227,
   "id": "79731f9c",
   "metadata": {},
   "outputs": [
    {
     "data": {
      "text/plain": [
       "8.0"
      ]
     },
     "execution_count": 227,
     "metadata": {},
     "output_type": "execute_result"
    }
   ],
   "source": [
    "df_read[df_read['Пол'] == 'Male']['Количество прочитанных книг за год'].median()"
   ]
  },
  {
   "cell_type": "code",
   "execution_count": 228,
   "id": "dd759c04",
   "metadata": {},
   "outputs": [
    {
     "data": {
      "text/plain": [
       "Пол\n",
       "Female    21.917231\n",
       "Male      16.261456\n",
       "Name: Количество прочитанных книг за год, dtype: float64"
      ]
     },
     "execution_count": 228,
     "metadata": {},
     "output_type": "execute_result"
    }
   ],
   "source": [
    "df_read.groupby('Пол')['Количество прочитанных книг за год'].mean()"
   ]
  },
  {
   "cell_type": "code",
   "execution_count": 229,
   "id": "bc4a8c69",
   "metadata": {},
   "outputs": [
    {
     "data": {
      "text/plain": [
       "<BarContainer object of 2 artists>"
      ]
     },
     "execution_count": 229,
     "metadata": {},
     "output_type": "execute_result"
    },
    {
     "data": {
      "image/png": "[encoded data removed]",
      "text/plain": [
       "<Figure size 720x576 with 1 Axes>"
      ]
     },
     "metadata": {
      "needs_background": "light"
     },
     "output_type": "display_data"
    }
   ],
   "source": [
    "dependency = df_read.groupby('Пол')['Количество прочитанных книг за год'].mean()\n",
    "fig, ax = plt.subplots(figsize = (10,8)) \n",
    "\n",
    "ax.bar(dependency.index, dependency, color= 'purple')\n"
   ]
  },
  {
   "cell_type": "markdown",
   "id": "b639fc83",
   "metadata": {},
   "source": [
    "Таким образом, медиана и среднее значение у женской половины читателей больше, следовательно, **гипотеза подтверждается**. Наглядно результаты представлены на графике"
   ]
  },
  {
   "cell_type": "markdown",
   "id": "90a9b526",
   "metadata": {},
   "source": [
    "# Правда ли, что не работающие респонденты прочитали больше книг за год?"
   ]
  },
  {
   "cell_type": "code",
   "execution_count": 230,
   "id": "6a3e1cb3",
   "metadata": {},
   "outputs": [
    {
     "data": {
      "text/plain": [
       "array(['Retired', 'Employed full-time', 'Employed part-time',\n",
       "       'Have own business/self-employed', 'Student', 'Other',\n",
       "       'Not employed for pay', 'Disabled'], dtype=object)"
      ]
     },
     "execution_count": 230,
     "metadata": {},
     "output_type": "execute_result"
    }
   ],
   "source": [
    "df_read['Трудоустройство'].unique()"
   ]
  },
  {
   "cell_type": "code",
   "execution_count": 231,
   "id": "da8c02b8",
   "metadata": {},
   "outputs": [
    {
     "data": {
      "text/html": [
       "<div>\n",
       "<style scoped>\n",
       "    .dataframe tbody tr th:only-of-type {\n",
       "        vertical-align: middle;\n",
       "    }\n",
       "\n",
       "    .dataframe tbody tr th {\n",
       "        vertical-align: top;\n",
       "    }\n",
       "\n",
       "    .dataframe thead tr th {\n",
       "        text-align: left;\n",
       "    }\n",
       "\n",
       "    .dataframe thead tr:last-of-type th {\n",
       "        text-align: right;\n",
       "    }\n",
       "</style>\n",
       "<table border=\"1\" class=\"dataframe\">\n",
       "  <thead>\n",
       "    <tr>\n",
       "      <th></th>\n",
       "      <th>median</th>\n",
       "    </tr>\n",
       "    <tr>\n",
       "      <th></th>\n",
       "      <th>Количество прочитанных книг за год</th>\n",
       "    </tr>\n",
       "    <tr>\n",
       "      <th>Трудоустройство</th>\n",
       "      <th></th>\n",
       "    </tr>\n",
       "  </thead>\n",
       "  <tbody>\n",
       "    <tr>\n",
       "      <th>Disabled</th>\n",
       "      <td>6</td>\n",
       "    </tr>\n",
       "    <tr>\n",
       "      <th>Employed full-time</th>\n",
       "      <td>10</td>\n",
       "    </tr>\n",
       "    <tr>\n",
       "      <th>Employed part-time</th>\n",
       "      <td>10</td>\n",
       "    </tr>\n",
       "    <tr>\n",
       "      <th>Have own business/self-employed</th>\n",
       "      <td>7</td>\n",
       "    </tr>\n",
       "    <tr>\n",
       "      <th>Not employed for pay</th>\n",
       "      <td>10</td>\n",
       "    </tr>\n",
       "    <tr>\n",
       "      <th>Other</th>\n",
       "      <td>7</td>\n",
       "    </tr>\n",
       "    <tr>\n",
       "      <th>Retired</th>\n",
       "      <td>12</td>\n",
       "    </tr>\n",
       "    <tr>\n",
       "      <th>Student</th>\n",
       "      <td>9</td>\n",
       "    </tr>\n",
       "  </tbody>\n",
       "</table>\n",
       "</div>"
      ],
      "text/plain": [
       "                                                            median\n",
       "                                Количество прочитанных книг за год\n",
       "Трудоустройство                                                   \n",
       "Disabled                                                         6\n",
       "Employed full-time                                              10\n",
       "Employed part-time                                              10\n",
       "Have own business/self-employed                                  7\n",
       "Not employed for pay                                            10\n",
       "Other                                                            7\n",
       "Retired                                                         12\n",
       "Student                                                          9"
      ]
     },
     "execution_count": 231,
     "metadata": {},
     "output_type": "execute_result"
    }
   ],
   "source": [
    "df_read.pivot_table(index='Трудоустройство',\n",
    "                    values = ['Количество прочитанных книг за год'],\n",
    "                    aggfunc=['median'])"
   ]
  },
  {
   "cell_type": "code",
   "execution_count": 232,
   "id": "4f9aea58",
   "metadata": {},
   "outputs": [],
   "source": [
    "median_trud = df_read.pivot_table(index='Трудоустройство',\n",
    "                    values = ['Количество прочитанных книг за год'],\n",
    "                    aggfunc=['median'])"
   ]
  },
  {
   "cell_type": "code",
   "execution_count": 233,
   "id": "da97ef84",
   "metadata": {},
   "outputs": [
    {
     "data": {
      "text/plain": [
       "[<matplotlib.lines.Line2D at 0x56e52e0>]"
      ]
     },
     "execution_count": 233,
     "metadata": {},
     "output_type": "execute_result"
    },
    {
     "data": {
      "image/png": "[encoded data removed]",
      "text/plain": [
       "<Figure size 1440x576 with 1 Axes>"
      ]
     },
     "metadata": {
      "needs_background": "light"
     },
     "output_type": "display_data"
    }
   ],
   "source": [
    "#Для наглядности построим линейный график\n",
    "\n",
    "\n",
    "fig, ax = plt.subplots(figsize = (20,8)) \n",
    "\n",
    "ax.plot(median_trud)"
   ]
  },
  {
   "cell_type": "markdown",
   "id": "caacf191",
   "metadata": {},
   "source": [
    "Согласно медиане, наибольшее значение по количеству прочитанных книг имеют респонденты на пенсии ( в отставке), далее идут люди, которые устроены на полный и неполный рабочий день, а также \"стажеры\"(устроенные без оплаты) и студенты. По графику видно, что пиком медианного значения являются не работающие люди, находящиеся на пенсии. Это отчасти подтверждает гипотезу. Однако отрыв не слишком большой"
   ]
  },
  {
   "cell_type": "markdown",
   "id": "31364b1d",
   "metadata": {},
   "source": [
    "# Правда ли, что электронные книги более популярны, чем аудиокниги и печатные издания?"
   ]
  },
  {
   "cell_type": "code",
   "execution_count": 234,
   "id": "f956ce0a",
   "metadata": {},
   "outputs": [
    {
     "data": {
      "text/plain": [
       "(2264, 18)"
      ]
     },
     "execution_count": 234,
     "metadata": {},
     "output_type": "execute_result"
    }
   ],
   "source": [
    "df_read[df_read[\"Чтение печатных книг за год\"] == 1].shape"
   ]
  },
  {
   "cell_type": "code",
   "execution_count": 235,
   "id": "776ce511",
   "metadata": {},
   "outputs": [
    {
     "data": {
      "text/plain": [
       "(787, 18)"
      ]
     },
     "execution_count": 235,
     "metadata": {},
     "output_type": "execute_result"
    }
   ],
   "source": [
    "df_read[df_read[\"Чтение электронных книг за год\"] == 1].shape"
   ]
  },
  {
   "cell_type": "code",
   "execution_count": 265,
   "id": "adcb40db",
   "metadata": {},
   "outputs": [
    {
     "data": {
      "text/plain": [
       "(411, 18)"
      ]
     },
     "execution_count": 265,
     "metadata": {},
     "output_type": "execute_result"
    }
   ],
   "source": [
    "df_read[df_read[\"Прослушивание аудиокниг за год\"] == 1].shape"
   ]
  },
  {
   "cell_type": "code",
   "execution_count": 268,
   "id": "78b201d5",
   "metadata": {},
   "outputs": [
    {
     "data": {
      "text/plain": [
       "Чтение печатных книг за год       2264\n",
       "Прослушивание аудиокниг за год     411\n",
       "Чтение электронных книг за год     787\n",
       "dtype: int64"
      ]
     },
     "execution_count": 268,
     "metadata": {},
     "output_type": "execute_result"
    }
   ],
   "source": [
    "df_read[['Чтение печатных книг за год', \n",
    "         'Прослушивание аудиокниг за год', \n",
    "         'Чтение электронных книг за год']].sum()"
   ]
  },
  {
   "cell_type": "code",
   "execution_count": 298,
   "id": "bbfa1abc",
   "metadata": {},
   "outputs": [
    {
     "data": {
      "text/plain": [
       "<matplotlib.legend.Legend at 0x1b8f7f58>"
      ]
     },
     "execution_count": 298,
     "metadata": {},
     "output_type": "execute_result"
    },
    {
     "data": {
      "image/png": "[encoded data removed]",
      "text/plain": [
       "<Figure size 432x288 with 1 Axes>"
      ]
     },
     "metadata": {},
     "output_type": "display_data"
    }
   ],
   "source": [
    "colors = ['#0073a1','#8c99a6', '#a87883']\n",
    "labels = 'Чтение печатных книг', 'Прослушивание аудиокниг', 'Чтение электронных книг за год'\n",
    "df_read[['Чтение печатных книг за год', \n",
    "         'Прослушивание аудиокниг за год', \n",
    "         'Чтение электронных книг за год']].sum().plot(kind='pie', \n",
    "                                                       colors = colors, \n",
    "                                                       explode = [0.2, 0, 0], \n",
    "                                                       shadow = True, \n",
    "                                                       title = 'Форматы чтения', \n",
    "                                                       autopct = '%.1f',\n",
    "                                                       ylabel= '',\n",
    "                                                       textprops = {'color': 'w'})\n",
    "plt.legend(labels, loc=\"upper left\", bbox_to_anchor=(1.0, 1.0))"
   ]
  },
  {
   "cell_type": "markdown",
   "id": "513b41fa",
   "metadata": {},
   "source": [
    "В данном случае, мы можем сделать вывод, что печатные книги пользуются наибольшей популярностью у респондентов в сравнении с остальными различными способами чтения - электронными и аудиокнигами. На втором месте находятся электронные книги."
   ]
  },
  {
   "cell_type": "markdown",
   "id": "dc0581a7",
   "metadata": {},
   "source": [
    "# Люди с высоким и очень высоким уровнем дохода читают больше печатных книг"
   ]
  },
  {
   "cell_type": "markdown",
   "id": "baab5d57",
   "metadata": {},
   "source": [
    "Определим, есть ли зависимость между чтением печатных книг и уровнем дохода"
   ]
  },
  {
   "cell_type": "code",
   "execution_count": 248,
   "id": "95a1dc2a",
   "metadata": {},
   "outputs": [
    {
     "data": {
      "text/plain": [
       "Уровень дохода  Чтение печатных книг за год\n",
       "Refused         1                              232\n",
       "                0                               14\n",
       "Высокий         1                              267\n",
       "                0                               19\n",
       "Выше среднего   1                              714\n",
       "                0                               45\n",
       "Низкий          1                              102\n",
       "                0                               15\n",
       "Очень высокий   1                              615\n",
       "                0                               61\n",
       "Средний         1                              334\n",
       "                0                               24\n",
       "Name: Чтение печатных книг за год, dtype: int64"
      ]
     },
     "execution_count": 248,
     "metadata": {},
     "output_type": "execute_result"
    }
   ],
   "source": [
    "df_read.groupby('Уровень дохода')['Чтение печатных книг за год'].value_counts()"
   ]
  },
  {
   "cell_type": "markdown",
   "id": "b3adff1a",
   "metadata": {},
   "source": [
    "Чтением печатных книг увлекаются люди с высоким (267 респондентов) и очень высоким уровнем дохода (615 респондентов). В общем итоге 882 человека, к этому значению приближаются респонденты, читающие печатные книги, но обладающие уровнем дохода выше среднего (714 респондентов). Таким образом, можно сказать, что, чем выше уровень дохода, тем больше людей читает печатные книги. Предположительно, это связано с довольно высокой ценой на печатную продукцию, в том числе книги"
   ]
  },
  {
   "cell_type": "markdown",
   "id": "b6b836f9",
   "metadata": {},
   "source": [
    "# Среди взрослого поколения (>40 лет) больше \"Любителей периодической печати\""
   ]
  },
  {
   "cell_type": "code",
   "execution_count": 238,
   "id": "9ed6867b",
   "metadata": {},
   "outputs": [
    {
     "data": {
      "text/plain": [
       "0    1443\n",
       "1     999\n",
       "Name: Любитель периодической печати, dtype: int64"
      ]
     },
     "execution_count": 238,
     "metadata": {},
     "output_type": "execute_result"
    }
   ],
   "source": [
    "df_read['Любитель периодической печати'].value_counts()"
   ]
  },
  {
   "cell_type": "code",
   "execution_count": 239,
   "id": "7e6e6e59",
   "metadata": {},
   "outputs": [
    {
     "data": {
      "text/html": [
       "<div>\n",
       "<style scoped>\n",
       "    .dataframe tbody tr th:only-of-type {\n",
       "        vertical-align: middle;\n",
       "    }\n",
       "\n",
       "    .dataframe tbody tr th {\n",
       "        vertical-align: top;\n",
       "    }\n",
       "\n",
       "    .dataframe thead th {\n",
       "        text-align: right;\n",
       "    }\n",
       "</style>\n",
       "<table border=\"1\" class=\"dataframe\">\n",
       "  <thead>\n",
       "    <tr style=\"text-align: right;\">\n",
       "      <th></th>\n",
       "      <th>Возраст</th>\n",
       "      <th>Пол</th>\n",
       "      <th>Расовая принадлежность</th>\n",
       "      <th>Семейное положение</th>\n",
       "      <th>Уровень образования</th>\n",
       "      <th>Трудоустройство</th>\n",
       "      <th>Доход</th>\n",
       "      <th>Количество прочитанных книг за год</th>\n",
       "      <th>Чтение печатных книг за год</th>\n",
       "      <th>Прослушивание аудиокниг за год</th>\n",
       "      <th>Чтение электронных книг за год</th>\n",
       "      <th>Откуда последняя прочитанная книга</th>\n",
       "      <th>Чтение новостей или газет</th>\n",
       "      <th>Чтение журналов</th>\n",
       "      <th>Настоящий читатель</th>\n",
       "      <th>Любитель периодической печати</th>\n",
       "      <th>Уровень дохода</th>\n",
       "      <th>z-score</th>\n",
       "    </tr>\n",
       "  </thead>\n",
       "  <tbody>\n",
       "    <tr>\n",
       "      <th>1</th>\n",
       "      <td>46</td>\n",
       "      <td>Male</td>\n",
       "      <td>Native American/American Indian</td>\n",
       "      <td>Married</td>\n",
       "      <td>High school graduate</td>\n",
       "      <td>Employed full-time</td>\n",
       "      <td>Less than $10,000</td>\n",
       "      <td>97</td>\n",
       "      <td>1</td>\n",
       "      <td>1</td>\n",
       "      <td>1</td>\n",
       "      <td>Purchased the book</td>\n",
       "      <td>1</td>\n",
       "      <td>1</td>\n",
       "      <td>1</td>\n",
       "      <td>1</td>\n",
       "      <td>Низкий</td>\n",
       "      <td>3.181283</td>\n",
       "    </tr>\n",
       "    <tr>\n",
       "      <th>7</th>\n",
       "      <td>60</td>\n",
       "      <td>Female</td>\n",
       "      <td>Black or African-American</td>\n",
       "      <td>Married</td>\n",
       "      <td>College graduate</td>\n",
       "      <td>Retired</td>\n",
       "      <td>$100,000 to under $150,000</td>\n",
       "      <td>97</td>\n",
       "      <td>1</td>\n",
       "      <td>0</td>\n",
       "      <td>0</td>\n",
       "      <td>Purchased the book</td>\n",
       "      <td>1</td>\n",
       "      <td>1</td>\n",
       "      <td>0</td>\n",
       "      <td>1</td>\n",
       "      <td>Очень высокий</td>\n",
       "      <td>3.181283</td>\n",
       "    </tr>\n",
       "    <tr>\n",
       "      <th>13</th>\n",
       "      <td>89</td>\n",
       "      <td>Female</td>\n",
       "      <td>White</td>\n",
       "      <td>Widowed</td>\n",
       "      <td>Some college, no 4-year degree</td>\n",
       "      <td>Retired</td>\n",
       "      <td>$30,000 to under $40,000</td>\n",
       "      <td>97</td>\n",
       "      <td>1</td>\n",
       "      <td>0</td>\n",
       "      <td>0</td>\n",
       "      <td>Purchased the book</td>\n",
       "      <td>1</td>\n",
       "      <td>1</td>\n",
       "      <td>0</td>\n",
       "      <td>1</td>\n",
       "      <td>Выше среднего</td>\n",
       "      <td>3.181283</td>\n",
       "    </tr>\n",
       "    <tr>\n",
       "      <th>15</th>\n",
       "      <td>84</td>\n",
       "      <td>Female</td>\n",
       "      <td>White</td>\n",
       "      <td>Widowed</td>\n",
       "      <td>Some college, no 4-year degree</td>\n",
       "      <td>Retired</td>\n",
       "      <td>9$100,000 to under $150,000</td>\n",
       "      <td>97</td>\n",
       "      <td>1</td>\n",
       "      <td>0</td>\n",
       "      <td>0</td>\n",
       "      <td>Borrowed the book from a friend or family member</td>\n",
       "      <td>1</td>\n",
       "      <td>1</td>\n",
       "      <td>0</td>\n",
       "      <td>1</td>\n",
       "      <td>Очень высокий</td>\n",
       "      <td>3.181283</td>\n",
       "    </tr>\n",
       "    <tr>\n",
       "      <th>16</th>\n",
       "      <td>81</td>\n",
       "      <td>Female</td>\n",
       "      <td>White</td>\n",
       "      <td>Married</td>\n",
       "      <td>Some college, no 4-year degree</td>\n",
       "      <td>Retired</td>\n",
       "      <td>$75,000 to under $100,000</td>\n",
       "      <td>97</td>\n",
       "      <td>1</td>\n",
       "      <td>0</td>\n",
       "      <td>0</td>\n",
       "      <td>Purchased the book</td>\n",
       "      <td>1</td>\n",
       "      <td>1</td>\n",
       "      <td>0</td>\n",
       "      <td>1</td>\n",
       "      <td>Высокий</td>\n",
       "      <td>3.181283</td>\n",
       "    </tr>\n",
       "    <tr>\n",
       "      <th>...</th>\n",
       "      <td>...</td>\n",
       "      <td>...</td>\n",
       "      <td>...</td>\n",
       "      <td>...</td>\n",
       "      <td>...</td>\n",
       "      <td>...</td>\n",
       "      <td>...</td>\n",
       "      <td>...</td>\n",
       "      <td>...</td>\n",
       "      <td>...</td>\n",
       "      <td>...</td>\n",
       "      <td>...</td>\n",
       "      <td>...</td>\n",
       "      <td>...</td>\n",
       "      <td>...</td>\n",
       "      <td>...</td>\n",
       "      <td>...</td>\n",
       "      <td>...</td>\n",
       "    </tr>\n",
       "    <tr>\n",
       "      <th>2380</th>\n",
       "      <td>50</td>\n",
       "      <td>Male</td>\n",
       "      <td>White</td>\n",
       "      <td>Married</td>\n",
       "      <td>Some college, no 4-year degree</td>\n",
       "      <td>Employed full-time</td>\n",
       "      <td>$100,000 to under $150,000</td>\n",
       "      <td>1</td>\n",
       "      <td>1</td>\n",
       "      <td>0</td>\n",
       "      <td>0</td>\n",
       "      <td>Borrowed the book from a friend or family member</td>\n",
       "      <td>1</td>\n",
       "      <td>1</td>\n",
       "      <td>0</td>\n",
       "      <td>1</td>\n",
       "      <td>Очень высокий</td>\n",
       "      <td>-0.751258</td>\n",
       "    </tr>\n",
       "    <tr>\n",
       "      <th>2381</th>\n",
       "      <td>49</td>\n",
       "      <td>Male</td>\n",
       "      <td>White</td>\n",
       "      <td>Married</td>\n",
       "      <td>Some college, no 4-year degree</td>\n",
       "      <td>Employed full-time</td>\n",
       "      <td>$75,000 to under $100,000</td>\n",
       "      <td>1</td>\n",
       "      <td>1</td>\n",
       "      <td>0</td>\n",
       "      <td>0</td>\n",
       "      <td>Purchased the book</td>\n",
       "      <td>1</td>\n",
       "      <td>1</td>\n",
       "      <td>0</td>\n",
       "      <td>1</td>\n",
       "      <td>Высокий</td>\n",
       "      <td>-0.751258</td>\n",
       "    </tr>\n",
       "    <tr>\n",
       "      <th>2387</th>\n",
       "      <td>46</td>\n",
       "      <td>Female</td>\n",
       "      <td>White</td>\n",
       "      <td>Living with a partner</td>\n",
       "      <td>High school graduate</td>\n",
       "      <td>Employed full-time</td>\n",
       "      <td>$50,000 to under $75,000</td>\n",
       "      <td>1</td>\n",
       "      <td>1</td>\n",
       "      <td>0</td>\n",
       "      <td>0</td>\n",
       "      <td>8</td>\n",
       "      <td>1</td>\n",
       "      <td>1</td>\n",
       "      <td>0</td>\n",
       "      <td>1</td>\n",
       "      <td>Выше среднего</td>\n",
       "      <td>-0.751258</td>\n",
       "    </tr>\n",
       "    <tr>\n",
       "      <th>2388</th>\n",
       "      <td>46</td>\n",
       "      <td>Male</td>\n",
       "      <td>White</td>\n",
       "      <td>Married</td>\n",
       "      <td>Post-graduate training/professional school aft...</td>\n",
       "      <td>Employed full-time</td>\n",
       "      <td>$100,000 to under $150,000</td>\n",
       "      <td>1</td>\n",
       "      <td>1</td>\n",
       "      <td>1</td>\n",
       "      <td>0</td>\n",
       "      <td>Purchased the book</td>\n",
       "      <td>1</td>\n",
       "      <td>1</td>\n",
       "      <td>0</td>\n",
       "      <td>1</td>\n",
       "      <td>Очень высокий</td>\n",
       "      <td>-0.751258</td>\n",
       "    </tr>\n",
       "    <tr>\n",
       "      <th>2393</th>\n",
       "      <td>44</td>\n",
       "      <td>Female</td>\n",
       "      <td>White</td>\n",
       "      <td>Married</td>\n",
       "      <td>Post-graduate training/professional school aft...</td>\n",
       "      <td>Employed full-time</td>\n",
       "      <td>$100,000 to under $150,000</td>\n",
       "      <td>1</td>\n",
       "      <td>1</td>\n",
       "      <td>0</td>\n",
       "      <td>0</td>\n",
       "      <td>Purchased the book</td>\n",
       "      <td>1</td>\n",
       "      <td>1</td>\n",
       "      <td>0</td>\n",
       "      <td>1</td>\n",
       "      <td>Очень высокий</td>\n",
       "      <td>-0.751258</td>\n",
       "    </tr>\n",
       "  </tbody>\n",
       "</table>\n",
       "<p>734 rows × 18 columns</p>\n",
       "</div>"
      ],
      "text/plain": [
       "      Возраст     Пол           Расовая принадлежность     Семейное положение  \\\n",
       "1          46    Male  Native American/American Indian                Married   \n",
       "7          60  Female        Black or African-American                Married   \n",
       "13         89  Female                            White                Widowed   \n",
       "15         84  Female                            White                Widowed   \n",
       "16         81  Female                            White                Married   \n",
       "...       ...     ...                              ...                    ...   \n",
       "2380       50    Male                            White                Married   \n",
       "2381       49    Male                            White                Married   \n",
       "2387       46  Female                            White  Living with a partner   \n",
       "2388       46    Male                            White                Married   \n",
       "2393       44  Female                            White                Married   \n",
       "\n",
       "                                    Уровень образования     Трудоустройство  \\\n",
       "1                                  High school graduate  Employed full-time   \n",
       "7                                      College graduate             Retired   \n",
       "13                       Some college, no 4-year degree             Retired   \n",
       "15                       Some college, no 4-year degree             Retired   \n",
       "16                       Some college, no 4-year degree             Retired   \n",
       "...                                                 ...                 ...   \n",
       "2380                     Some college, no 4-year degree  Employed full-time   \n",
       "2381                     Some college, no 4-year degree  Employed full-time   \n",
       "2387                               High school graduate  Employed full-time   \n",
       "2388  Post-graduate training/professional school aft...  Employed full-time   \n",
       "2393  Post-graduate training/professional school aft...  Employed full-time   \n",
       "\n",
       "                            Доход  Количество прочитанных книг за год  \\\n",
       "1               Less than $10,000                                  97   \n",
       "7      $100,000 to under $150,000                                  97   \n",
       "13       $30,000 to under $40,000                                  97   \n",
       "15    9$100,000 to under $150,000                                  97   \n",
       "16      $75,000 to under $100,000                                  97   \n",
       "...                           ...                                 ...   \n",
       "2380   $100,000 to under $150,000                                   1   \n",
       "2381    $75,000 to under $100,000                                   1   \n",
       "2387     $50,000 to under $75,000                                   1   \n",
       "2388   $100,000 to under $150,000                                   1   \n",
       "2393   $100,000 to under $150,000                                   1   \n",
       "\n",
       "      Чтение печатных книг за год  Прослушивание аудиокниг за год  \\\n",
       "1                               1                               1   \n",
       "7                               1                               0   \n",
       "13                              1                               0   \n",
       "15                              1                               0   \n",
       "16                              1                               0   \n",
       "...                           ...                             ...   \n",
       "2380                            1                               0   \n",
       "2381                            1                               0   \n",
       "2387                            1                               0   \n",
       "2388                            1                               1   \n",
       "2393                            1                               0   \n",
       "\n",
       "      Чтение электронных книг за год  \\\n",
       "1                                  1   \n",
       "7                                  0   \n",
       "13                                 0   \n",
       "15                                 0   \n",
       "16                                 0   \n",
       "...                              ...   \n",
       "2380                               0   \n",
       "2381                               0   \n",
       "2387                               0   \n",
       "2388                               0   \n",
       "2393                               0   \n",
       "\n",
       "                    Откуда последняя прочитанная книга  \\\n",
       "1                                   Purchased the book   \n",
       "7                                   Purchased the book   \n",
       "13                                  Purchased the book   \n",
       "15    Borrowed the book from a friend or family member   \n",
       "16                                  Purchased the book   \n",
       "...                                                ...   \n",
       "2380  Borrowed the book from a friend or family member   \n",
       "2381                                Purchased the book   \n",
       "2387                                                 8   \n",
       "2388                                Purchased the book   \n",
       "2393                                Purchased the book   \n",
       "\n",
       "      Чтение новостей или газет  Чтение журналов  Настоящий читатель  \\\n",
       "1                             1                1                   1   \n",
       "7                             1                1                   0   \n",
       "13                            1                1                   0   \n",
       "15                            1                1                   0   \n",
       "16                            1                1                   0   \n",
       "...                         ...              ...                 ...   \n",
       "2380                          1                1                   0   \n",
       "2381                          1                1                   0   \n",
       "2387                          1                1                   0   \n",
       "2388                          1                1                   0   \n",
       "2393                          1                1                   0   \n",
       "\n",
       "      Любитель периодической печати Уровень дохода   z-score  \n",
       "1                                 1         Низкий  3.181283  \n",
       "7                                 1  Очень высокий  3.181283  \n",
       "13                                1  Выше среднего  3.181283  \n",
       "15                                1  Очень высокий  3.181283  \n",
       "16                                1        Высокий  3.181283  \n",
       "...                             ...            ...       ...  \n",
       "2380                              1  Очень высокий -0.751258  \n",
       "2381                              1        Высокий -0.751258  \n",
       "2387                              1  Выше среднего -0.751258  \n",
       "2388                              1  Очень высокий -0.751258  \n",
       "2393                              1  Очень высокий -0.751258  \n",
       "\n",
       "[734 rows x 18 columns]"
      ]
     },
     "execution_count": 239,
     "metadata": {},
     "output_type": "execute_result"
    }
   ],
   "source": [
    "df_read[(df_read['Любитель периодической печати'] == 1) & (df_read['Возраст'] >= 40)]"
   ]
  },
  {
   "cell_type": "code",
   "execution_count": 240,
   "id": "106a134e",
   "metadata": {},
   "outputs": [
    {
     "data": {
      "text/html": [
       "<div>\n",
       "<style scoped>\n",
       "    .dataframe tbody tr th:only-of-type {\n",
       "        vertical-align: middle;\n",
       "    }\n",
       "\n",
       "    .dataframe tbody tr th {\n",
       "        vertical-align: top;\n",
       "    }\n",
       "\n",
       "    .dataframe thead th {\n",
       "        text-align: right;\n",
       "    }\n",
       "</style>\n",
       "<table border=\"1\" class=\"dataframe\">\n",
       "  <thead>\n",
       "    <tr style=\"text-align: right;\">\n",
       "      <th></th>\n",
       "      <th>Возраст</th>\n",
       "      <th>Пол</th>\n",
       "      <th>Расовая принадлежность</th>\n",
       "      <th>Семейное положение</th>\n",
       "      <th>Уровень образования</th>\n",
       "      <th>Трудоустройство</th>\n",
       "      <th>Доход</th>\n",
       "      <th>Количество прочитанных книг за год</th>\n",
       "      <th>Чтение печатных книг за год</th>\n",
       "      <th>Прослушивание аудиокниг за год</th>\n",
       "      <th>Чтение электронных книг за год</th>\n",
       "      <th>Откуда последняя прочитанная книга</th>\n",
       "      <th>Чтение новостей или газет</th>\n",
       "      <th>Чтение журналов</th>\n",
       "      <th>Настоящий читатель</th>\n",
       "      <th>Любитель периодической печати</th>\n",
       "      <th>Уровень дохода</th>\n",
       "      <th>z-score</th>\n",
       "    </tr>\n",
       "  </thead>\n",
       "  <tbody>\n",
       "    <tr>\n",
       "      <th>2</th>\n",
       "      <td>32</td>\n",
       "      <td>Male</td>\n",
       "      <td>Mixed race</td>\n",
       "      <td>Never been married</td>\n",
       "      <td>High school graduate</td>\n",
       "      <td>Employed full-time</td>\n",
       "      <td>Less than $10,000</td>\n",
       "      <td>97</td>\n",
       "      <td>0</td>\n",
       "      <td>1</td>\n",
       "      <td>1</td>\n",
       "      <td>Borrowed the book from a friend or family member</td>\n",
       "      <td>1</td>\n",
       "      <td>1</td>\n",
       "      <td>0</td>\n",
       "      <td>1</td>\n",
       "      <td>Низкий</td>\n",
       "      <td>3.181283</td>\n",
       "    </tr>\n",
       "    <tr>\n",
       "      <th>10</th>\n",
       "      <td>23</td>\n",
       "      <td>Male</td>\n",
       "      <td>Black or African-American</td>\n",
       "      <td>Never been married</td>\n",
       "      <td>High school graduate</td>\n",
       "      <td>Employed part-time</td>\n",
       "      <td>9$100,000 to under $150,000</td>\n",
       "      <td>97</td>\n",
       "      <td>1</td>\n",
       "      <td>0</td>\n",
       "      <td>0</td>\n",
       "      <td>Borrowed the book from a friend or family member</td>\n",
       "      <td>1</td>\n",
       "      <td>1</td>\n",
       "      <td>0</td>\n",
       "      <td>1</td>\n",
       "      <td>Очень высокий</td>\n",
       "      <td>3.181283</td>\n",
       "    </tr>\n",
       "    <tr>\n",
       "      <th>11</th>\n",
       "      <td>19</td>\n",
       "      <td>Female</td>\n",
       "      <td>Black or African-American</td>\n",
       "      <td>Never been married</td>\n",
       "      <td>Some college, no 4-year degree</td>\n",
       "      <td>Employed part-time</td>\n",
       "      <td>$50,000 to under $75,000</td>\n",
       "      <td>97</td>\n",
       "      <td>1</td>\n",
       "      <td>0</td>\n",
       "      <td>0</td>\n",
       "      <td>Got the book some other way</td>\n",
       "      <td>1</td>\n",
       "      <td>1</td>\n",
       "      <td>0</td>\n",
       "      <td>1</td>\n",
       "      <td>Выше среднего</td>\n",
       "      <td>3.181283</td>\n",
       "    </tr>\n",
       "    <tr>\n",
       "      <th>89</th>\n",
       "      <td>38</td>\n",
       "      <td>Male</td>\n",
       "      <td>White</td>\n",
       "      <td>Married</td>\n",
       "      <td>College graduate</td>\n",
       "      <td>Not employed for pay</td>\n",
       "      <td>Refused</td>\n",
       "      <td>97</td>\n",
       "      <td>1</td>\n",
       "      <td>0</td>\n",
       "      <td>1</td>\n",
       "      <td>Got the book some other way</td>\n",
       "      <td>1</td>\n",
       "      <td>1</td>\n",
       "      <td>0</td>\n",
       "      <td>1</td>\n",
       "      <td>Refused</td>\n",
       "      <td>3.181283</td>\n",
       "    </tr>\n",
       "    <tr>\n",
       "      <th>91</th>\n",
       "      <td>38</td>\n",
       "      <td>Female</td>\n",
       "      <td>White</td>\n",
       "      <td>Married</td>\n",
       "      <td>College graduate</td>\n",
       "      <td>Have own business/self-employed</td>\n",
       "      <td>$100,000 to under $150,000</td>\n",
       "      <td>97</td>\n",
       "      <td>1</td>\n",
       "      <td>0</td>\n",
       "      <td>1</td>\n",
       "      <td>Purchased the book</td>\n",
       "      <td>1</td>\n",
       "      <td>1</td>\n",
       "      <td>0</td>\n",
       "      <td>1</td>\n",
       "      <td>Очень высокий</td>\n",
       "      <td>3.181283</td>\n",
       "    </tr>\n",
       "    <tr>\n",
       "      <th>...</th>\n",
       "      <td>...</td>\n",
       "      <td>...</td>\n",
       "      <td>...</td>\n",
       "      <td>...</td>\n",
       "      <td>...</td>\n",
       "      <td>...</td>\n",
       "      <td>...</td>\n",
       "      <td>...</td>\n",
       "      <td>...</td>\n",
       "      <td>...</td>\n",
       "      <td>...</td>\n",
       "      <td>...</td>\n",
       "      <td>...</td>\n",
       "      <td>...</td>\n",
       "      <td>...</td>\n",
       "      <td>...</td>\n",
       "      <td>...</td>\n",
       "      <td>...</td>\n",
       "    </tr>\n",
       "    <tr>\n",
       "      <th>2414</th>\n",
       "      <td>31</td>\n",
       "      <td>Male</td>\n",
       "      <td>White</td>\n",
       "      <td>Married</td>\n",
       "      <td>Post-graduate training/professional school aft...</td>\n",
       "      <td>Employed full-time</td>\n",
       "      <td>$100,000 to under $150,000</td>\n",
       "      <td>1</td>\n",
       "      <td>1</td>\n",
       "      <td>0</td>\n",
       "      <td>1</td>\n",
       "      <td>Got the book some other way</td>\n",
       "      <td>1</td>\n",
       "      <td>1</td>\n",
       "      <td>0</td>\n",
       "      <td>1</td>\n",
       "      <td>Очень высокий</td>\n",
       "      <td>-0.751258</td>\n",
       "    </tr>\n",
       "    <tr>\n",
       "      <th>2417</th>\n",
       "      <td>30</td>\n",
       "      <td>Male</td>\n",
       "      <td>White</td>\n",
       "      <td>Living with a partner</td>\n",
       "      <td>Some college, no 4-year degree</td>\n",
       "      <td>Employed full-time</td>\n",
       "      <td>$50,000 to under $75,000</td>\n",
       "      <td>1</td>\n",
       "      <td>1</td>\n",
       "      <td>0</td>\n",
       "      <td>0</td>\n",
       "      <td>Purchased the book</td>\n",
       "      <td>1</td>\n",
       "      <td>1</td>\n",
       "      <td>0</td>\n",
       "      <td>1</td>\n",
       "      <td>Выше среднего</td>\n",
       "      <td>-0.751258</td>\n",
       "    </tr>\n",
       "    <tr>\n",
       "      <th>2419</th>\n",
       "      <td>29</td>\n",
       "      <td>Male</td>\n",
       "      <td>White</td>\n",
       "      <td>Married</td>\n",
       "      <td>Some college, no 4-year degree</td>\n",
       "      <td>Employed full-time</td>\n",
       "      <td>$50,000 to under $75,000</td>\n",
       "      <td>1</td>\n",
       "      <td>1</td>\n",
       "      <td>0</td>\n",
       "      <td>0</td>\n",
       "      <td>Got the book some other way</td>\n",
       "      <td>1</td>\n",
       "      <td>1</td>\n",
       "      <td>0</td>\n",
       "      <td>1</td>\n",
       "      <td>Выше среднего</td>\n",
       "      <td>-0.751258</td>\n",
       "    </tr>\n",
       "    <tr>\n",
       "      <th>2427</th>\n",
       "      <td>24</td>\n",
       "      <td>Male</td>\n",
       "      <td>White</td>\n",
       "      <td>Never been married</td>\n",
       "      <td>College graduate</td>\n",
       "      <td>Employed full-time</td>\n",
       "      <td>$50,000 to under $75,000</td>\n",
       "      <td>1</td>\n",
       "      <td>0</td>\n",
       "      <td>0</td>\n",
       "      <td>1</td>\n",
       "      <td>Purchased the book</td>\n",
       "      <td>1</td>\n",
       "      <td>1</td>\n",
       "      <td>0</td>\n",
       "      <td>1</td>\n",
       "      <td>Выше среднего</td>\n",
       "      <td>-0.751258</td>\n",
       "    </tr>\n",
       "    <tr>\n",
       "      <th>2431</th>\n",
       "      <td>22</td>\n",
       "      <td>Male</td>\n",
       "      <td>White</td>\n",
       "      <td>Divorced</td>\n",
       "      <td>High school graduate</td>\n",
       "      <td>Employed full-time</td>\n",
       "      <td>$100,000 to under $150,000</td>\n",
       "      <td>1</td>\n",
       "      <td>0</td>\n",
       "      <td>1</td>\n",
       "      <td>0</td>\n",
       "      <td>Got the book some other way</td>\n",
       "      <td>1</td>\n",
       "      <td>1</td>\n",
       "      <td>0</td>\n",
       "      <td>1</td>\n",
       "      <td>Очень высокий</td>\n",
       "      <td>-0.751258</td>\n",
       "    </tr>\n",
       "  </tbody>\n",
       "</table>\n",
       "<p>265 rows × 18 columns</p>\n",
       "</div>"
      ],
      "text/plain": [
       "      Возраст     Пол     Расовая принадлежность     Семейное положение  \\\n",
       "2          32    Male                 Mixed race     Never been married   \n",
       "10         23    Male  Black or African-American     Never been married   \n",
       "11         19  Female  Black or African-American     Never been married   \n",
       "89         38    Male                      White                Married   \n",
       "91         38  Female                      White                Married   \n",
       "...       ...     ...                        ...                    ...   \n",
       "2414       31    Male                      White                Married   \n",
       "2417       30    Male                      White  Living with a partner   \n",
       "2419       29    Male                      White                Married   \n",
       "2427       24    Male                      White     Never been married   \n",
       "2431       22    Male                      White               Divorced   \n",
       "\n",
       "                                    Уровень образования  \\\n",
       "2                                  High school graduate   \n",
       "10                                 High school graduate   \n",
       "11                       Some college, no 4-year degree   \n",
       "89                                     College graduate   \n",
       "91                                     College graduate   \n",
       "...                                                 ...   \n",
       "2414  Post-graduate training/professional school aft...   \n",
       "2417                     Some college, no 4-year degree   \n",
       "2419                     Some college, no 4-year degree   \n",
       "2427                                   College graduate   \n",
       "2431                               High school graduate   \n",
       "\n",
       "                      Трудоустройство                        Доход  \\\n",
       "2                  Employed full-time            Less than $10,000   \n",
       "10                 Employed part-time  9$100,000 to under $150,000   \n",
       "11                 Employed part-time     $50,000 to under $75,000   \n",
       "89               Not employed for pay                      Refused   \n",
       "91    Have own business/self-employed   $100,000 to under $150,000   \n",
       "...                               ...                          ...   \n",
       "2414               Employed full-time   $100,000 to under $150,000   \n",
       "2417               Employed full-time     $50,000 to under $75,000   \n",
       "2419               Employed full-time     $50,000 to under $75,000   \n",
       "2427               Employed full-time     $50,000 to under $75,000   \n",
       "2431               Employed full-time   $100,000 to under $150,000   \n",
       "\n",
       "      Количество прочитанных книг за год  Чтение печатных книг за год  \\\n",
       "2                                     97                            0   \n",
       "10                                    97                            1   \n",
       "11                                    97                            1   \n",
       "89                                    97                            1   \n",
       "91                                    97                            1   \n",
       "...                                  ...                          ...   \n",
       "2414                                   1                            1   \n",
       "2417                                   1                            1   \n",
       "2419                                   1                            1   \n",
       "2427                                   1                            0   \n",
       "2431                                   1                            0   \n",
       "\n",
       "      Прослушивание аудиокниг за год  Чтение электронных книг за год  \\\n",
       "2                                  1                               1   \n",
       "10                                 0                               0   \n",
       "11                                 0                               0   \n",
       "89                                 0                               1   \n",
       "91                                 0                               1   \n",
       "...                              ...                             ...   \n",
       "2414                               0                               1   \n",
       "2417                               0                               0   \n",
       "2419                               0                               0   \n",
       "2427                               0                               1   \n",
       "2431                               1                               0   \n",
       "\n",
       "                    Откуда последняя прочитанная книга  \\\n",
       "2     Borrowed the book from a friend or family member   \n",
       "10    Borrowed the book from a friend or family member   \n",
       "11                         Got the book some other way   \n",
       "89                         Got the book some other way   \n",
       "91                                  Purchased the book   \n",
       "...                                                ...   \n",
       "2414                       Got the book some other way   \n",
       "2417                                Purchased the book   \n",
       "2419                       Got the book some other way   \n",
       "2427                                Purchased the book   \n",
       "2431                       Got the book some other way   \n",
       "\n",
       "      Чтение новостей или газет  Чтение журналов  Настоящий читатель  \\\n",
       "2                             1                1                   0   \n",
       "10                            1                1                   0   \n",
       "11                            1                1                   0   \n",
       "89                            1                1                   0   \n",
       "91                            1                1                   0   \n",
       "...                         ...              ...                 ...   \n",
       "2414                          1                1                   0   \n",
       "2417                          1                1                   0   \n",
       "2419                          1                1                   0   \n",
       "2427                          1                1                   0   \n",
       "2431                          1                1                   0   \n",
       "\n",
       "      Любитель периодической печати Уровень дохода   z-score  \n",
       "2                                 1         Низкий  3.181283  \n",
       "10                                1  Очень высокий  3.181283  \n",
       "11                                1  Выше среднего  3.181283  \n",
       "89                                1        Refused  3.181283  \n",
       "91                                1  Очень высокий  3.181283  \n",
       "...                             ...            ...       ...  \n",
       "2414                              1  Очень высокий -0.751258  \n",
       "2417                              1  Выше среднего -0.751258  \n",
       "2419                              1  Выше среднего -0.751258  \n",
       "2427                              1  Выше среднего -0.751258  \n",
       "2431                              1  Очень высокий -0.751258  \n",
       "\n",
       "[265 rows x 18 columns]"
      ]
     },
     "execution_count": 240,
     "metadata": {},
     "output_type": "execute_result"
    }
   ],
   "source": [
    "df_read[(df_read['Любитель периодической печати'] == 1) & (df_read['Возраст'] < 40)]"
   ]
  },
  {
   "cell_type": "markdown",
   "id": "cc827147",
   "metadata": {},
   "source": [
    "Среди тех, кому более или равно 40 лет, 734 представителя, которые читают и газеты, и журналы, являясь любителем чтения периодической печати. Среди тех, кому меньше 40 лет, всего 288 представителям интересно читать периодику. Исходя из полученных результатов, мы можем заключить, что чтением периодики интересуются в большей степени более зрелые респонденты. "
   ]
  },
  {
   "cell_type": "markdown",
   "id": "17fdcfdd",
   "metadata": {},
   "source": [
    "# Итоговые выводы по датасету"
   ]
  },
  {
   "cell_type": "markdown",
   "id": "449d6d91",
   "metadata": {},
   "source": [
    "1.\tЧем выше уровень образования, тем больше итоговое количество книг, прочитанных за год\n",
    "\n",
    "2.\tВозрастной показатель мало влияет на общее количество прочитанных за год книг и не является привилегией старшего поколения, согласно данному датасету\n",
    "\n",
    "3.\tЛюди с высоким и очень высоким уровнем дохода суммарно читают большее количество книг и могут позволить себе покупку печатных книг\n",
    "\n",
    "4.\tУ женщин проявлен больший интерес к чтению, чем у мужской половины\n",
    "\n",
    "5.\tОтсутствие рабочей нагрузки незначительно повышает интерес к чтению (в связи с наличием свободного времени), однако это не является поводом для полного отказа от чтения\n",
    "\n",
    "6.\tНесмотря на темпы жизни 21 века, печатная книга все еще занимает лидирующее место (с со значительным отрывом в 43%) среди других форматов чтения\n",
    "\n",
    "7.\tЧтение периодической печати (газет и журналов) в большей степени привлекает людей старшего поколения "
   ]
  },
  {
   "cell_type": "markdown",
   "id": "bd6aa0b2",
   "metadata": {},
   "source": [
    "# Спасибо за прочтение!"
   ]
  }
 ],
 "metadata": {
  "kernelspec": {
   "display_name": "Python 3 (ipykernel)",
   "language": "python",
   "name": "python3"
  },
  "language_info": {
   "codemirror_mode": {
    "name": "ipython",
    "version": 3
   },
   "file_extension": ".py",
   "mimetype": "text/x-python",
   "name": "python",
   "nbconvert_exporter": "python",
   "pygments_lexer": "ipython3",
   "version": "3.9.12"
  }
 },
 "nbformat": 4,
 "nbformat_minor": 5
}
